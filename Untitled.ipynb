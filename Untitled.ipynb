{
 "cells": [
  {
   "cell_type": "code",
   "execution_count": 1,
   "metadata": {
    "collapsed": true
   },
   "outputs": [],
   "source": [
    "\"\"\"\n",
    "\n",
    "\"\"\"\n",
    "\n",
    "a=1000\n",
    "b=a\n",
    "c=1000"
   ]
  },
  {
   "cell_type": "code",
   "execution_count": 2,
   "metadata": {},
   "outputs": [
    {
     "name": "stdout",
     "output_type": "stream",
     "text": [
      "1000\n"
     ]
    }
   ],
   "source": [
    "print a"
   ]
  },
  {
   "cell_type": "code",
   "execution_count": 1,
   "metadata": {},
   "outputs": [
    {
     "name": "stdout",
     "output_type": "stream",
     "text": [
      "st1\n",
      "st2\n",
      "st3\n",
      "st4\n"
     ]
    }
   ],
   "source": [
    "print \"st1\"\n",
    "print \"st2\"\n",
    "print \"st3\"\n",
    "print \"st4\""
   ]
  },
  {
   "cell_type": "code",
   "execution_count": 2,
   "metadata": {},
   "outputs": [
    {
     "name": "stdout",
     "output_type": "stream",
     "text": [
      "a is big\n",
      "b is big\n"
     ]
    }
   ],
   "source": [
    "print \"a is big\"\n",
    "print \"b is big\""
   ]
  },
  {
   "cell_type": "code",
   "execution_count": 3,
   "metadata": {},
   "outputs": [
    {
     "name": "stdout",
     "output_type": "stream",
     "text": [
      "b is big\n"
     ]
    }
   ],
   "source": [
    "a=10\n",
    "b=20\n",
    "if a>b:\n",
    "    print \"a is big\"\n",
    "else:\n",
    "    print \"b is big\""
   ]
  },
  {
   "cell_type": "code",
   "execution_count": 4,
   "metadata": {},
   "outputs": [
    {
     "name": "stdout",
     "output_type": "stream",
     "text": [
      "st1\n",
      "st2\n",
      "st3\n",
      "st4\n"
     ]
    }
   ],
   "source": [
    "# for while \n",
    "print \"st1\"\n",
    "print \"st2\"\n",
    "print \"st3\"\n",
    "print \"st4\""
   ]
  },
  {
   "cell_type": "code",
   "execution_count": 8,
   "metadata": {},
   "outputs": [
    {
     "name": "stdout",
     "output_type": "stream",
     "text": [
      "st1\n",
      "st2\n",
      "st3\n",
      "st4\n",
      "st5\n",
      "st6\n",
      "st7\n",
      "st8\n",
      "st9\n",
      "st10\n",
      "st11\n",
      "st12\n",
      "st13\n",
      "st14\n",
      "st15\n",
      "st16\n",
      "st17\n",
      "st18\n",
      "st19\n",
      "st20\n",
      "st21\n",
      "st22\n",
      "st23\n",
      "st24\n",
      "st25\n",
      "st26\n",
      "st27\n",
      "st28\n",
      "st29\n",
      "st30\n",
      "st31\n",
      "st32\n",
      "st33\n",
      "st34\n",
      "st35\n",
      "st36\n",
      "st37\n",
      "st38\n",
      "st39\n",
      "st40\n",
      "st41\n",
      "st42\n",
      "st43\n",
      "st44\n",
      "st45\n",
      "st46\n",
      "st47\n",
      "st48\n",
      "st49\n",
      "st50\n",
      "st51\n",
      "st52\n",
      "st53\n",
      "st54\n",
      "st55\n",
      "st56\n",
      "st57\n",
      "st58\n",
      "st59\n",
      "st60\n",
      "st61\n",
      "st62\n",
      "st63\n",
      "st64\n",
      "st65\n",
      "st66\n",
      "st67\n",
      "st68\n",
      "st69\n",
      "st70\n",
      "st71\n",
      "st72\n",
      "st73\n",
      "st74\n",
      "st75\n",
      "st76\n",
      "st77\n",
      "st78\n",
      "st79\n",
      "st80\n",
      "st81\n",
      "st82\n",
      "st83\n",
      "st84\n",
      "st85\n",
      "st86\n",
      "st87\n",
      "st88\n",
      "st89\n",
      "st90\n",
      "st91\n",
      "st92\n",
      "st93\n",
      "st94\n",
      "st95\n",
      "st96\n",
      "st97\n",
      "st98\n",
      "st99\n"
     ]
    }
   ],
   "source": [
    "for i in range(1,100):\n",
    "    print \"st\"+str(i)"
   ]
  },
  {
   "cell_type": "code",
   "execution_count": 10,
   "metadata": {},
   "outputs": [
    {
     "name": "stdout",
     "output_type": "stream",
     "text": [
      "some statements\n",
      "a=10,b=20\n",
      "result= 30\n",
      "some other statements\n",
      "a=100,b=200\n",
      "result= 300\n",
      "some other statements\n",
      "a=1000,b=2000\n",
      "result= 3000\n",
      "some other more statements\n",
      "a=10000,b=20000\n",
      "result= 30000\n",
      "program ended\n"
     ]
    }
   ],
   "source": [
    "# functions\n",
    "print \"some statements\"\n",
    "a=10\n",
    "b=20\n",
    "print \"a=%s,b=%s\"%(a,b)\n",
    "res=a+b\n",
    "print \"result=\",res\n",
    "print \"some other statements\"\n",
    "a=100\n",
    "b=200\n",
    "print \"a=%s,b=%s\"%(a,b)\n",
    "res=a+b\n",
    "print \"result=\",res\n",
    "print \"some other statements\"\n",
    "a=1000\n",
    "b=2000\n",
    "print \"a=%s,b=%s\"%(a,b)\n",
    "res=a+b\n",
    "print \"result=\",res\n",
    "print \"some other more statements\"\n",
    "a=10000\n",
    "b=20000\n",
    "print \"a=%s,b=%s\"%(a,b)\n",
    "res=a+b\n",
    "print \"result=\",res\n",
    "print \"program ended\""
   ]
  },
  {
   "cell_type": "code",
   "execution_count": 11,
   "metadata": {},
   "outputs": [
    {
     "name": "stdout",
     "output_type": "stream",
     "text": [
      "some statements\n",
      "a=10,b=20\n",
      "result= 30\n",
      "some other statements\n",
      "a=100,b=200\n",
      "result= 300\n",
      "some other statements\n",
      "a=1000,b=2000\n",
      "result= 3000\n",
      "some other more statements\n",
      "a=10000,b=20000\n",
      "result= 30000\n",
      "program ended\n"
     ]
    }
   ],
   "source": [
    "# functions\n",
    "def fun(a,b):\n",
    "    print \"a=%s,b=%s\"%(a,b)\n",
    "    res=a+b\n",
    "    print \"result=\",res\n",
    "print \"some statements\"\n",
    "fun(10,20)\n",
    "print \"some other statements\"\n",
    "fun(100,200)\n",
    "print \"some other statements\"\n",
    "fun(1000,2000)\n",
    "print \"some other more statements\"\n",
    "fun(10000,20000)\n",
    "print \"program ended\""
   ]
  },
  {
   "cell_type": "code",
   "execution_count": 12,
   "metadata": {},
   "outputs": [
    {
     "name": "stdout",
     "output_type": "stream",
     "text": [
      "some statements\n",
      "a=10,b=20\n",
      "sum= 30\n",
      "some other statements\n",
      "a=100,b=200\n",
      "sum= 300\n",
      "some other statements\n",
      "a=1000,b=2000\n",
      "sum= 3000\n",
      "some other more statements\n",
      "a=10000,b=20000\n",
      "sum= 30000\n",
      "program ended\n"
     ]
    }
   ],
   "source": [
    "# functions\n",
    "print \"some statements\"\n",
    "a=10\n",
    "b=20\n",
    "print \"a=%s,b=%s\"%(a,b)\n",
    "res=a+b\n",
    "print \"sum=\",res\n",
    "print \"some other statements\"\n",
    "a=100\n",
    "b=200\n",
    "print \"a=%s,b=%s\"%(a,b)\n",
    "res=a+b\n",
    "print \"sum=\",res\n",
    "print \"some other statements\"\n",
    "a=1000\n",
    "b=2000\n",
    "print \"a=%s,b=%s\"%(a,b)\n",
    "res=a+b\n",
    "print \"sum=\",res\n",
    "print \"some other more statements\"\n",
    "a=10000\n",
    "b=20000\n",
    "print \"a=%s,b=%s\"%(a,b)\n",
    "res=a+b\n",
    "print \"sum=\",res\n",
    "print \"program ended\""
   ]
  },
  {
   "cell_type": "code",
   "execution_count": 13,
   "metadata": {},
   "outputs": [
    {
     "name": "stdout",
     "output_type": "stream",
     "text": [
      "some statements\n",
      "a=10,b=20\n",
      "sum= 30\n",
      "some other statements\n",
      "a=100,b=200\n",
      "sum= 300\n",
      "some other statements\n",
      "a=1000,b=2000\n",
      "sum= 3000\n",
      "some other more statements\n",
      "a=10000,b=20000\n",
      "sum= 30000\n",
      "program ended\n"
     ]
    }
   ],
   "source": [
    "# functions\n",
    "def fun(a,b):\n",
    "    print \"a=%s,b=%s\"%(a,b)\n",
    "    res=a+b\n",
    "    print \"sum=\",res\n",
    "print \"some statements\"\n",
    "fun(10,20)\n",
    "print \"some other statements\"\n",
    "fun(100,200)\n",
    "print \"some other statements\"\n",
    "fun(1000,2000)\n",
    "print \"some other more statements\"\n",
    "fun(10000,20000)\n",
    "print \"program ended\""
   ]
  },
  {
   "cell_type": "code",
   "execution_count": 14,
   "metadata": {
    "collapsed": true
   },
   "outputs": [],
   "source": [
    "#modules"
   ]
  },
  {
   "cell_type": "code",
   "execution_count": 15,
   "metadata": {
    "collapsed": true
   },
   "outputs": [],
   "source": [
    "# datastructures\n",
    "a=10\n",
    "b=20\n",
    "c=30\n",
    "d=40\n",
    "e=[10,20,30,40]\n",
    "f=[10,12.34,\"sdfsd\",(10,20,30)]"
   ]
  },
  {
   "cell_type": "code",
   "execution_count": 16,
   "metadata": {},
   "outputs": [
    {
     "name": "stdout",
     "output_type": "stream",
     "text": [
      "a\n",
      "n\n",
      "i\n",
      "l\n",
      ",\n",
      " \n",
      "a\n",
      "s\n",
      "h\n",
      "o\n",
      "k\n",
      ",\n",
      " \n",
      "j\n",
      "a\n",
      "y\n",
      ",\n",
      " \n",
      "p\n",
      "a\n",
      "v\n",
      "a\n",
      "n\n"
     ]
    }
   ],
   "source": [
    "s=\"anil, ashok, jay, pavan\"\n",
    "for i in s:\n",
    "    print i"
   ]
  },
  {
   "cell_type": "code",
   "execution_count": 17,
   "metadata": {
    "collapsed": true
   },
   "outputs": [],
   "source": [
    "a=10\n",
    "b=20\n",
    "c=30"
   ]
  },
  {
   "cell_type": "code",
   "execution_count": 18,
   "metadata": {},
   "outputs": [
    {
     "name": "stdout",
     "output_type": "stream",
     "text": [
      "[0, 1, 2, 3, 4]\n",
      "[0, 1, 4, 9, 16]\n"
     ]
    }
   ],
   "source": [
    "import matplotlib.pyplot as plt\n",
    "x=range(5)\n",
    "y=map(lambda i:i**2,x)\n",
    "print x\n",
    "print y"
   ]
  },
  {
   "cell_type": "code",
   "execution_count": 19,
   "metadata": {},
   "outputs": [
    {
     "data": {
      "image/png": "[encoded data removed]",
      "text/plain": [
       "<matplotlib.figure.Figure at 0x7f52d0426990>"
      ]
     },
     "metadata": {},
     "output_type": "display_data"
    }
   ],
   "source": [
    "import matplotlib.pyplot as plt\n",
    "x=range(5)\n",
    "y=map(lambda i:i**2,x)\n",
    "plt.plot(x,y)\n",
    "plt.show()"
   ]
  },
  {
   "cell_type": "code",
   "execution_count": 20,
   "metadata": {},
   "outputs": [
    {
     "data": {
      "image/png": "[encoded data removed]",
      "text/plain": [
       "<matplotlib.figure.Figure at 0x7f52d00c4250>"
      ]
     },
     "metadata": {},
     "output_type": "display_data"
    }
   ],
   "source": [
    "import matplotlib.pyplot as plt\n",
    "x=range(5)\n",
    "y=map(lambda i:i**2,x)\n",
    "plt.plot(x,y)\n",
    "plt.savefig(\"line graph.jpg\")\n",
    "plt.show()"
   ]
  },
  {
   "cell_type": "code",
   "execution_count": 21,
   "metadata": {
    "collapsed": true
   },
   "outputs": [],
   "source": [
    "f=open(\"data.csv\",\"w\")\n",
    "f.write(\"sdafdsfsdfsdf\")\n",
    "f.close()"
   ]
  },
  {
   "cell_type": "code",
   "execution_count": 22,
   "metadata": {},
   "outputs": [
    {
     "name": "stdout",
     "output_type": "stream",
     "text": [
      "Enter:12\n",
      "12\n"
     ]
    }
   ],
   "source": [
    "a=raw_input(\"Enter:\")\n",
    "print int(a)"
   ]
  },
  {
   "cell_type": "code",
   "execution_count": 23,
   "metadata": {},
   "outputs": [
    {
     "name": "stdout",
     "output_type": "stream",
     "text": [
      "Enter:qwert12345\n"
     ]
    },
    {
     "ename": "ValueError",
     "evalue": "invalid literal for int() with base 10: 'qwert12345'",
     "output_type": "error",
     "traceback": [
      "\u001b[0;31m---------------------------------------------------------------------------\u001b[0m",
      "\u001b[0;31mValueError\u001b[0m                                Traceback (most recent call last)",
      "\u001b[0;32m<ipython-input-23-9d003c8a9715>\u001b[0m in \u001b[0;36m<module>\u001b[0;34m()\u001b[0m\n\u001b[1;32m      1\u001b[0m \u001b[0ma\u001b[0m\u001b[0;34m=\u001b[0m\u001b[0mraw_input\u001b[0m\u001b[0;34m(\u001b[0m\u001b[0;34m\"Enter:\"\u001b[0m\u001b[0;34m)\u001b[0m\u001b[0;34m\u001b[0m\u001b[0m\n\u001b[0;32m----> 2\u001b[0;31m \u001b[0;32mprint\u001b[0m \u001b[0mint\u001b[0m\u001b[0;34m(\u001b[0m\u001b[0ma\u001b[0m\u001b[0;34m)\u001b[0m\u001b[0;34m\u001b[0m\u001b[0m\n\u001b[0m",
      "\u001b[0;31mValueError\u001b[0m: invalid literal for int() with base 10: 'qwert12345'"
     ]
    }
   ],
   "source": [
    "a=raw_input(\"Enter:\")\n",
    "print int(a)"
   ]
  },
  {
   "cell_type": "code",
   "execution_count": 24,
   "metadata": {},
   "outputs": [
    {
     "name": "stdout",
     "output_type": "stream",
     "text": [
      "Enter:12\n",
      "12\n"
     ]
    }
   ],
   "source": [
    "try:\n",
    "    a=raw_input(\"Enter:\")\n",
    "    print int(a)\n",
    "except:\n",
    "    print \"wrong input\""
   ]
  },
  {
   "cell_type": "code",
   "execution_count": 25,
   "metadata": {},
   "outputs": [
    {
     "name": "stdout",
     "output_type": "stream",
     "text": [
      "Enter:3erewr\n",
      "wrong input\n"
     ]
    }
   ],
   "source": [
    "try:\n",
    "    a=raw_input(\"Enter:\")\n",
    "    print int(a)\n",
    "except:\n",
    "    print \"wrong input\""
   ]
  },
  {
   "cell_type": "code",
   "execution_count": null,
   "metadata": {
    "collapsed": true
   },
   "outputs": [],
   "source": []
  }
 ],
 "metadata": {
  "kernelspec": {
   "display_name": "Python 2",
   "language": "python",
   "name": "python2"
  },
  "language_info": {
   "codemirror_mode": {
    "name": "ipython",
    "version": 2
   },
   "file_extension": ".py",
   "mimetype": "text/x-python",
   "name": "python",
   "nbconvert_exporter": "python",
   "pygments_lexer": "ipython2",
   "version": "2.7.14"
  }
 },
 "nbformat": 4,
 "nbformat_minor": 2
}
