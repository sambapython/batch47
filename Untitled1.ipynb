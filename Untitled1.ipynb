{
 "cells": [
  {
   "cell_type": "code",
   "execution_count": 1,
   "metadata": {},
   "outputs": [
    {
     "name": "stdout",
     "output_type": "stream",
     "text": [
      "name,age,sal\n",
      "danush,29,60000\n",
      "karthikeya,26,30000\n",
      "kiran,27,50000\n",
      "danush,26,60000\n",
      "jayaram,28,70000\n",
      "shr\n"
     ]
    }
   ],
   "source": [
    "data = open(\"data.csv\").read()\n",
    "print data[:100]"
   ]
  },
  {
   "cell_type": "code",
   "execution_count": 2,
   "metadata": {},
   "outputs": [
    {
     "name": "stdout",
     "output_type": "stream",
     "text": [
      "sal\n",
      "60000\n",
      "30000\n",
      "50000\n",
      "60000\n",
      "70000\n",
      "50000\n",
      "50000\n",
      "60000\n",
      "70000\n",
      "70000\n",
      "40000\n",
      "40000\n",
      "60000\n",
      "80000\n",
      "50000\n",
      "70000\n",
      "60000\n",
      "50000\n",
      "30000\n",
      "60000\n",
      "80000\n",
      "60000\n",
      "40000\n",
      "80000\n",
      "60000\n",
      "50000\n",
      "80000\n",
      "60000\n",
      "70000\n",
      "30000\n",
      "50000\n",
      "80000\n",
      "60000\n",
      "50000\n",
      "60000\n",
      "40000\n",
      "70000\n",
      "50000\n",
      "50000\n",
      "30000\n",
      "40000\n",
      "30000\n",
      "60000\n",
      "80000\n",
      "60000\n",
      "60000\n",
      "60000\n",
      "80000\n",
      "30000\n",
      "70000\n",
      "60000\n",
      "40000\n",
      "30000\n",
      "50000\n",
      "30000\n",
      "40000\n",
      "80000\n",
      "60000\n",
      "70000\n",
      "70000\n",
      "60000\n",
      "40000\n",
      "60000\n",
      "50000\n",
      "60000\n",
      "50000\n",
      "30000\n",
      "80000\n",
      "40000\n",
      "40000\n",
      "50000\n",
      "80000\n",
      "60000\n",
      "40000\n",
      "80000\n",
      "50000\n",
      "50000\n",
      "80000\n",
      "80000\n",
      "60000\n",
      "60000\n",
      "70000\n",
      "50000\n",
      "50000\n",
      "80000\n",
      "70000\n",
      "40000\n",
      "60000\n",
      "50000\n",
      "60000\n",
      "50000\n",
      "80000\n",
      "40000\n",
      "40000\n",
      "70000\n",
      "40000\n",
      "80000\n",
      "80000\n",
      "40000\n",
      "70000\n"
     ]
    }
   ],
   "source": [
    "data = open(\"data.csv\").read()\n",
    "for row in data.splitlines():\n",
    "    print row.split(\",\")[-1]"
   ]
  },
  {
   "cell_type": "code",
   "execution_count": 3,
   "metadata": {},
   "outputs": [
    {
     "name": "stdout",
     "output_type": "stream",
     "text": [
      "name,age,sal\n",
      "danush,29,60000\n",
      "karthikeya,26,30000\n",
      "kiran,27,50000\n",
      "danush,26,60000\n",
      "jayaram,28,70000\n",
      "shruthi,27,50000\n",
      "shruthi,27,50000\n",
      "kiran,25,60000\n",
      "karthikeya,26,70000\n",
      "danush,25,70000\n",
      "karthikeya,26,40000\n",
      "kiran,26,40000\n",
      "shruthi,29,60000\n",
      "jayaram,29,80000\n",
      "jayaram,25,50000\n",
      "danush,24,70000\n",
      "shruthi,26,60000\n",
      "thrishanth,28,50000\n",
      "kiran,26,30000\n",
      "kiran,26,60000\n",
      "jayaram,27,80000\n",
      "kiran,26,60000\n",
      "karthikeya,29,40000\n",
      "danush,28,80000\n",
      "kiran,28,60000\n",
      "jayaram,24,50000\n",
      "karthikeya,25,80000\n",
      "kiran,25,60000\n",
      "kiran,29,70000\n",
      "thrishanth,29,30000\n",
      "karthikeya,25,50000\n",
      "thrishanth,25,80000\n",
      "jayaram,29,60000\n",
      "shruthi,25,50000\n",
      "jayaram,27,60000\n",
      "jayaram,27,40000\n",
      "thrishanth,24,70000\n",
      "karthikeya,25,50000\n",
      "karthikeya,28,50000\n",
      "shruthi,26,30000\n",
      "danush,28,40000\n",
      "thrishanth,29,30000\n",
      "thrishanth,28,60000\n",
      "thrishanth,24,80000\n",
      "jayaram,24,60000\n",
      "shruthi,25,60000\n",
      "jayaram,26,60000\n",
      "kiran,26,80000\n",
      "kiran,27,30000\n",
      "thrishanth,27,70000\n",
      "jayaram,28,60000\n",
      "jayaram,24,40000\n",
      "danush,27,30000\n",
      "jayaram,29,50000\n",
      "danush,27,30000\n",
      "karthikeya,25,40000\n",
      "thrishanth,29,80000\n",
      "shruthi,26,60000\n",
      "shruthi,28,70000\n",
      "kiran,27,70000\n",
      "kiran,28,60000\n",
      "thrishanth,25,40000\n",
      "kiran,24,60000\n",
      "danush,27,50000\n",
      "kiran,29,60000\n",
      "kiran,29,50000\n",
      "jayaram,26,30000\n",
      "karthikeya,27,80000\n",
      "kiran,26,40000\n",
      "karthikeya,28,40000\n",
      "kiran,29,50000\n",
      "karthikeya,29,80000\n",
      "shruthi,27,60000\n",
      "danush,24,40000\n",
      "danush,25,80000\n",
      "kiran,25,50000\n",
      "thrishanth,25,50000\n",
      "karthikeya,26,80000\n",
      "kiran,26,80000\n",
      "kiran,26,60000\n",
      "danush,27,60000\n",
      "karthikeya,24,70000\n",
      "karthikeya,28,50000\n",
      "thrishanth,29,50000\n",
      "thrishanth,24,80000\n",
      "danush,24,70000\n",
      "danush,29,40000\n",
      "jayaram,25,60000\n",
      "shruthi,25,50000\n",
      "kiran,27,60000\n",
      "danush,27,50000\n",
      "jayaram,28,80000\n",
      "danush,29,40000\n",
      "thrishanth,28,40000\n",
      "kiran,28,70000\n",
      "kiran,29,40000\n",
      "danush,26,80000\n",
      "shruthi,26,80000\n",
      "danush,27,40000\n",
      "kiran,25,70000\n",
      "\n"
     ]
    }
   ],
   "source": [
    "print data"
   ]
  },
  {
   "cell_type": "code",
   "execution_count": 5,
   "metadata": {},
   "outputs": [
    {
     "name": "stdout",
     "output_type": "stream",
     "text": [
      "anil,26,9676622023\n",
      "27,ashok,9676622024\n",
      "9676622025,pavan,30\n",
      "\n"
     ]
    }
   ],
   "source": [
    "data = open(\"data1.csv\").read()\n",
    "print data"
   ]
  },
  {
   "cell_type": "code",
   "execution_count": 6,
   "metadata": {},
   "outputs": [
    {
     "name": "stdout",
     "output_type": "stream",
     "text": [
      "9676622023\n",
      "9676622024\n",
      "30\n"
     ]
    }
   ],
   "source": [
    "data = open(\"data1.csv\").read()\n",
    "for row in data.splitlines():\n",
    "    print row.split(\",\")[-1]"
   ]
  },
  {
   "cell_type": "code",
   "execution_count": 7,
   "metadata": {},
   "outputs": [
    {
     "name": "stdout",
     "output_type": "stream",
     "text": [
      "['9676622023', '9676622024', '9676622025']\n"
     ]
    }
   ],
   "source": [
    "import re\n",
    "print re.findall(\"[0-9]{10}\",data)"
   ]
  },
  {
   "cell_type": "code",
   "execution_count": 8,
   "metadata": {
    "collapsed": true
   },
   "outputs": [],
   "source": [
    "a=1000\n",
    "b=2000\n",
    "c=a\n",
    "d=1000"
   ]
  },
  {
   "cell_type": "code",
   "execution_count": 9,
   "metadata": {},
   "outputs": [
    {
     "name": "stdout",
     "output_type": "stream",
     "text": [
      "1000\n"
     ]
    }
   ],
   "source": [
    "print a"
   ]
  },
  {
   "cell_type": "code",
   "execution_count": 10,
   "metadata": {},
   "outputs": [
    {
     "name": "stdout",
     "output_type": "stream",
     "text": [
      "1000\n"
     ]
    }
   ],
   "source": [
    "print c"
   ]
  },
  {
   "cell_type": "code",
   "execution_count": 11,
   "metadata": {},
   "outputs": [
    {
     "name": "stdout",
     "output_type": "stream",
     "text": [
      "1000\n",
      "1000\n"
     ]
    }
   ],
   "source": [
    "a=1000\n",
    "c=a\n",
    "print a\n",
    "print c"
   ]
  },
  {
   "cell_type": "code",
   "execution_count": 12,
   "metadata": {},
   "outputs": [
    {
     "name": "stdout",
     "output_type": "stream",
     "text": [
      "4000\n",
      "1000\n"
     ]
    }
   ],
   "source": [
    "a=1000\n",
    "c=a\n",
    "a=4000\n",
    "print a\n",
    "print c"
   ]
  },
  {
   "cell_type": "code",
   "execution_count": 14,
   "metadata": {},
   "outputs": [
    {
     "name": "stdout",
     "output_type": "stream",
     "text": [
      "1000 id-a 94659907101456\n",
      "2000 id-b 94659907100808\n",
      "1000 id-c 94659907101456\n",
      "1000 id-d 94659907825984\n"
     ]
    }
   ],
   "source": [
    "a=1000\n",
    "b=2000\n",
    "c=a\n",
    "d=1000\n",
    "print a,\"id-a\", id(a)\n",
    "print b, \"id-b\", id(b)\n",
    "print c, \"id-c\", id(c)\n",
    "print d, \"id-d\", id(d)"
   ]
  },
  {
   "cell_type": "code",
   "execution_count": null,
   "metadata": {
    "collapsed": true
   },
   "outputs": [],
   "source": [
    "a=1000\n",
    "b=2000\n",
    "c=a\n",
    "d=1000\n",
    "a=400"
   ]
  }
 ],
 "metadata": {
  "kernelspec": {
   "display_name": "Python 2",
   "language": "python",
   "name": "python2"
  },
  "language_info": {
   "codemirror_mode": {
    "name": "ipython",
    "version": 2
   },
   "file_extension": ".py",
   "mimetype": "text/x-python",
   "name": "python",
   "nbconvert_exporter": "python",
   "pygments_lexer": "ipython2",
   "version": "2.7.14"
  }
 },
 "nbformat": 4,
 "nbformat_minor": 2
}
