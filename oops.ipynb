{
 "cells": [
  {
   "cell_type": "code",
   "execution_count": 1,
   "metadata": {},
   "outputs": [
    {
     "name": "stdout",
     "output_type": "stream",
     "text": [
      "30\n",
      "200\n",
      "0.5\n"
     ]
    }
   ],
   "source": [
    "def add(a,b):\n",
    "    return a+b\n",
    "def mul(c,d):\n",
    "    return c*d\n",
    "def div(e,f):\n",
    "    return float(e)/f\n",
    "\n",
    "print add(10,20)\n",
    "print mul(10,20)\n",
    "print div(10,20)"
   ]
  },
  {
   "cell_type": "code",
   "execution_count": 3,
   "metadata": {},
   "outputs": [
    {
     "ename": "NameError",
     "evalue": "global name 'h' is not defined",
     "output_type": "error",
     "traceback": [
      "\u001b[0;31m---------------------------------------------------------------------------\u001b[0m",
      "\u001b[0;31mNameError\u001b[0m                                 Traceback (most recent call last)",
      "\u001b[0;32m<ipython-input-3-e8c31cb2a1b8>\u001b[0m in \u001b[0;36m<module>\u001b[0;34m()\u001b[0m\n\u001b[1;32m      4\u001b[0m \u001b[0;32mdef\u001b[0m \u001b[0mfun1\u001b[0m\u001b[0;34m(\u001b[0m\u001b[0;34m)\u001b[0m\u001b[0;34m:\u001b[0m\u001b[0;34m\u001b[0m\u001b[0m\n\u001b[1;32m      5\u001b[0m     \u001b[0;32mprint\u001b[0m \u001b[0mh\u001b[0m\u001b[0;34m\u001b[0m\u001b[0m\n\u001b[0;32m----> 6\u001b[0;31m \u001b[0mfun1\u001b[0m\u001b[0;34m(\u001b[0m\u001b[0;34m)\u001b[0m\u001b[0;34m\u001b[0m\u001b[0m\n\u001b[0m\u001b[1;32m      7\u001b[0m \u001b[0;34m\u001b[0m\u001b[0m\n\u001b[1;32m      8\u001b[0m \u001b[0;32mprint\u001b[0m \u001b[0mh\u001b[0m\u001b[0;34m\u001b[0m\u001b[0m\n",
      "\u001b[0;32m<ipython-input-3-e8c31cb2a1b8>\u001b[0m in \u001b[0;36mfun1\u001b[0;34m()\u001b[0m\n\u001b[1;32m      3\u001b[0m \u001b[0mfun\u001b[0m\u001b[0;34m(\u001b[0m\u001b[0;36m10\u001b[0m\u001b[0;34m,\u001b[0m\u001b[0;36m20\u001b[0m\u001b[0;34m)\u001b[0m\u001b[0;34m\u001b[0m\u001b[0m\n\u001b[1;32m      4\u001b[0m \u001b[0;32mdef\u001b[0m \u001b[0mfun1\u001b[0m\u001b[0;34m(\u001b[0m\u001b[0;34m)\u001b[0m\u001b[0;34m:\u001b[0m\u001b[0;34m\u001b[0m\u001b[0m\n\u001b[0;32m----> 5\u001b[0;31m     \u001b[0;32mprint\u001b[0m \u001b[0mh\u001b[0m\u001b[0;34m\u001b[0m\u001b[0m\n\u001b[0m\u001b[1;32m      6\u001b[0m \u001b[0mfun1\u001b[0m\u001b[0;34m(\u001b[0m\u001b[0;34m)\u001b[0m\u001b[0;34m\u001b[0m\u001b[0m\n\u001b[1;32m      7\u001b[0m \u001b[0;34m\u001b[0m\u001b[0m\n",
      "\u001b[0;31mNameError\u001b[0m: global name 'h' is not defined"
     ]
    }
   ],
   "source": [
    "def fun(c,d):\n",
    "    h=c+d\n",
    "fun(10,20)\n",
    "def fun1():\n",
    "    print h\n",
    "fun1()\n",
    "\n",
    "print h"
   ]
  },
  {
   "cell_type": "code",
   "execution_count": 4,
   "metadata": {},
   "outputs": [
    {
     "ename": "NameError",
     "evalue": "global name 'h' is not defined",
     "output_type": "error",
     "traceback": [
      "\u001b[0;31m---------------------------------------------------------------------------\u001b[0m",
      "\u001b[0;31mNameError\u001b[0m                                 Traceback (most recent call last)",
      "\u001b[0;32m<ipython-input-4-77e23ba38923>\u001b[0m in \u001b[0;36m<module>\u001b[0;34m()\u001b[0m\n\u001b[1;32m      2\u001b[0m     \u001b[0mh\u001b[0m\u001b[0;34m=\u001b[0m\u001b[0mc\u001b[0m\u001b[0;34m+\u001b[0m\u001b[0md\u001b[0m\u001b[0;34m\u001b[0m\u001b[0m\n\u001b[1;32m      3\u001b[0m \u001b[0;34m\u001b[0m\u001b[0m\n\u001b[0;32m----> 4\u001b[0;31m \u001b[0mfun1\u001b[0m\u001b[0;34m(\u001b[0m\u001b[0;34m)\u001b[0m\u001b[0;34m\u001b[0m\u001b[0m\n\u001b[0m\u001b[1;32m      5\u001b[0m \u001b[0;34m\u001b[0m\u001b[0m\n\u001b[1;32m      6\u001b[0m \u001b[0;32mprint\u001b[0m \u001b[0mh\u001b[0m\u001b[0;34m\u001b[0m\u001b[0m\n",
      "\u001b[0;32m<ipython-input-3-e8c31cb2a1b8>\u001b[0m in \u001b[0;36mfun1\u001b[0;34m()\u001b[0m\n\u001b[1;32m      3\u001b[0m \u001b[0mfun\u001b[0m\u001b[0;34m(\u001b[0m\u001b[0;36m10\u001b[0m\u001b[0;34m,\u001b[0m\u001b[0;36m20\u001b[0m\u001b[0;34m)\u001b[0m\u001b[0;34m\u001b[0m\u001b[0m\n\u001b[1;32m      4\u001b[0m \u001b[0;32mdef\u001b[0m \u001b[0mfun1\u001b[0m\u001b[0;34m(\u001b[0m\u001b[0;34m)\u001b[0m\u001b[0;34m:\u001b[0m\u001b[0;34m\u001b[0m\u001b[0m\n\u001b[0;32m----> 5\u001b[0;31m     \u001b[0;32mprint\u001b[0m \u001b[0mh\u001b[0m\u001b[0;34m\u001b[0m\u001b[0m\n\u001b[0m\u001b[1;32m      6\u001b[0m \u001b[0mfun1\u001b[0m\u001b[0;34m(\u001b[0m\u001b[0;34m)\u001b[0m\u001b[0;34m\u001b[0m\u001b[0m\n\u001b[1;32m      7\u001b[0m \u001b[0;34m\u001b[0m\u001b[0m\n",
      "\u001b[0;31mNameError\u001b[0m: global name 'h' is not defined"
     ]
    }
   ],
   "source": [
    "def fun(c,d):\n",
    "    h=c+d\n",
    "\n",
    "fun1()\n",
    "\n",
    "print h"
   ]
  },
  {
   "cell_type": "code",
   "execution_count": 5,
   "metadata": {},
   "outputs": [
    {
     "name": "stdout",
     "output_type": "stream",
     "text": [
      "this is class\n"
     ]
    }
   ],
   "source": [
    "\n",
    "def fun():\n",
    "    print \"this is fun\"\n",
    "class Emp:\n",
    "    print \"this is class\"\n",
    "    name=\"anil kumar\"\n",
    "    age=23\n",
    "    height=5.6  "
   ]
  },
  {
   "cell_type": "code",
   "execution_count": 6,
   "metadata": {},
   "outputs": [
    {
     "name": "stdout",
     "output_type": "stream",
     "text": [
      "this is class\n"
     ]
    }
   ],
   "source": [
    "\n",
    "def fun():\n",
    "    print \"this is fun\"\n",
    "class Emp:\n",
    "    print \"this is class\"\n",
    "    name=\"anil kumar\"\n",
    "    age=23\n",
    "    height=5.6  \n",
    "    def fun(a,b):\n",
    "        print \"this is fun inside class\"\n",
    "        "
   ]
  },
  {
   "cell_type": "code",
   "execution_count": 7,
   "metadata": {},
   "outputs": [
    {
     "name": "stdout",
     "output_type": "stream",
     "text": [
      "this is class\n"
     ]
    },
    {
     "ename": "NameError",
     "evalue": "name 'name' is not defined",
     "output_type": "error",
     "traceback": [
      "\u001b[0;31m---------------------------------------------------------------------------\u001b[0m",
      "\u001b[0;31mNameError\u001b[0m                                 Traceback (most recent call last)",
      "\u001b[0;32m<ipython-input-7-c60a0da450dd>\u001b[0m in \u001b[0;36m<module>\u001b[0;34m()\u001b[0m\n\u001b[1;32m      9\u001b[0m     \u001b[0;32mdef\u001b[0m \u001b[0mfun\u001b[0m\u001b[0;34m(\u001b[0m\u001b[0ma\u001b[0m\u001b[0;34m,\u001b[0m\u001b[0mb\u001b[0m\u001b[0;34m)\u001b[0m\u001b[0;34m:\u001b[0m\u001b[0;34m\u001b[0m\u001b[0m\n\u001b[1;32m     10\u001b[0m         \u001b[0;32mprint\u001b[0m \u001b[0;34m\"this is fun inside class\"\u001b[0m\u001b[0;34m\u001b[0m\u001b[0m\n\u001b[0;32m---> 11\u001b[0;31m \u001b[0;32mprint\u001b[0m \u001b[0mname\u001b[0m\u001b[0;34m\u001b[0m\u001b[0m\n\u001b[0m",
      "\u001b[0;31mNameError\u001b[0m: name 'name' is not defined"
     ]
    }
   ],
   "source": [
    "\n",
    "def fun():\n",
    "    print \"this is fun\"\n",
    "class Emp:\n",
    "    print \"this is class\"\n",
    "    name=\"anil kumar\"\n",
    "    age=23\n",
    "    height=5.6  \n",
    "    def fun(a,b):\n",
    "        print \"this is fun inside class\"\n",
    "print name"
   ]
  },
  {
   "cell_type": "code",
   "execution_count": 9,
   "metadata": {},
   "outputs": [
    {
     "name": "stdout",
     "output_type": "stream",
     "text": [
      "this is class\n",
      "anil kumar\n"
     ]
    }
   ],
   "source": [
    "\n",
    "class Emp:\n",
    "    print \"this is class\"\n",
    "    name=\"anil kumar\"\n",
    "    age=23\n",
    "    height=5.6  \n",
    "    def fun(a,b):\n",
    "        print \"this is fun inside class\"\n",
    "print Emp.name"
   ]
  },
  {
   "cell_type": "code",
   "execution_count": 10,
   "metadata": {},
   "outputs": [
    {
     "name": "stdout",
     "output_type": "stream",
     "text": [
      "this is class\n",
      "anil kumar\n",
      "23\n",
      "5.6\n"
     ]
    }
   ],
   "source": [
    "\n",
    "class Emp:\n",
    "    print \"this is class\"\n",
    "    name=\"anil kumar\"\n",
    "    age=23\n",
    "    height=5.6  \n",
    "    def fun(a,b):\n",
    "        print \"this is fun inside class\"\n",
    "print Emp.name\n",
    "print Emp.age\n",
    "print Emp.height"
   ]
  },
  {
   "cell_type": "code",
   "execution_count": 11,
   "metadata": {},
   "outputs": [
    {
     "name": "stdout",
     "output_type": "stream",
     "text": [
      "this is class\n",
      "anil kumar\n",
      "23\n",
      "5.6\n"
     ]
    },
    {
     "ename": "TypeError",
     "evalue": "unbound method fun() must be called with Emp instance as first argument (got int instance instead)",
     "output_type": "error",
     "traceback": [
      "\u001b[0;31m---------------------------------------------------------------------------\u001b[0m",
      "\u001b[0;31mTypeError\u001b[0m                                 Traceback (most recent call last)",
      "\u001b[0;32m<ipython-input-11-e29953262ae5>\u001b[0m in \u001b[0;36m<module>\u001b[0;34m()\u001b[0m\n\u001b[1;32m     10\u001b[0m \u001b[0;32mprint\u001b[0m \u001b[0mEmp\u001b[0m\u001b[0;34m.\u001b[0m\u001b[0mage\u001b[0m\u001b[0;34m\u001b[0m\u001b[0m\n\u001b[1;32m     11\u001b[0m \u001b[0;32mprint\u001b[0m \u001b[0mEmp\u001b[0m\u001b[0;34m.\u001b[0m\u001b[0mheight\u001b[0m\u001b[0;34m\u001b[0m\u001b[0m\n\u001b[0;32m---> 12\u001b[0;31m \u001b[0mEmp\u001b[0m\u001b[0;34m.\u001b[0m\u001b[0mfun\u001b[0m\u001b[0;34m(\u001b[0m\u001b[0;36m10\u001b[0m\u001b[0;34m,\u001b[0m\u001b[0;36m20\u001b[0m\u001b[0;34m)\u001b[0m\u001b[0;34m\u001b[0m\u001b[0m\n\u001b[0m",
      "\u001b[0;31mTypeError\u001b[0m: unbound method fun() must be called with Emp instance as first argument (got int instance instead)"
     ]
    }
   ],
   "source": [
    "\n",
    "class Emp:\n",
    "    print \"this is class\"\n",
    "    name=\"anil kumar\"\n",
    "    age=23\n",
    "    height=5.6  \n",
    "    def fun(a,b):\n",
    "        print \"this is fun inside class\"\n",
    "print Emp.name\n",
    "print Emp.age\n",
    "print Emp.height\n",
    "Emp.fun(10,20)"
   ]
  },
  {
   "cell_type": "code",
   "execution_count": 12,
   "metadata": {},
   "outputs": [
    {
     "name": "stdout",
     "output_type": "stream",
     "text": [
      "this is class\n",
      "anil kumar\n",
      "23\n",
      "5.6\n",
      "anil kumar\n",
      "23\n",
      "5.6\n"
     ]
    }
   ],
   "source": [
    "\n",
    "class Emp:\n",
    "    print \"this is class\"\n",
    "    name=\"anil kumar\"\n",
    "    age=23\n",
    "    height=5.6  \n",
    "    def fun(a,b):\n",
    "        print \"this is fun inside class\"\n",
    "print Emp.name\n",
    "print Emp.age\n",
    "print Emp.height\n",
    "emp_inst= Emp()\n",
    "print emp_inst.name\n",
    "print emp_inst.age\n",
    "print emp_inst.height\n",
    "#Emp.fun(10,20)"
   ]
  },
  {
   "cell_type": "code",
   "execution_count": 13,
   "metadata": {},
   "outputs": [
    {
     "name": "stdout",
     "output_type": "stream",
     "text": [
      "this is class\n",
      "anil kumar\n",
      "23\n",
      "5.6\n",
      "anil kumar\n",
      "23\n",
      "5.6\n",
      "this is fun inside class\n"
     ]
    }
   ],
   "source": [
    "\n",
    "class Emp:\n",
    "    print \"this is class\"\n",
    "    name=\"anil kumar\"\n",
    "    age=23\n",
    "    height=5.6  \n",
    "    def fun(a,b):\n",
    "        print \"this is fun inside class\"\n",
    "print Emp.name\n",
    "print Emp.age\n",
    "print Emp.height\n",
    "emp_inst= Emp()\n",
    "print emp_inst.name\n",
    "print emp_inst.age\n",
    "print emp_inst.height\n",
    "Emp.fun(emp_inst,20)"
   ]
  },
  {
   "cell_type": "code",
   "execution_count": 14,
   "metadata": {},
   "outputs": [
    {
     "name": "stdout",
     "output_type": "stream",
     "text": [
      "this is class\n",
      "this is fun inside class\n"
     ]
    }
   ],
   "source": [
    "\n",
    "class Emp:\n",
    "    print \"this is class\"\n",
    "    name=\"anil kumar\"\n",
    "    age=23\n",
    "    height=5.6  \n",
    "    def fun(a,b):\n",
    "        print \"this is fun inside class\"\n",
    "emp_inst= Emp()\n",
    "Emp.fun(emp_inst,20)"
   ]
  },
  {
   "cell_type": "code",
   "execution_count": 15,
   "metadata": {},
   "outputs": [
    {
     "name": "stdout",
     "output_type": "stream",
     "text": [
      "this is class\n",
      "this is fun inside class\n",
      "this is fun inside class\n"
     ]
    }
   ],
   "source": [
    "\n",
    "class Emp:\n",
    "    print \"this is class\"\n",
    "    name=\"anil kumar\"\n",
    "    age=23\n",
    "    height=5.6  \n",
    "    def fun(a,b):\n",
    "        print \"this is fun inside class\"\n",
    "emp_inst= Emp()\n",
    "Emp.fun(emp_inst,20)\n",
    "emp_inst.fun(20)"
   ]
  },
  {
   "cell_type": "code",
   "execution_count": 16,
   "metadata": {},
   "outputs": [
    {
     "ename": "TypeError",
     "evalue": "fun() takes exactly 2 arguments (1 given)",
     "output_type": "error",
     "traceback": [
      "\u001b[0;31m---------------------------------------------------------------------------\u001b[0m",
      "\u001b[0;31mTypeError\u001b[0m                                 Traceback (most recent call last)",
      "\u001b[0;32m<ipython-input-16-3d7b15255b03>\u001b[0m in \u001b[0;36m<module>\u001b[0;34m()\u001b[0m\n\u001b[1;32m      1\u001b[0m \u001b[0;32mdef\u001b[0m \u001b[0mfun\u001b[0m\u001b[0;34m(\u001b[0m\u001b[0ma\u001b[0m\u001b[0;34m,\u001b[0m\u001b[0mb\u001b[0m\u001b[0;34m)\u001b[0m\u001b[0;34m:\u001b[0m\u001b[0;34m\u001b[0m\u001b[0m\n\u001b[1;32m      2\u001b[0m     \u001b[0;32mprint\u001b[0m \u001b[0ma\u001b[0m\u001b[0;34m,\u001b[0m\u001b[0mb\u001b[0m\u001b[0;34m\u001b[0m\u001b[0m\n\u001b[0;32m----> 3\u001b[0;31m \u001b[0mfun\u001b[0m\u001b[0;34m(\u001b[0m\u001b[0;36m20\u001b[0m\u001b[0;34m)\u001b[0m\u001b[0;34m\u001b[0m\u001b[0m\n\u001b[0m",
      "\u001b[0;31mTypeError\u001b[0m: fun() takes exactly 2 arguments (1 given)"
     ]
    }
   ],
   "source": [
    "def fun(a,b):\n",
    "    print a,b\n",
    "fun(20)"
   ]
  },
  {
   "cell_type": "code",
   "execution_count": 17,
   "metadata": {},
   "outputs": [
    {
     "name": "stdout",
     "output_type": "stream",
     "text": [
      "this is class\n",
      "a= <__main__.Emp instance at 0x7fd63050fef0>\n",
      "b= 20\n",
      "this is fun inside class\n",
      "a= <__main__.Emp instance at 0x7fd63050fef0>\n",
      "b= 20\n",
      "this is fun inside class\n"
     ]
    }
   ],
   "source": [
    "\n",
    "class Emp:\n",
    "    print \"this is class\"\n",
    "    name=\"anil kumar\"\n",
    "    age=23\n",
    "    height=5.6  \n",
    "    def fun(a,b):\n",
    "        print \"a=\",a\n",
    "        print \"b=\",b\n",
    "        print \"this is fun inside class\"\n",
    "emp_inst= Emp()\n",
    "Emp.fun(emp_inst,20)\n",
    "emp_inst.fun(20)"
   ]
  },
  {
   "cell_type": "code",
   "execution_count": 18,
   "metadata": {},
   "outputs": [
    {
     "name": "stdout",
     "output_type": "stream",
     "text": [
      "this is class\n",
      "a= <__main__.Emp instance at 0x7fd63050f8c0>\n",
      "b= 20\n",
      "this is fun inside class\n"
     ]
    },
    {
     "ename": "TypeError",
     "evalue": "fun() takes exactly 2 arguments (3 given)",
     "output_type": "error",
     "traceback": [
      "\u001b[0;31m---------------------------------------------------------------------------\u001b[0m",
      "\u001b[0;31mTypeError\u001b[0m                                 Traceback (most recent call last)",
      "\u001b[0;32m<ipython-input-18-19bde87dc07b>\u001b[0m in \u001b[0;36m<module>\u001b[0;34m()\u001b[0m\n\u001b[1;32m     11\u001b[0m \u001b[0memp_inst\u001b[0m\u001b[0;34m=\u001b[0m \u001b[0mEmp\u001b[0m\u001b[0;34m(\u001b[0m\u001b[0;34m)\u001b[0m\u001b[0;34m\u001b[0m\u001b[0m\n\u001b[1;32m     12\u001b[0m \u001b[0mEmp\u001b[0m\u001b[0;34m.\u001b[0m\u001b[0mfun\u001b[0m\u001b[0;34m(\u001b[0m\u001b[0memp_inst\u001b[0m\u001b[0;34m,\u001b[0m\u001b[0;36m20\u001b[0m\u001b[0;34m)\u001b[0m\u001b[0;34m\u001b[0m\u001b[0m\n\u001b[0;32m---> 13\u001b[0;31m \u001b[0memp_inst\u001b[0m\u001b[0;34m.\u001b[0m\u001b[0mfun\u001b[0m\u001b[0;34m(\u001b[0m\u001b[0memp_inst\u001b[0m\u001b[0;34m,\u001b[0m\u001b[0;36m20\u001b[0m\u001b[0;34m)\u001b[0m\u001b[0;34m\u001b[0m\u001b[0m\n\u001b[0m",
      "\u001b[0;31mTypeError\u001b[0m: fun() takes exactly 2 arguments (3 given)"
     ]
    }
   ],
   "source": [
    "\n",
    "class Emp:\n",
    "    print \"this is class\"\n",
    "    name=\"anil kumar\"\n",
    "    age=23\n",
    "    height=5.6  \n",
    "    def fun(a,b):\n",
    "        print \"a=\",a\n",
    "        print \"b=\",b\n",
    "        print \"this is fun inside class\"\n",
    "emp_inst= Emp()\n",
    "Emp.fun(emp_inst,20)\n",
    "emp_inst.fun(emp_inst,20)"
   ]
  },
  {
   "cell_type": "code",
   "execution_count": 19,
   "metadata": {},
   "outputs": [
    {
     "name": "stdout",
     "output_type": "stream",
     "text": [
      "this is class\n",
      "a= <__main__.Emp instance at 0x7fd6305135f0>\n",
      "b= 20\n",
      "this is fun inside class\n",
      "a= <__main__.Emp instance at 0x7fd6305135f0>\n",
      "b= <__main__.Emp instance at 0x7fd6305135f0>\n",
      "this is fun inside class\n"
     ]
    }
   ],
   "source": [
    "\n",
    "class Emp:\n",
    "    print \"this is class\"\n",
    "    name=\"anil kumar\"\n",
    "    age=23\n",
    "    height=5.6  \n",
    "    def fun(a,b):\n",
    "        print \"a=\",a\n",
    "        print \"b=\",b\n",
    "        print \"this is fun inside class\"\n",
    "emp_inst= Emp()\n",
    "Emp.fun(emp_inst,20)\n",
    "emp_inst.fun(emp_inst)"
   ]
  },
  {
   "cell_type": "code",
   "execution_count": 20,
   "metadata": {},
   "outputs": [
    {
     "name": "stdout",
     "output_type": "stream",
     "text": [
      "this is class\n",
      "a= <__main__.Emp instance at 0x7fd6305137e8>\n",
      "b= <__main__.Emp instance at 0x7fd6305137e8>\n",
      "this is fun inside class\n"
     ]
    }
   ],
   "source": [
    "\n",
    "class Emp:\n",
    "    print \"this is class\"\n",
    "    name=\"anil kumar\"\n",
    "    age=23\n",
    "    height=5.6  \n",
    "    def fun(a,b):\n",
    "        print \"a=\",a\n",
    "        print \"b=\",b\n",
    "        print \"this is fun inside class\"\n",
    "emp_inst= Emp()\n",
    "emp_inst.fun(emp_inst)"
   ]
  },
  {
   "cell_type": "code",
   "execution_count": 21,
   "metadata": {},
   "outputs": [
    {
     "name": "stdout",
     "output_type": "stream",
     "text": [
      "this is class\n",
      "a= <__main__.Emp instance at 0x7fd630513ab8>\n",
      "b= 20\n",
      "this is fun inside class\n",
      "a= <__main__.Emp instance at 0x7fd630513ab8>\n",
      "b= 200\n",
      "this is fun1 inside class\n",
      "a= <__main__.Emp instance at 0x7fd630513ab8>\n",
      "b= 20000\n",
      "this is fun1 inside class\n"
     ]
    }
   ],
   "source": [
    "\n",
    "class Emp:\n",
    "    print \"this is class\"\n",
    "    name=\"anil kumar\"\n",
    "    age=23\n",
    "    height=5.6  \n",
    "    def fun(a,b):\n",
    "        print \"a=\",a\n",
    "        print \"b=\",b\n",
    "        print \"this is fun inside class\"\n",
    "    def fun1(a,b):\n",
    "        print \"a=\",a\n",
    "        print \"b=\",b\n",
    "        print \"this is fun1 inside class\"\n",
    "    def fun2(a,b):\n",
    "        print \"a=\",a\n",
    "        print \"b=\",b\n",
    "        print \"this is fun1 inside class\"\n",
    "emp_inst= Emp()\n",
    "emp_inst.fun(20)\n",
    "emp_inst.fun1(200)\n",
    "emp_inst.fun2(20000)"
   ]
  },
  {
   "cell_type": "code",
   "execution_count": 22,
   "metadata": {},
   "outputs": [
    {
     "name": "stdout",
     "output_type": "stream",
     "text": [
      "this is class\n",
      "self= <__main__.Emp instance at 0x7fd630513d40>\n",
      "b= 20\n",
      "this is fun inside class\n",
      "self= <__main__.Emp instance at 0x7fd630513d40>\n",
      "b= 200\n",
      "this is fun1 inside class\n",
      "self= <__main__.Emp instance at 0x7fd630513d40>\n",
      "b= 20000\n",
      "this is fun1 inside class\n"
     ]
    }
   ],
   "source": [
    "\n",
    "class Emp:\n",
    "    print \"this is class\"\n",
    "    name=\"anil kumar\"\n",
    "    age=23\n",
    "    height=5.6  \n",
    "    def fun(self,b):\n",
    "        print \"self=\",self\n",
    "        print \"b=\",b\n",
    "        print \"this is fun inside class\"\n",
    "    def fun1(self,b):\n",
    "        print \"self=\",self\n",
    "        print \"b=\",b\n",
    "        print \"this is fun1 inside class\"\n",
    "    def fun2(self,b):\n",
    "        print \"self=\",self\n",
    "        print \"b=\",b\n",
    "        print \"this is fun1 inside class\"\n",
    "emp_inst= Emp()\n",
    "emp_inst.fun(20)\n",
    "emp_inst.fun1(200)\n",
    "emp_inst.fun2(20000)"
   ]
  },
  {
   "cell_type": "code",
   "execution_count": 23,
   "metadata": {},
   "outputs": [
    {
     "name": "stdout",
     "output_type": "stream",
     "text": [
      "this is class\n",
      "self= <__main__.Emp instance at 0x7fd630513f38>\n",
      "b= 20\n",
      "this is fun inside class\n",
      "self= <__main__.Emp instance at 0x7fd630513f38>\n",
      "b= 200\n",
      "this is fun1 inside class\n",
      "self= <__main__.Emp instance at 0x7fd630513f38>\n",
      "b= 20000\n",
      "this is fun2 inside class\n"
     ]
    }
   ],
   "source": [
    "\n",
    "class Emp:\n",
    "    print \"this is class\"\n",
    "    name=\"anil kumar\"\n",
    "    age=23\n",
    "    height=5.6  \n",
    "    def fun(self,b):\n",
    "        print \"self=\",self\n",
    "        print \"b=\",b\n",
    "        print \"this is fun inside class\"\n",
    "    def fun1(self,b):\n",
    "        print \"self=\",self\n",
    "        print \"b=\",b\n",
    "        print \"this is fun1 inside class\"\n",
    "    def fun2(self,b):\n",
    "        print \"self=\",self\n",
    "        print \"b=\",b\n",
    "        print \"this is fun2 inside class\"\n",
    "emp_inst= Emp()\n",
    "emp_inst.fun(20)\n",
    "emp_inst.fun1(200)\n",
    "emp_inst.fun2(20000)"
   ]
  },
  {
   "cell_type": "code",
   "execution_count": 24,
   "metadata": {},
   "outputs": [
    {
     "name": "stdout",
     "output_type": "stream",
     "text": [
      "this is class\n",
      "self= <__main__.Emp instance at 0x7fd63049b0e0>\n",
      "b= 20\n",
      "this is fun inside class\n",
      "self= <__main__.Emp instance at 0x7fd630513cf8>\n",
      "b= 20\n",
      "this is fun inside class\n",
      "self= <__main__.Emp instance at 0x7fd630513f38>\n",
      "b= 20\n",
      "this is fun inside class\n",
      "self= <__main__.Emp instance at 0x7fd630513170>\n",
      "b= 20\n",
      "this is fun inside class\n"
     ]
    }
   ],
   "source": [
    "\n",
    "class Emp:\n",
    "    print \"this is class\"\n",
    "    name=\"anil kumar\"\n",
    "    age=23\n",
    "    height=5.6 \n",
    "    \n",
    "    def fun(self,b):\n",
    "        print \"self=\",self\n",
    "        print \"b=\",b\n",
    "        print \"this is fun inside class\"\n",
    "    def fun1(self,b):\n",
    "        print \"self=\",self\n",
    "        print \"b=\",b\n",
    "        print \"this is fun1 inside class\"\n",
    "    def fun2(self,b):\n",
    "        print \"self=\",self\n",
    "        print \"b=\",b\n",
    "        print \"this is fun2 inside class\"\n",
    "emp_inst= Emp()\n",
    "emp_inst1= Emp()\n",
    "emp_inst2= Emp()\n",
    "emp_inst3= Emp()\n",
    "emp_inst.fun(20)\n",
    "emp_inst1.fun(20)\n",
    "emp_inst2.fun(20)\n",
    "emp_inst3.fun(20)\n"
   ]
  },
  {
   "cell_type": "code",
   "execution_count": 25,
   "metadata": {},
   "outputs": [
    {
     "name": "stdout",
     "output_type": "stream",
     "text": [
      "Anil kumar\n"
     ]
    }
   ],
   "source": [
    "class Emp:\n",
    "    company=\"KHYAATHI\"\n",
    "    company_address=\"Maithrivanam\"\n",
    "    def get(self):\n",
    "        pass\n",
    "    def sal_cal(self):\n",
    "        pass\n",
    "    \n",
    "anil = Emp()\n",
    "anil.name=\"Anil kumar\"\n",
    "anil.age=23\n",
    "anil.sal=20000\n",
    "ashok = Emp()\n",
    "ashok.name=\"ashok kumar\"\n",
    "ashok.age=24\n",
    "ashok.sal=30000\n",
    "print anil.name"
   ]
  },
  {
   "cell_type": "code",
   "execution_count": 26,
   "metadata": {},
   "outputs": [
    {
     "name": "stdout",
     "output_type": "stream",
     "text": [
      "20000\n",
      "30000\n"
     ]
    }
   ],
   "source": [
    "class Emp:\n",
    "    company=\"KHYAATHI\"\n",
    "    company_address=\"Maithrivanam\"\n",
    "    def get(self):\n",
    "        pass\n",
    "    def sal_cal(self):\n",
    "        print self.sal\n",
    "    \n",
    "anil = Emp()\n",
    "anil.name=\"Anil kumar\"\n",
    "anil.age=23\n",
    "anil.sal=20000\n",
    "#Emp.sal_cal(anil)\n",
    "anil.sal_cal()\n",
    "ashok = Emp()\n",
    "ashok.name=\"ashok kumar\"\n",
    "ashok.age=24\n",
    "ashok.sal=30000\n",
    "ashok.sal_cal()"
   ]
  },
  {
   "cell_type": "code",
   "execution_count": 27,
   "metadata": {},
   "outputs": [
    {
     "name": "stdout",
     "output_type": "stream",
     "text": [
      "20000\n",
      "30000\n",
      "Anil kumar 20000 23\n",
      "ashok kumar 30000 24\n"
     ]
    }
   ],
   "source": [
    "class Emp:\n",
    "    company=\"KHYAATHI\"\n",
    "    company_address=\"Maithrivanam\"\n",
    "    def get(self):\n",
    "        print self.name, self.sal,self.age\n",
    "    def sal_cal(self):\n",
    "        print self.sal\n",
    "    \n",
    "anil = Emp()\n",
    "anil.name=\"Anil kumar\"\n",
    "anil.age=23\n",
    "anil.sal=20000\n",
    "#Emp.sal_cal(anil)\n",
    "anil.sal_cal()\n",
    "ashok = Emp()\n",
    "ashok.name=\"ashok kumar\"\n",
    "ashok.age=24\n",
    "ashok.sal=30000\n",
    "ashok.sal_cal()\n",
    "anil.get()\n",
    "ashok.get()"
   ]
  },
  {
   "cell_type": "code",
   "execution_count": 28,
   "metadata": {
    "collapsed": true
   },
   "outputs": [],
   "source": [
    "class Emp:\n",
    "    company=\"KHYAATHI\"\n",
    "    company_address=\"Maithrivanam\"\n",
    "    def emp_set(self,e_name,e_age,e_sal):\n",
    "        self.name=e_name\n",
    "        self.age=e_age\n",
    "        self.sal=e_sal\n",
    "    def get(self):\n",
    "        print self.name, self.sal,self.age\n",
    "    def sal_cal(self):\n",
    "        print self.sal\n",
    "    \n",
    "anil = Emp()\n",
    "ashok = Emp()\n",
    "'''\n",
    "anil.name=\"Anil kumar\"\n",
    "anil.age=23\n",
    "anil.sal=20000\n",
    "'''\n",
    "anil.emp_set(\"Anil kumar\",23,20000)\n",
    "'''\n",
    "ashok.name=\"ashok kumar\"\n",
    "ashok.age=24\n",
    "ashok.sal=30000\n",
    "'''\n",
    "ashok.emp_set(\"Ashok kumar\",24,30000)\n"
   ]
  },
  {
   "cell_type": "code",
   "execution_count": 29,
   "metadata": {},
   "outputs": [
    {
     "name": "stdout",
     "output_type": "stream",
     "text": [
      "Anil kumar 20000 23\n",
      "Ashok kumar 30000 24\n"
     ]
    }
   ],
   "source": [
    "class Emp:\n",
    "    company=\"KHYAATHI\"\n",
    "    company_address=\"Maithrivanam\"\n",
    "    def emp_set(self,e_name,e_age,e_sal):\n",
    "        self.name=e_name\n",
    "        self.age=e_age\n",
    "        self.sal=e_sal\n",
    "    def get(self):\n",
    "        print self.name, self.sal,self.age\n",
    "    def sal_cal(self):\n",
    "        print self.sal\n",
    "anil = Emp()\n",
    "ashok = Emp()\n",
    "anil.emp_set(\"Anil kumar\",23,20000)\n",
    "ashok.emp_set(\"Ashok kumar\",24,30000)\n",
    "anil.get()\n",
    "ashok.get()\n"
   ]
  },
  {
   "cell_type": "code",
   "execution_count": 30,
   "metadata": {},
   "outputs": [
    {
     "name": "stdout",
     "output_type": "stream",
     "text": [
      "Anil kumar 20000 23\n",
      "Ashok kumar 30000 24\n"
     ]
    },
    {
     "ename": "AttributeError",
     "evalue": "Emp instance has no attribute 'name'",
     "output_type": "error",
     "traceback": [
      "\u001b[0;31m---------------------------------------------------------------------------\u001b[0m",
      "\u001b[0;31mAttributeError\u001b[0m                            Traceback (most recent call last)",
      "\u001b[0;32m<ipython-input-30-399464e756fa>\u001b[0m in \u001b[0;36m<module>\u001b[0;34m()\u001b[0m\n\u001b[1;32m     17\u001b[0m \u001b[0manil\u001b[0m\u001b[0;34m.\u001b[0m\u001b[0mget\u001b[0m\u001b[0;34m(\u001b[0m\u001b[0;34m)\u001b[0m\u001b[0;34m\u001b[0m\u001b[0m\n\u001b[1;32m     18\u001b[0m \u001b[0mashok\u001b[0m\u001b[0;34m.\u001b[0m\u001b[0mget\u001b[0m\u001b[0;34m(\u001b[0m\u001b[0;34m)\u001b[0m\u001b[0;34m\u001b[0m\u001b[0m\n\u001b[0;32m---> 19\u001b[0;31m \u001b[0msamba\u001b[0m\u001b[0;34m.\u001b[0m\u001b[0mget\u001b[0m\u001b[0;34m(\u001b[0m\u001b[0;34m)\u001b[0m\u001b[0;34m\u001b[0m\u001b[0m\n\u001b[0m",
      "\u001b[0;32m<ipython-input-30-399464e756fa>\u001b[0m in \u001b[0;36mget\u001b[0;34m(self)\u001b[0m\n\u001b[1;32m      7\u001b[0m         \u001b[0mself\u001b[0m\u001b[0;34m.\u001b[0m\u001b[0msal\u001b[0m\u001b[0;34m=\u001b[0m\u001b[0me_sal\u001b[0m\u001b[0;34m\u001b[0m\u001b[0m\n\u001b[1;32m      8\u001b[0m     \u001b[0;32mdef\u001b[0m \u001b[0mget\u001b[0m\u001b[0;34m(\u001b[0m\u001b[0mself\u001b[0m\u001b[0;34m)\u001b[0m\u001b[0;34m:\u001b[0m\u001b[0;34m\u001b[0m\u001b[0m\n\u001b[0;32m----> 9\u001b[0;31m         \u001b[0;32mprint\u001b[0m \u001b[0mself\u001b[0m\u001b[0;34m.\u001b[0m\u001b[0mname\u001b[0m\u001b[0;34m,\u001b[0m \u001b[0mself\u001b[0m\u001b[0;34m.\u001b[0m\u001b[0msal\u001b[0m\u001b[0;34m,\u001b[0m\u001b[0mself\u001b[0m\u001b[0;34m.\u001b[0m\u001b[0mage\u001b[0m\u001b[0;34m\u001b[0m\u001b[0m\n\u001b[0m\u001b[1;32m     10\u001b[0m     \u001b[0;32mdef\u001b[0m \u001b[0msal_cal\u001b[0m\u001b[0;34m(\u001b[0m\u001b[0mself\u001b[0m\u001b[0;34m)\u001b[0m\u001b[0;34m:\u001b[0m\u001b[0;34m\u001b[0m\u001b[0m\n\u001b[1;32m     11\u001b[0m         \u001b[0;32mprint\u001b[0m \u001b[0mself\u001b[0m\u001b[0;34m.\u001b[0m\u001b[0msal\u001b[0m\u001b[0;34m\u001b[0m\u001b[0m\n",
      "\u001b[0;31mAttributeError\u001b[0m: Emp instance has no attribute 'name'"
     ]
    }
   ],
   "source": [
    "class Emp:\n",
    "    company=\"KHYAATHI\"\n",
    "    company_address=\"Maithrivanam\"\n",
    "    def emp_set(self,e_name,e_age,e_sal):\n",
    "        self.name=e_name\n",
    "        self.age=e_age\n",
    "        self.sal=e_sal\n",
    "    def get(self):\n",
    "        print self.name, self.sal,self.age\n",
    "    def sal_cal(self):\n",
    "        print self.sal\n",
    "anil = Emp()\n",
    "ashok = Emp()\n",
    "samba=Emp()\n",
    "anil.emp_set(\"Anil kumar\",23,20000)\n",
    "ashok.emp_set(\"Ashok kumar\",24,30000)\n",
    "anil.get()\n",
    "ashok.get()\n",
    "samba.get()"
   ]
  },
  {
   "cell_type": "code",
   "execution_count": 31,
   "metadata": {},
   "outputs": [
    {
     "name": "stdout",
     "output_type": "stream",
     "text": [
      "Anil kumar 20000 23\n",
      "Ashok kumar 30000 24\n",
      "KHYAATHI\n"
     ]
    }
   ],
   "source": [
    "class Emp:\n",
    "    company=\"KHYAATHI\"\n",
    "    company_address=\"Maithrivanam\"\n",
    "    \n",
    "    def emp_set(self,e_name,e_age,e_sal):\n",
    "        self.name=e_name\n",
    "        self.age=e_age\n",
    "        self.sal=e_sal\n",
    "    def get(self):\n",
    "        print self.name, self.sal,self.age\n",
    "    def sal_cal(self):\n",
    "        print self.sal\n",
    "anil = Emp()\n",
    "ashok = Emp()\n",
    "samba=Emp()\n",
    "anil.emp_set(\"Anil kumar\",23,20000)\n",
    "ashok.emp_set(\"Ashok kumar\",24,30000)\n",
    "anil.get()\n",
    "ashok.get()\n",
    "print samba.company"
   ]
  },
  {
   "cell_type": "code",
   "execution_count": 32,
   "metadata": {},
   "outputs": [
    {
     "name": "stdout",
     "output_type": "stream",
     "text": [
      "Anil kumar 20000 23\n",
      "Ashok kumar 30000 24\n",
      " 0 0\n"
     ]
    }
   ],
   "source": [
    "class Emp:\n",
    "    company=\"KHYAATHI\"\n",
    "    company_address=\"Maithrivanam\"\n",
    "    name=\"\"\n",
    "    age=0\n",
    "    sal=0\n",
    "    def emp_set(self,e_name,e_age,e_sal):\n",
    "        self.name=e_name\n",
    "        self.age=e_age\n",
    "        self.sal=e_sal\n",
    "    def get(self):\n",
    "        print self.name, self.sal,self.age\n",
    "    def sal_cal(self):\n",
    "        print self.sal\n",
    "anil = Emp()\n",
    "ashok = Emp()\n",
    "samba=Emp()\n",
    "anil.emp_set(\"Anil kumar\",23,20000)\n",
    "ashok.emp_set(\"Ashok kumar\",24,30000)\n",
    "anil.get()\n",
    "ashok.get()\n",
    "\n",
    "samba.get()"
   ]
  },
  {
   "cell_type": "code",
   "execution_count": 33,
   "metadata": {},
   "outputs": [
    {
     "name": "stdout",
     "output_type": "stream",
     "text": [
      "Anil kumar 20000 23\n",
      "Ashok kumar 30000 24\n"
     ]
    },
    {
     "ename": "AttributeError",
     "evalue": "Emp instance has no attribute 'name'",
     "output_type": "error",
     "traceback": [
      "\u001b[0;31m---------------------------------------------------------------------------\u001b[0m",
      "\u001b[0;31mAttributeError\u001b[0m                            Traceback (most recent call last)",
      "\u001b[0;32m<ipython-input-33-6e624822a0cb>\u001b[0m in \u001b[0;36m<module>\u001b[0;34m()\u001b[0m\n\u001b[1;32m     19\u001b[0m \u001b[0mashok\u001b[0m\u001b[0;34m.\u001b[0m\u001b[0mget\u001b[0m\u001b[0;34m(\u001b[0m\u001b[0;34m)\u001b[0m\u001b[0;34m\u001b[0m\u001b[0m\n\u001b[1;32m     20\u001b[0m \u001b[0;34m\u001b[0m\u001b[0m\n\u001b[0;32m---> 21\u001b[0;31m \u001b[0msamba\u001b[0m\u001b[0;34m.\u001b[0m\u001b[0mget\u001b[0m\u001b[0;34m(\u001b[0m\u001b[0;34m)\u001b[0m\u001b[0;34m\u001b[0m\u001b[0m\n\u001b[0m",
      "\u001b[0;32m<ipython-input-33-6e624822a0cb>\u001b[0m in \u001b[0;36mget\u001b[0;34m(self)\u001b[0m\n\u001b[1;32m      8\u001b[0m         \u001b[0mself\u001b[0m\u001b[0;34m.\u001b[0m\u001b[0msal\u001b[0m\u001b[0;34m=\u001b[0m\u001b[0me_sal\u001b[0m\u001b[0;34m\u001b[0m\u001b[0m\n\u001b[1;32m      9\u001b[0m     \u001b[0;32mdef\u001b[0m \u001b[0mget\u001b[0m\u001b[0;34m(\u001b[0m\u001b[0mself\u001b[0m\u001b[0;34m)\u001b[0m\u001b[0;34m:\u001b[0m\u001b[0;34m\u001b[0m\u001b[0m\n\u001b[0;32m---> 10\u001b[0;31m         \u001b[0;32mprint\u001b[0m \u001b[0mself\u001b[0m\u001b[0;34m.\u001b[0m\u001b[0mname\u001b[0m\u001b[0;34m,\u001b[0m \u001b[0mself\u001b[0m\u001b[0;34m.\u001b[0m\u001b[0msal\u001b[0m\u001b[0;34m,\u001b[0m\u001b[0mself\u001b[0m\u001b[0;34m.\u001b[0m\u001b[0mage\u001b[0m\u001b[0;34m\u001b[0m\u001b[0m\n\u001b[0m\u001b[1;32m     11\u001b[0m     \u001b[0;32mdef\u001b[0m \u001b[0msal_cal\u001b[0m\u001b[0;34m(\u001b[0m\u001b[0mself\u001b[0m\u001b[0;34m)\u001b[0m\u001b[0;34m:\u001b[0m\u001b[0;34m\u001b[0m\u001b[0m\n\u001b[1;32m     12\u001b[0m         \u001b[0;32mprint\u001b[0m \u001b[0mself\u001b[0m\u001b[0;34m.\u001b[0m\u001b[0msal\u001b[0m\u001b[0;34m\u001b[0m\u001b[0m\n",
      "\u001b[0;31mAttributeError\u001b[0m: Emp instance has no attribute 'name'"
     ]
    }
   ],
   "source": [
    "class Emp:\n",
    "    company=\"KHYAATHI\"\n",
    "    company_address=\"Maithrivanam\"\n",
    "   \n",
    "    def emp_set(self,e_name,e_age,e_sal):\n",
    "        self.name=e_name\n",
    "        self.age=e_age\n",
    "        self.sal=e_sal\n",
    "    def get(self):\n",
    "        print self.name, self.sal,self.age\n",
    "    def sal_cal(self):\n",
    "        print self.sal\n",
    "anil = Emp()\n",
    "ashok = Emp()\n",
    "samba=Emp()\n",
    "anil.emp_set(\"Anil kumar\",23,20000)\n",
    "ashok.emp_set(\"Ashok kumar\",24,30000)\n",
    "anil.get()\n",
    "ashok.get()\n",
    "\n",
    "samba.get()"
   ]
  },
  {
   "cell_type": "code",
   "execution_count": 34,
   "metadata": {
    "collapsed": true
   },
   "outputs": [],
   "source": [
    "class Emp:\n",
    "    def __init__(self):\n",
    "        print \"this is __init__\"\n",
    "    def get(self):\n",
    "        print \"this is get\""
   ]
  },
  {
   "cell_type": "code",
   "execution_count": 35,
   "metadata": {},
   "outputs": [
    {
     "name": "stdout",
     "output_type": "stream",
     "text": [
      "this is class\n"
     ]
    }
   ],
   "source": [
    "class Emp:\n",
    "    print \"this is class\"\n",
    "    def __init__(self):\n",
    "        print \"this is __init__\"\n",
    "    def get(self):\n",
    "        print \"this is get\""
   ]
  },
  {
   "cell_type": "code",
   "execution_count": 36,
   "metadata": {},
   "outputs": [
    {
     "name": "stdout",
     "output_type": "stream",
     "text": [
      "this is class\n",
      "this is __init__\n"
     ]
    }
   ],
   "source": [
    "class Emp:\n",
    "    print \"this is class\"\n",
    "    def __init__(self):\n",
    "        print \"this is __init__\"\n",
    "    def get(self):\n",
    "        print \"this is get\"\n",
    "anil=Emp()"
   ]
  },
  {
   "cell_type": "code",
   "execution_count": 37,
   "metadata": {},
   "outputs": [
    {
     "name": "stdout",
     "output_type": "stream",
     "text": [
      "this is class\n",
      "this is __init__\n",
      "this is __init__\n",
      "this is __init__\n"
     ]
    }
   ],
   "source": [
    "class Emp:\n",
    "    print \"this is class\"\n",
    "    def __init__(self):\n",
    "        print \"this is __init__\"\n",
    "    def get(self):\n",
    "        print \"this is get\"\n",
    "anil=Emp()\n",
    "ashok=Emp()\n",
    "chatarjee=Emp()"
   ]
  },
  {
   "cell_type": "code",
   "execution_count": 38,
   "metadata": {},
   "outputs": [
    {
     "name": "stdout",
     "output_type": "stream",
     "text": [
      "this is class\n",
      "this is __init__\n",
      "this is __init__\n",
      "this is __init__\n",
      "this is get\n",
      "anil kumar 23 20000\n",
      "this is get\n",
      "ashok kumar 24 30000\n",
      "this is get\n",
      "Chatarjee 25 40000\n"
     ]
    }
   ],
   "source": [
    "class Emp:\n",
    "    print \"this is class\"\n",
    "    def __init__(self,e_name, e_sal, e_age):\n",
    "        print \"this is __init__\"\n",
    "        self.name=e_name\n",
    "        self.age=e_age\n",
    "        self.sal=e_sal\n",
    "    def get(self):\n",
    "        print \"this is get\"\n",
    "        print self.name, self.age, self.sal\n",
    "anil=Emp(\"anil kumar\",20000,23)\n",
    "ashok=Emp(\"ashok kumar\",30000,24)\n",
    "chatarjee=Emp(\"Chatarjee\",40000,25)\n",
    "anil.get()\n",
    "ashok.get()\n",
    "chatarjee.get()"
   ]
  },
  {
   "cell_type": "code",
   "execution_count": 39,
   "metadata": {},
   "outputs": [
    {
     "name": "stdout",
     "output_type": "stream",
     "text": [
      "anil kumar 23 20000\n",
      "ashok kumar 24 30000\n",
      "Chatarjee 25 40000\n"
     ]
    }
   ],
   "source": [
    "class Emp:\n",
    "    def __init__(self,e_name, e_sal, e_age):\n",
    "        self.name=e_name\n",
    "        self.age=e_age\n",
    "        self.sal=e_sal\n",
    "    def get(self):\n",
    "        print self.name, self.age, self.sal\n",
    "anil=Emp(\"anil kumar\",20000,23)\n",
    "ashok=Emp(\"ashok kumar\",30000,24)\n",
    "chatarjee=Emp(\"Chatarjee\",40000,25)\n",
    "anil.get()\n",
    "ashok.get()\n",
    "chatarjee.get()"
   ]
  },
  {
   "cell_type": "code",
   "execution_count": 40,
   "metadata": {},
   "outputs": [
    {
     "name": "stdout",
     "output_type": "stream",
     "text": [
      "anil kumar 23 20000\n",
      "ashok kumar 24 30000\n",
      "Chatarjee 25 40000\n"
     ]
    },
    {
     "ename": "TypeError",
     "evalue": "__init__() takes exactly 4 arguments (1 given)",
     "output_type": "error",
     "traceback": [
      "\u001b[0;31m---------------------------------------------------------------------------\u001b[0m",
      "\u001b[0;31mTypeError\u001b[0m                                 Traceback (most recent call last)",
      "\u001b[0;32m<ipython-input-40-8651d8a7e78f>\u001b[0m in \u001b[0;36m<module>\u001b[0;34m()\u001b[0m\n\u001b[1;32m     12\u001b[0m \u001b[0mashok\u001b[0m\u001b[0;34m.\u001b[0m\u001b[0mget\u001b[0m\u001b[0;34m(\u001b[0m\u001b[0;34m)\u001b[0m\u001b[0;34m\u001b[0m\u001b[0m\n\u001b[1;32m     13\u001b[0m \u001b[0mchatarjee\u001b[0m\u001b[0;34m.\u001b[0m\u001b[0mget\u001b[0m\u001b[0;34m(\u001b[0m\u001b[0;34m)\u001b[0m\u001b[0;34m\u001b[0m\u001b[0m\n\u001b[0;32m---> 14\u001b[0;31m \u001b[0msamba\u001b[0m\u001b[0;34m=\u001b[0m\u001b[0mEmp\u001b[0m\u001b[0;34m(\u001b[0m\u001b[0;34m)\u001b[0m\u001b[0;34m\u001b[0m\u001b[0m\n\u001b[0m",
      "\u001b[0;31mTypeError\u001b[0m: __init__() takes exactly 4 arguments (1 given)"
     ]
    }
   ],
   "source": [
    "class Emp:\n",
    "    def __init__(self,e_name, e_sal, e_age):\n",
    "        self.name=e_name\n",
    "        self.age=e_age\n",
    "        self.sal=e_sal\n",
    "    def get(self):\n",
    "        print self.name, self.age, self.sal\n",
    "anil=Emp(\"anil kumar\",20000,23)\n",
    "ashok=Emp(\"ashok kumar\",30000,24)\n",
    "chatarjee=Emp(\"Chatarjee\",40000,25)\n",
    "anil.get()\n",
    "ashok.get()\n",
    "chatarjee.get()\n",
    "samba=Emp()"
   ]
  },
  {
   "cell_type": "code",
   "execution_count": 41,
   "metadata": {},
   "outputs": [
    {
     "name": "stdout",
     "output_type": "stream",
     "text": [
      "anil kumar 23 20000\n",
      "ashok kumar 24 30000\n",
      "Chatarjee 25 40000\n"
     ]
    }
   ],
   "source": [
    "class Emp:\n",
    "    def __init__(self,e_name, e_sal, e_age):\n",
    "        self.name=e_name\n",
    "        self.age=e_age\n",
    "        self.sal=e_sal\n",
    "    def get(self):\n",
    "        print self.name, self.age, self.sal\n",
    "anil=Emp(\"anil kumar\",20000,23)\n",
    "ashok=Emp(\"ashok kumar\",30000,24)\n",
    "chatarjee=Emp(\"Chatarjee\",40000,25)\n",
    "anil.get()\n",
    "ashok.get()\n",
    "chatarjee.get()\n",
    "samba=Emp(\"sambasiva\",29,234567)"
   ]
  },
  {
   "cell_type": "code",
   "execution_count": 42,
   "metadata": {},
   "outputs": [
    {
     "name": "stdout",
     "output_type": "stream",
     "text": [
      "anil kumar 23 20000\n",
      "ashok kumar 24 30000\n",
      "Chatarjee 25 40000\n",
      "sambasiva 234567 29\n"
     ]
    }
   ],
   "source": [
    "class Emp:\n",
    "    def __init__(self,e_name, e_sal, e_age):\n",
    "        self.name=e_name\n",
    "        self.age=e_age\n",
    "        self.sal=e_sal\n",
    "    def get(self):\n",
    "        print self.name, self.age, self.sal\n",
    "anil=Emp(\"anil kumar\",20000,23)\n",
    "ashok=Emp(\"ashok kumar\",30000,24)\n",
    "chatarjee=Emp(\"Chatarjee\",40000,25)\n",
    "anil.get()\n",
    "ashok.get()\n",
    "chatarjee.get()\n",
    "samba=Emp(\"sambasiva\",29,234567)\n",
    "samba.get()"
   ]
  },
  {
   "cell_type": "code",
   "execution_count": 44,
   "metadata": {},
   "outputs": [
    {
     "name": "stdout",
     "output_type": "stream",
     "text": [
      "anil kumar 23 20000\n",
      "ashok kumar 24 30000\n",
      "Chatarjee 25 40000\n",
      "sambasiva 29 234567\n",
      "24000.0\n",
      "36000.0\n",
      "281480.4\n"
     ]
    }
   ],
   "source": [
    "class Emp:\n",
    "    def __init__(self,e_name, e_sal, e_age):\n",
    "        self.name=e_name\n",
    "        self.age=e_age\n",
    "        self.sal=e_sal\n",
    "        \n",
    "    def get(self):\n",
    "        print self.name, self.age, self.sal\n",
    "    def sal_cal(self):\n",
    "        return self.sal+self.sal*0.2\n",
    "anil=Emp(\"anil kumar\",20000,23)\n",
    "ashok=Emp(\"ashok kumar\",30000,24)\n",
    "chatarjee=Emp(\"Chatarjee\",40000,25)\n",
    "anil.get()\n",
    "ashok.get()\n",
    "chatarjee.get()\n",
    "samba=Emp(\"sambasiva\",234567,29)\n",
    "samba.get()\n",
    "print anil.sal_cal()\n",
    "print ashok.sal_cal()\n",
    "print samba.sal_cal()"
   ]
  },
  {
   "cell_type": "code",
   "execution_count": 45,
   "metadata": {},
   "outputs": [
    {
     "name": "stdout",
     "output_type": "stream",
     "text": [
      "anil kumar 23 20000 10\n",
      "None\n",
      "22000.0\n"
     ]
    }
   ],
   "source": [
    "class Emp:\n",
    "    def __init__(self,e_name, e_sal, e_age, incp):\n",
    "        # constructor\n",
    "        self.name=e_name\n",
    "        self.age=e_age\n",
    "        self.sal=e_sal\n",
    "        self.incp = incp\n",
    "        \n",
    "    def get(self):\n",
    "        print self.name, self.age, self.sal, self.incp\n",
    "    def sal_cal(self):\n",
    "        return self.sal+self.sal*(self.incp/100.0)\n",
    "anil = Emp(\"anil kumar\",20000,23,10)\n",
    "print anil.get()\n",
    "print anil.sal_cal()\n"
   ]
  },
  {
   "cell_type": "code",
   "execution_count": 47,
   "metadata": {},
   "outputs": [
    {
     "name": "stdout",
     "output_type": "stream",
     "text": [
      "anil kumar 23 20000 10\n",
      "None\n",
      "40000.0\n"
     ]
    }
   ],
   "source": [
    "class Emp:\n",
    "    def __init__(self,e_name, e_sal, e_age, incp):\n",
    "        # constructor\n",
    "        self.name=e_name\n",
    "        self.age=e_age\n",
    "        self.sal=e_sal\n",
    "        self.incp = incp\n",
    "        \n",
    "    def get(self):\n",
    "        print self.name, self.age, self.sal, self.incp\n",
    "    def sal_cal(self):\n",
    "        return self.sal+self.sal*(self.incp/100.0)\n",
    "anil = Emp(\"anil kumar\",20000,23,10)\n",
    "print anil.get()\n",
    "if \"anil\" in anil.name:\n",
    "    anil.incp = 100\n",
    "print anil.sal_cal()\n"
   ]
  },
  {
   "cell_type": "code",
   "execution_count": 48,
   "metadata": {},
   "outputs": [
    {
     "name": "stdout",
     "output_type": "stream",
     "text": [
      "anil kumar 23 20000 10\n",
      "None\n",
      "22000.0\n"
     ]
    }
   ],
   "source": [
    "#encapsulation\n",
    "class Emp:\n",
    "    def __init__(self,e_name, e_sal, e_age, incp):\n",
    "        # constructor\n",
    "        self.name=e_name\n",
    "        self.age=e_age\n",
    "        self.sal=e_sal\n",
    "        self.__incp = incp # secured variable\n",
    "        \n",
    "    def get(self):\n",
    "        print self.name, self.age, self.sal, self.__incp\n",
    "    def sal_cal(self):\n",
    "        return self.sal+self.sal*(self.__incp/100.0)\n",
    "anil = Emp(\"anil kumar\",20000,23,10)\n",
    "print anil.get()\n",
    "if \"anil\" in anil.name:\n",
    "    anil.__incp = 100\n",
    "print anil.sal_cal()\n"
   ]
  },
  {
   "cell_type": "code",
   "execution_count": 49,
   "metadata": {},
   "outputs": [
    {
     "name": "stdout",
     "output_type": "stream",
     "text": [
      "anil kumar 23 20000 10 22000.0\n",
      "None\n"
     ]
    }
   ],
   "source": [
    "#encapsulation\n",
    "class Emp:\n",
    "    def __init__(self,e_name, e_sal, e_age, incp):\n",
    "        # constructor\n",
    "        self.name=e_name\n",
    "        self.age=e_age\n",
    "        self.sal=e_sal\n",
    "        self.__incp = incp # secured variable\n",
    "        self.usal = self.sal_cal()\n",
    "        \n",
    "    def get(self):\n",
    "        print self.name, self.age, self.sal, self.__incp,self.usal\n",
    "    def sal_cal(self):\n",
    "        return self.sal+self.sal*(self.__incp/100.0)\n",
    "anil = Emp(\"anil kumar\",20000,23,10)\n",
    "if \"anil\" in anil.name:\n",
    "    anil.__incp = 100\n",
    "print anil.get()\n"
   ]
  },
  {
   "cell_type": "code",
   "execution_count": 50,
   "metadata": {},
   "outputs": [
    {
     "name": "stdout",
     "output_type": "stream",
     "text": [
      "('anil kumar', 23, 20000, 10, 22000.0)\n"
     ]
    }
   ],
   "source": [
    "#encapsulation\n",
    "class Emp:\n",
    "    def __init__(self,e_name, e_sal, e_age, incp):\n",
    "        # constructor\n",
    "        self.name=e_name\n",
    "        self.age=e_age\n",
    "        self.sal=e_sal\n",
    "        self.__incp = incp # secured variable\n",
    "        self.usal = self.sal_cal()\n",
    "        \n",
    "    def get(self):\n",
    "        return self.name, self.age, self.sal, self.__incp,self.usal\n",
    "    def sal_cal(self):\n",
    "        return self.sal+self.sal*(self.__incp/100.0)\n",
    "anil = Emp(\"anil kumar\",20000,23,10)\n",
    "if \"anil\" in anil.name:\n",
    "    anil.__incp = 100\n",
    "print anil.get()\n"
   ]
  },
  {
   "cell_type": "code",
   "execution_count": 52,
   "metadata": {},
   "outputs": [
    {
     "name": "stdout",
     "output_type": "stream",
     "text": [
      "{'age': 23, '_Emp__incp': 10, 'name': 'anil kumar', 'usal': 22000.0, 'sal': 20000}\n"
     ]
    }
   ],
   "source": [
    "#encapsulation\n",
    "class Emp:\n",
    "    def __init__(self,e_name, e_sal, e_age, incp):\n",
    "        # constructor\n",
    "        self.name=e_name\n",
    "        self.age=e_age\n",
    "        self.sal=e_sal\n",
    "        self.__incp = incp # secured variable\n",
    "        self.usal = self.sal_cal()\n",
    "        \n",
    "    def get(self):\n",
    "        return self.__dict__\n",
    "    def sal_cal(self):\n",
    "        return self.sal+self.sal*(self.__incp/100.0)\n",
    "anil = Emp(\"anil kumar\",20000,23,10)\n",
    "\n",
    "print anil.get()\n"
   ]
  },
  {
   "cell_type": "code",
   "execution_count": 53,
   "metadata": {},
   "outputs": [
    {
     "name": "stdout",
     "output_type": "stream",
     "text": [
      "{'age': 23, '_Emp__incp': 10, 'name': 'anil kumar', 'usal': 22000.0, 'sal': 20000}\n",
      "22000.0\n"
     ]
    }
   ],
   "source": [
    "#encapsulation\n",
    "class Emp:\n",
    "    def __init__(self,e_name, e_sal, e_age, incp):\n",
    "        # constructor\n",
    "        self.name=e_name\n",
    "        self.age=e_age\n",
    "        self.sal=e_sal\n",
    "        self.__incp = incp # secured variable\n",
    "        self.usal = self.sal_cal()\n",
    "        \n",
    "    def get(self):\n",
    "        return self.__dict__\n",
    "    def sal_cal(self):\n",
    "        return self.sal+self.sal*(self.__incp/100.0)\n",
    "anil = Emp(\"anil kumar\",20000,23,10)\n",
    "\n",
    "print anil.get()\n",
    "print anil.sal_cal()"
   ]
  },
  {
   "cell_type": "code",
   "execution_count": 54,
   "metadata": {},
   "outputs": [
    {
     "name": "stdout",
     "output_type": "stream",
     "text": [
      "{'age': 23, '_Emp__incp': 10, 'name': 'anil kumar', 'usal': 22000.0, 'sal': 20000}\n"
     ]
    },
    {
     "ename": "AttributeError",
     "evalue": "Emp instance has no attribute '__sal_cal'",
     "output_type": "error",
     "traceback": [
      "\u001b[0;31m---------------------------------------------------------------------------\u001b[0m",
      "\u001b[0;31mAttributeError\u001b[0m                            Traceback (most recent call last)",
      "\u001b[0;32m<ipython-input-54-2b4d790a5bbc>\u001b[0m in \u001b[0;36m<module>\u001b[0;34m()\u001b[0m\n\u001b[1;32m     16\u001b[0m \u001b[0;34m\u001b[0m\u001b[0m\n\u001b[1;32m     17\u001b[0m \u001b[0;32mprint\u001b[0m \u001b[0manil\u001b[0m\u001b[0;34m.\u001b[0m\u001b[0mget\u001b[0m\u001b[0;34m(\u001b[0m\u001b[0;34m)\u001b[0m\u001b[0;34m\u001b[0m\u001b[0m\n\u001b[0;32m---> 18\u001b[0;31m \u001b[0;32mprint\u001b[0m \u001b[0manil\u001b[0m\u001b[0;34m.\u001b[0m\u001b[0m__sal_cal\u001b[0m\u001b[0;34m(\u001b[0m\u001b[0;34m)\u001b[0m\u001b[0;34m\u001b[0m\u001b[0m\n\u001b[0m",
      "\u001b[0;31mAttributeError\u001b[0m: Emp instance has no attribute '__sal_cal'"
     ]
    }
   ],
   "source": [
    "#encapsulation\n",
    "class Emp:\n",
    "    def __init__(self,e_name, e_sal, e_age, incp):\n",
    "        # constructor\n",
    "        self.name=e_name\n",
    "        self.age=e_age\n",
    "        self.sal=e_sal\n",
    "        self.__incp = incp # secured variable\n",
    "        self.usal = self.__sal_cal()\n",
    "        \n",
    "    def get(self):\n",
    "        return self.__dict__\n",
    "    def __sal_cal(self):\n",
    "        return self.sal+self.sal*(self.__incp/100.0)\n",
    "anil = Emp(\"anil kumar\",20000,23,10)\n",
    "\n",
    "print anil.get()\n",
    "print anil.__sal_cal()"
   ]
  },
  {
   "cell_type": "code",
   "execution_count": 55,
   "metadata": {},
   "outputs": [
    {
     "name": "stdout",
     "output_type": "stream",
     "text": [
      "{'age': 23, '_Emp__incp': 10, 'name': 'anil kumar', 'usal': 22000.0, 'sal': 20000}\n"
     ]
    }
   ],
   "source": [
    "class Emp:\n",
    "    def __init__(self,e_name, e_sal, e_age, incp):\n",
    "        # constructor\n",
    "        self.name=e_name\n",
    "        self.age=e_age\n",
    "        self.sal=e_sal\n",
    "        self.__incp = incp # secured variable\n",
    "        self.usal = self.__sal_cal()\n",
    "        \n",
    "    def get(self):\n",
    "        return self.__dict__\n",
    "    def __sal_cal(self):\n",
    "        return self.sal+self.sal*(self.__incp/100.0)\n",
    "anil = Emp(\"anil kumar\",20000,23,10)\n",
    "print anil.get()"
   ]
  },
  {
   "cell_type": "code",
   "execution_count": 56,
   "metadata": {},
   "outputs": [
    {
     "name": "stdout",
     "output_type": "stream",
     "text": [
      "{'age': 23, '_Emp__incp': 10, 'name': 'anil kumar', 'usal': 22000.0, 'sal': 20000}\n",
      "KHYAATHI\n",
      "maithrivanam\n",
      "KHYAATHI\n",
      "maithrivanam\n"
     ]
    }
   ],
   "source": [
    "class Emp:\n",
    "    # class attributes\n",
    "    company=\"KHYAATHI\"\n",
    "    company_address=\"maithrivanam\"\n",
    "    def __init__(self,e_name, e_sal, e_age, incp):\n",
    "        # constructor\n",
    "        # instance attributes\n",
    "        self.name=e_name\n",
    "        self.age=e_age\n",
    "        self.sal=e_sal\n",
    "        self.__incp = incp # secured variable\n",
    "        self.usal = self.__sal_cal()\n",
    "        \n",
    "    def get(self):\n",
    "        return self.__dict__\n",
    "    def __sal_cal(self):\n",
    "        return self.sal+self.sal*(self.__incp/100.0)\n",
    "anil = Emp(\"anil kumar\",20000,23,10)\n",
    "print anil.get()\n",
    "print anil.company\n",
    "print anil.company_address\n",
    "print Emp.company\n",
    "print Emp.company_address\n"
   ]
  },
  {
   "cell_type": "code",
   "execution_count": 57,
   "metadata": {},
   "outputs": [
    {
     "ename": "AttributeError",
     "evalue": "class Emp has no attribute 'name'",
     "output_type": "error",
     "traceback": [
      "\u001b[0;31m---------------------------------------------------------------------------\u001b[0m",
      "\u001b[0;31mAttributeError\u001b[0m                            Traceback (most recent call last)",
      "\u001b[0;32m<ipython-input-57-035534054102>\u001b[0m in \u001b[0;36m<module>\u001b[0;34m()\u001b[0m\n\u001b[1;32m     18\u001b[0m \u001b[0manil\u001b[0m \u001b[0;34m=\u001b[0m \u001b[0mEmp\u001b[0m\u001b[0;34m(\u001b[0m\u001b[0;34m\"anil kumar\"\u001b[0m\u001b[0;34m,\u001b[0m\u001b[0;36m20000\u001b[0m\u001b[0;34m,\u001b[0m\u001b[0;36m23\u001b[0m\u001b[0;34m,\u001b[0m\u001b[0;36m10\u001b[0m\u001b[0;34m)\u001b[0m\u001b[0;34m\u001b[0m\u001b[0m\n\u001b[1;32m     19\u001b[0m \u001b[0mashok\u001b[0m \u001b[0;34m=\u001b[0m \u001b[0mEmp\u001b[0m\u001b[0;34m(\u001b[0m\u001b[0;34m\"ashok kumar\"\u001b[0m\u001b[0;34m,\u001b[0m\u001b[0;36m30000\u001b[0m\u001b[0;34m,\u001b[0m\u001b[0;36m24\u001b[0m\u001b[0;34m,\u001b[0m\u001b[0;36m11\u001b[0m\u001b[0;34m)\u001b[0m\u001b[0;34m\u001b[0m\u001b[0m\n\u001b[0;32m---> 20\u001b[0;31m \u001b[0;32mprint\u001b[0m \u001b[0mEmp\u001b[0m\u001b[0;34m.\u001b[0m\u001b[0mname\u001b[0m\u001b[0;34m\u001b[0m\u001b[0m\n\u001b[0m",
      "\u001b[0;31mAttributeError\u001b[0m: class Emp has no attribute 'name'"
     ]
    }
   ],
   "source": [
    "class Emp:\n",
    "    # class attributes\n",
    "    company=\"KHYAATHI\"\n",
    "    company_address=\"maithrivanam\"\n",
    "    def __init__(self,e_name, e_sal, e_age, incp):\n",
    "        # constructor\n",
    "        # instance attributes\n",
    "        self.name=e_name\n",
    "        self.age=e_age\n",
    "        self.sal=e_sal\n",
    "        self.__incp = incp # secured variable\n",
    "        self.usal = self.__sal_cal()\n",
    "        \n",
    "    def get(self):\n",
    "        return self.__dict__\n",
    "    def __sal_cal(self):\n",
    "        return self.sal+self.sal*(self.__incp/100.0)\n",
    "anil = Emp(\"anil kumar\",20000,23,10)\n",
    "ashok = Emp(\"ashok kumar\",30000,24,11)\n",
    "print Emp.name"
   ]
  },
  {
   "cell_type": "code",
   "execution_count": 62,
   "metadata": {},
   "outputs": [
    {
     "name": "stdout",
     "output_type": "stream",
     "text": [
      "{'age': 23, '_Emp__incp': 10, 'name': 'anil kumar', 'usal': 22000.0, 'sal': 20000}\n",
      "{'age': 24, '_Emp__incp': 11, 'name': 'ashok kumar', 'usal': 33300.0, 'sal': 30000}\n"
     ]
    }
   ],
   "source": [
    "class Emp:\n",
    "    # class attributes\n",
    "    company=\"KHYAATHI\"\n",
    "    company_address=\"maithrivanam\"\n",
    "    def __init__(self,e_name, e_sal, e_age, incp):\n",
    "        # constructor\n",
    "        # instance attributes\n",
    "        self.name=e_name\n",
    "        self.age=e_age\n",
    "        self.sal=e_sal\n",
    "        self.__incp = incp # secured variable\n",
    "        self.usal = self.__sal_cal()\n",
    "        \n",
    "    def get(self):\n",
    "        return self.__dict__\n",
    "    def __sal_cal(self):\n",
    "        return self.sal+self.sal*(self.__incp/100.0)\n",
    "anil = Emp(\"anil kumar\",20000,23,10)\n",
    "ashok = Emp(\"ashok kumar\",30000,24,11)\n",
    "print anil.get()\n",
    "print ashok.get()"
   ]
  },
  {
   "cell_type": "code",
   "execution_count": 63,
   "metadata": {},
   "outputs": [
    {
     "name": "stdout",
     "output_type": "stream",
     "text": [
      "{'company_address': 'maithrivanam', 'sal': 20000, 'name': 'anil kumar', 'usal': 22000.0, 'age': 23, '_Emp__incp': 10, 'company': 'KHYAATHI'}\n",
      "{'company_address': 'maithrivanam', 'sal': 30000, 'name': 'ashok kumar', 'usal': 33300.0, 'age': 24, '_Emp__incp': 11, 'company': 'KHYAATHI'}\n"
     ]
    }
   ],
   "source": [
    "class Emp:\n",
    "    # class attributes\n",
    "    company=\"KHYAATHI\"\n",
    "    company_address=\"maithrivanam\"\n",
    "    def __init__(self,e_name, e_sal, e_age, incp):\n",
    "        # constructor\n",
    "        # instance attributes\n",
    "        self.name=e_name\n",
    "        self.age=e_age\n",
    "        self.sal=e_sal\n",
    "        self.__incp = incp # secured variable\n",
    "        self.usal = self.__sal_cal()\n",
    "        \n",
    "    def get(self):\n",
    "        instance_data = self.__dict__\n",
    "        instance_data.update({\"company\":self.company,\"company_address\":self.company_address})\n",
    "        return instance_data\n",
    "    def __sal_cal(self):\n",
    "        return self.sal+self.sal*(self.__incp/100.0)\n",
    "anil = Emp(\"anil kumar\",20000,23,10)\n",
    "ashok = Emp(\"ashok kumar\",30000,24,11)\n",
    "print anil.get()\n",
    "print ashok.get()"
   ]
  },
  {
   "cell_type": "code",
   "execution_count": 64,
   "metadata": {},
   "outputs": [
    {
     "name": "stdout",
     "output_type": "stream",
     "text": [
      "__main__.c1\n"
     ]
    }
   ],
   "source": [
    "class c1:\n",
    "    @classmethod\n",
    "    def class_method(cls):\n",
    "        # class method\n",
    "        print \"class method\"\n",
    "        print \"cls:\",cls\n",
    "        \n",
    "    def get(self):\n",
    "        # instance method\n",
    "        print \"instance method\"\n",
    "        print self\n",
    "print c1\n",
    "        \n",
    "        "
   ]
  },
  {
   "cell_type": "code",
   "execution_count": 66,
   "metadata": {},
   "outputs": [
    {
     "name": "stdout",
     "output_type": "stream",
     "text": [
      "classobject: __main__.c1\n",
      "data object: <__main__.c1 instance at 0x7fd6304be128>\n",
      "instance method\n",
      "self: <__main__.c1 instance at 0x7fd6304be128>\n",
      "********************\n",
      "instance method\n",
      "self: <__main__.c1 instance at 0x7fd6304be128>\n"
     ]
    }
   ],
   "source": [
    "class c1:\n",
    "    @classmethod\n",
    "    def class_method(cls):\n",
    "        # class method\n",
    "        print \"class method\"\n",
    "        print \"cls:\",cls\n",
    "        \n",
    "    def get(self):\n",
    "        # instance method\n",
    "        print \"instance method\"\n",
    "        print \"self:\",self\n",
    "print \"classobject:\",c1\n",
    "o1=c1()\n",
    "print \"data object:\",o1\n",
    "c1.get(o1)\n",
    "print \"*\"*20\n",
    "o1.get()"
   ]
  },
  {
   "cell_type": "code",
   "execution_count": 67,
   "metadata": {},
   "outputs": [
    {
     "name": "stdout",
     "output_type": "stream",
     "text": [
      "classobject: __main__.c1\n",
      "data object: <__main__.c1 instance at 0x7fd6304be518>\n",
      "instance method\n",
      "self: <__main__.c1 instance at 0x7fd6304be518>\n",
      "********************\n",
      "instance method\n",
      "self: <__main__.c1 instance at 0x7fd6304be518>\n",
      "calling class method\n",
      "class method\n",
      "cls: __main__.c1\n"
     ]
    }
   ],
   "source": [
    "class c1:\n",
    "    @classmethod\n",
    "    def class_method(cls):\n",
    "        # class method\n",
    "        print \"class method\"\n",
    "        print \"cls:\",cls\n",
    "        \n",
    "    def get(self):\n",
    "        # instance method\n",
    "        print \"instance method\"\n",
    "        print \"self:\",self\n",
    "print \"classobject:\",c1\n",
    "o1=c1()\n",
    "print \"data object:\",o1\n",
    "c1.get(o1)\n",
    "print \"*\"*20\n",
    "o1.get()\n",
    "# if you call instance metod(get) using an instance(o1) it will pass instance(o1) as a first argument\n",
    "print \"calling class method\"\n",
    "o1.class_method()\n",
    "# if you call classmethod metod(class_method) using an instance(o1) it will pass class object(c1) as a first argument"
   ]
  },
  {
   "cell_type": "code",
   "execution_count": 70,
   "metadata": {},
   "outputs": [
    {
     "name": "stdout",
     "output_type": "stream",
     "text": [
      "classobject: __main__.c1\n",
      "data object: <__main__.c1 instance at 0x7fd6304c0cb0>\n",
      "instance method\n",
      "self: <__main__.c1 instance at 0x7fd6304c0cb0>\n",
      "10\n",
      "********************\n",
      "instance method\n",
      "self: <__main__.c1 instance at 0x7fd6304c0cb0>\n",
      "10\n",
      "calling class method\n",
      "class method\n",
      "cls: __main__.c1\n",
      "10\n",
      "calling calss method using calss object\n",
      "class method\n",
      "cls: __main__.c1\n",
      "10\n"
     ]
    }
   ],
   "source": [
    "class c1:\n",
    "    class_attribute=10\n",
    "    @classmethod\n",
    "    def class_method(cls):\n",
    "        # class method\n",
    "        print \"class method\"\n",
    "        print \"cls:\",cls\n",
    "        print cls.class_attribute\n",
    "    def __init__(self, input1):\n",
    "        self.instance_attribute=input1\n",
    "        \n",
    "        \n",
    "    def get(self):\n",
    "        # instance method\n",
    "        print \"instance method\"\n",
    "        print \"self:\",self\n",
    "        print self.instance_attribute\n",
    "print \"classobject:\",c1\n",
    "o1=c1(10)\n",
    "print \"data object:\",o1\n",
    "# calling instance method using calss object\n",
    "c1.get(o1)\n",
    "print \"*\"*20\n",
    "o1.get()\n",
    "# if you call instance metod(get) using an instance(o1) it will pass instance(o1) as a first argument\n",
    "print \"calling class method\"\n",
    "o1.class_method()\n",
    "# if you call classmethod metod(class_method) using an instance(o1) it will pass class object(c1) as a first argument\n",
    "# can call a class method without creating an instance. i.e can call using calss object\n",
    "print \"calling calss method using calss object\"\n",
    "c1.class_method()"
   ]
  },
  {
   "cell_type": "code",
   "execution_count": 71,
   "metadata": {},
   "outputs": [
    {
     "name": "stdout",
     "output_type": "stream",
     "text": [
      "classobject: __main__.c1\n",
      "data object: <__main__.c1 instance at 0x7fd6304c99e0>\n",
      "instance method\n",
      "self: <__main__.c1 instance at 0x7fd6304c99e0>\n",
      "10\n",
      "10\n",
      "********************\n",
      "instance method\n",
      "self: <__main__.c1 instance at 0x7fd6304c99e0>\n",
      "10\n",
      "10\n",
      "calling class method\n",
      "class method\n",
      "cls: __main__.c1\n",
      "10\n",
      "calling calss method using calss object\n",
      "class method\n",
      "cls: __main__.c1\n",
      "10\n"
     ]
    }
   ],
   "source": [
    "class c1:\n",
    "    class_attribute=10\n",
    "    @classmethod\n",
    "    def class_method(cls):\n",
    "        # class method\n",
    "        print \"class method\"\n",
    "        print \"cls:\",cls\n",
    "        print cls.class_attribute\n",
    "    def __init__(self, input1):\n",
    "        self.instance_attribute=input1\n",
    "        \n",
    "        \n",
    "    def get(self):\n",
    "        # instance method\n",
    "        print \"instance method\"\n",
    "        print \"self:\",self\n",
    "        print self.instance_attribute\n",
    "        print self.class_attribute\n",
    "print \"classobject:\",c1\n",
    "o1=c1(10)\n",
    "print \"data object:\",o1\n",
    "# calling instance method using calss object\n",
    "c1.get(o1)\n",
    "print \"*\"*20\n",
    "o1.get()\n",
    "# if you call instance metod(get) using an instance(o1) it will pass instance(o1) as a first argument\n",
    "print \"calling class method\"\n",
    "o1.class_method()\n",
    "# if you call classmethod metod(class_method) using an instance(o1) it will pass class object(c1) as a first argument\n",
    "# can call a class method without creating an instance. i.e can call using calss object\n",
    "print \"calling calss method using calss object\"\n",
    "c1.class_method()"
   ]
  },
  {
   "cell_type": "code",
   "execution_count": 72,
   "metadata": {},
   "outputs": [
    {
     "name": "stdout",
     "output_type": "stream",
     "text": [
      "classobject: __main__.c1\n",
      "data object: <__main__.c1 instance at 0x7fd6304c9ab8>\n",
      "instance method\n",
      "self: <__main__.c1 instance at 0x7fd6304c9ab8>\n",
      "10\n",
      "10\n",
      "********************\n",
      "instance method\n",
      "self: <__main__.c1 instance at 0x7fd6304c9ab8>\n",
      "10\n",
      "10\n",
      "calling class method\n",
      "class method\n",
      "cls: __main__.c1\n",
      "10\n"
     ]
    },
    {
     "ename": "AttributeError",
     "evalue": "class c1 has no attribute 'instance_attribute'",
     "output_type": "error",
     "traceback": [
      "\u001b[0;31m---------------------------------------------------------------------------\u001b[0m",
      "\u001b[0;31mAttributeError\u001b[0m                            Traceback (most recent call last)",
      "\u001b[0;32m<ipython-input-72-56bf673dfb95>\u001b[0m in \u001b[0;36m<module>\u001b[0;34m()\u001b[0m\n\u001b[1;32m     27\u001b[0m \u001b[0;31m# if you call instance metod(get) using an instance(o1) it will pass instance(o1) as a first argument\u001b[0m\u001b[0;34m\u001b[0m\u001b[0;34m\u001b[0m\u001b[0m\n\u001b[1;32m     28\u001b[0m \u001b[0;32mprint\u001b[0m \u001b[0;34m\"calling class method\"\u001b[0m\u001b[0;34m\u001b[0m\u001b[0m\n\u001b[0;32m---> 29\u001b[0;31m \u001b[0mo1\u001b[0m\u001b[0;34m.\u001b[0m\u001b[0mclass_method\u001b[0m\u001b[0;34m(\u001b[0m\u001b[0;34m)\u001b[0m\u001b[0;34m\u001b[0m\u001b[0m\n\u001b[0m\u001b[1;32m     30\u001b[0m \u001b[0;31m# if you call classmethod metod(class_method) using an instance(o1) it will pass class object(c1) as a first argument\u001b[0m\u001b[0;34m\u001b[0m\u001b[0;34m\u001b[0m\u001b[0m\n\u001b[1;32m     31\u001b[0m \u001b[0;31m# can call a class method without creating an instance. i.e can call using calss object\u001b[0m\u001b[0;34m\u001b[0m\u001b[0;34m\u001b[0m\u001b[0m\n",
      "\u001b[0;32m<ipython-input-72-56bf673dfb95>\u001b[0m in \u001b[0;36mclass_method\u001b[0;34m(cls)\u001b[0m\n\u001b[1;32m      7\u001b[0m         \u001b[0;32mprint\u001b[0m \u001b[0;34m\"cls:\"\u001b[0m\u001b[0;34m,\u001b[0m\u001b[0mcls\u001b[0m\u001b[0;34m\u001b[0m\u001b[0m\n\u001b[1;32m      8\u001b[0m         \u001b[0;32mprint\u001b[0m \u001b[0mcls\u001b[0m\u001b[0;34m.\u001b[0m\u001b[0mclass_attribute\u001b[0m\u001b[0;34m\u001b[0m\u001b[0m\n\u001b[0;32m----> 9\u001b[0;31m         \u001b[0;32mprint\u001b[0m \u001b[0mcls\u001b[0m\u001b[0;34m.\u001b[0m\u001b[0minstance_attribute\u001b[0m\u001b[0;34m\u001b[0m\u001b[0m\n\u001b[0m\u001b[1;32m     10\u001b[0m     \u001b[0;32mdef\u001b[0m \u001b[0m__init__\u001b[0m\u001b[0;34m(\u001b[0m\u001b[0mself\u001b[0m\u001b[0;34m,\u001b[0m \u001b[0minput1\u001b[0m\u001b[0;34m)\u001b[0m\u001b[0;34m:\u001b[0m\u001b[0;34m\u001b[0m\u001b[0m\n\u001b[1;32m     11\u001b[0m         \u001b[0mself\u001b[0m\u001b[0;34m.\u001b[0m\u001b[0minstance_attribute\u001b[0m\u001b[0;34m=\u001b[0m\u001b[0minput1\u001b[0m\u001b[0;34m\u001b[0m\u001b[0m\n",
      "\u001b[0;31mAttributeError\u001b[0m: class c1 has no attribute 'instance_attribute'"
     ]
    }
   ],
   "source": [
    "class c1:\n",
    "    class_attribute=10\n",
    "    @classmethod\n",
    "    def class_method(cls):\n",
    "        # class method\n",
    "        print \"class method\"\n",
    "        print \"cls:\",cls\n",
    "        print cls.class_attribute\n",
    "        print cls.instance_attribute\n",
    "    def __init__(self, input1):\n",
    "        self.instance_attribute=input1\n",
    "        \n",
    "        \n",
    "    def get(self):\n",
    "        # instance method\n",
    "        print \"instance method\"\n",
    "        print \"self:\",self\n",
    "        print self.instance_attribute\n",
    "        print self.class_attribute\n",
    "print \"classobject:\",c1\n",
    "o1=c1(10)\n",
    "print \"data object:\",o1\n",
    "# calling instance method using calss object\n",
    "c1.get(o1)\n",
    "print \"*\"*20\n",
    "o1.get()\n",
    "# if you call instance metod(get) using an instance(o1) it will pass instance(o1) as a first argument\n",
    "print \"calling class method\"\n",
    "o1.class_method()\n",
    "# if you call classmethod metod(class_method) using an instance(o1) it will pass class object(c1) as a first argument\n",
    "# can call a class method without creating an instance. i.e can call using calss object\n",
    "print \"calling calss method using calss object\"\n",
    "c1.class_method()"
   ]
  },
  {
   "cell_type": "code",
   "execution_count": 73,
   "metadata": {},
   "outputs": [
    {
     "name": "stdout",
     "output_type": "stream",
     "text": [
      "10 20\n"
     ]
    }
   ],
   "source": [
    "class c1:\n",
    "    class_at=10\n",
    "    def __init__(self,ini):\n",
    "        self.instance_at=ini\n",
    "    @staticmethod\n",
    "    def stat(a,b):\n",
    "        print \"static method\"\n",
    "        print a,b\n",
    "c1.stat(10,20)\n",
    "        "
   ]
  },
  {
   "cell_type": "code",
   "execution_count": 75,
   "metadata": {},
   "outputs": [
    {
     "name": "stdout",
     "output_type": "stream",
     "text": [
      "static method\n",
      "10 20\n",
      "static method\n",
      "100 200\n"
     ]
    }
   ],
   "source": [
    "def normal(data):\n",
    "    print \"process\"\n",
    "    mod_data = \"some data\"+data\n",
    "    return mod_data\n",
    "\n",
    "class c1:\n",
    "    class_at=10\n",
    "    def __init__(self,ini):\n",
    "        self.instance_at=ini\n",
    "        \n",
    "    @staticmethod\n",
    "    def stat(a,b):\n",
    "        print \"static method\"\n",
    "        print a,b\n",
    "c1.stat(10,20)\n",
    "o1=c1(10)\n",
    "o1.stat(100,200)"
   ]
  },
  {
   "cell_type": "code",
   "execution_count": 76,
   "metadata": {},
   "outputs": [
    {
     "name": "stdout",
     "output_type": "stream",
     "text": [
      "this is fun1 in c1\n",
      "this is fun2 in c2\n"
     ]
    }
   ],
   "source": [
    "# inheritance\n",
    "class c1:\n",
    "    def fun1(self):\n",
    "        print \"this is fun1 in c1\"\n",
    "class c2:\n",
    "    def fun2(self):\n",
    "        print \"this is fun2 in c2\"\n",
    "o1=c1()\n",
    "o1.fun1()\n",
    "o2=c2()\n",
    "o2.fun2()\n",
    "        \n",
    "class app:\n",
    "    def operations(self):\n",
    "        pass\n",
    "        "
   ]
  },
  {
   "cell_type": "code",
   "execution_count": 77,
   "metadata": {},
   "outputs": [
    {
     "name": "stdout",
     "output_type": "stream",
     "text": [
      "this is fun1 in c1\n",
      "this is fun2 in c2\n"
     ]
    }
   ],
   "source": [
    "# inheritance\n",
    "class c1:\n",
    "    def fun1(self):\n",
    "        print \"this is fun1 in c1\"\n",
    "class c2:\n",
    "    def fun2(self):\n",
    "        print \"this is fun2 in c2\"        \n",
    "class app:\n",
    "    def operations(self):\n",
    "        o1=c1()\n",
    "        o2=c2()\n",
    "        o1.fun1()\n",
    "        o2.fun2()\n",
    "o=app()\n",
    "o.operations()\n",
    "        \n",
    "        "
   ]
  },
  {
   "cell_type": "code",
   "execution_count": 78,
   "metadata": {},
   "outputs": [
    {
     "ename": "AttributeError",
     "evalue": "app instance has no attribute 'fun1'",
     "output_type": "error",
     "traceback": [
      "\u001b[0;31m---------------------------------------------------------------------------\u001b[0m",
      "\u001b[0;31mAttributeError\u001b[0m                            Traceback (most recent call last)",
      "\u001b[0;32m<ipython-input-78-005ddf77fe6f>\u001b[0m in \u001b[0;36m<module>\u001b[0;34m()\u001b[0m\n\u001b[1;32m     11\u001b[0m         \u001b[0mself\u001b[0m\u001b[0;34m.\u001b[0m\u001b[0mfun2\u001b[0m\u001b[0;34m(\u001b[0m\u001b[0;34m)\u001b[0m\u001b[0;34m\u001b[0m\u001b[0m\n\u001b[1;32m     12\u001b[0m \u001b[0mo\u001b[0m\u001b[0;34m=\u001b[0m\u001b[0mapp\u001b[0m\u001b[0;34m(\u001b[0m\u001b[0;34m)\u001b[0m\u001b[0;34m\u001b[0m\u001b[0m\n\u001b[0;32m---> 13\u001b[0;31m \u001b[0mo\u001b[0m\u001b[0;34m.\u001b[0m\u001b[0moperations\u001b[0m\u001b[0;34m(\u001b[0m\u001b[0;34m)\u001b[0m\u001b[0;34m\u001b[0m\u001b[0m\n\u001b[0m\u001b[1;32m     14\u001b[0m \u001b[0;34m\u001b[0m\u001b[0m\n\u001b[1;32m     15\u001b[0m \u001b[0;34m\u001b[0m\u001b[0m\n",
      "\u001b[0;32m<ipython-input-78-005ddf77fe6f>\u001b[0m in \u001b[0;36moperations\u001b[0;34m(self)\u001b[0m\n\u001b[1;32m      8\u001b[0m \u001b[0;32mclass\u001b[0m \u001b[0mapp\u001b[0m\u001b[0;34m:\u001b[0m\u001b[0;34m\u001b[0m\u001b[0m\n\u001b[1;32m      9\u001b[0m     \u001b[0;32mdef\u001b[0m \u001b[0moperations\u001b[0m\u001b[0;34m(\u001b[0m\u001b[0mself\u001b[0m\u001b[0;34m)\u001b[0m\u001b[0;34m:\u001b[0m\u001b[0;34m\u001b[0m\u001b[0m\n\u001b[0;32m---> 10\u001b[0;31m         \u001b[0mself\u001b[0m\u001b[0;34m.\u001b[0m\u001b[0mfun1\u001b[0m\u001b[0;34m(\u001b[0m\u001b[0;34m)\u001b[0m\u001b[0;34m\u001b[0m\u001b[0m\n\u001b[0m\u001b[1;32m     11\u001b[0m         \u001b[0mself\u001b[0m\u001b[0;34m.\u001b[0m\u001b[0mfun2\u001b[0m\u001b[0;34m(\u001b[0m\u001b[0;34m)\u001b[0m\u001b[0;34m\u001b[0m\u001b[0m\n\u001b[1;32m     12\u001b[0m \u001b[0mo\u001b[0m\u001b[0;34m=\u001b[0m\u001b[0mapp\u001b[0m\u001b[0;34m(\u001b[0m\u001b[0;34m)\u001b[0m\u001b[0;34m\u001b[0m\u001b[0m\n",
      "\u001b[0;31mAttributeError\u001b[0m: app instance has no attribute 'fun1'"
     ]
    }
   ],
   "source": [
    "# inheritance\n",
    "class c1:\n",
    "    def fun1(self):\n",
    "        print \"this is fun1 in c1\"\n",
    "class c2:\n",
    "    def fun2(self):\n",
    "        print \"this is fun2 in c2\"        \n",
    "class app:\n",
    "    def operations(self):\n",
    "        self.fun1()\n",
    "        self.fun2()\n",
    "o=app()\n",
    "o.operations()\n",
    "        \n",
    "        "
   ]
  },
  {
   "cell_type": "code",
   "execution_count": 79,
   "metadata": {},
   "outputs": [
    {
     "name": "stdout",
     "output_type": "stream",
     "text": [
      "this is fun1 in c1\n",
      "this is fun2 in c2\n"
     ]
    }
   ],
   "source": [
    "# inheritance\n",
    "class c1:\n",
    "    def fun1(self):\n",
    "        print \"this is fun1 in c1\"\n",
    "class c2:\n",
    "    def fun2(self):\n",
    "        print \"this is fun2 in c2\"        \n",
    "class app(c1,c2):\n",
    "    def operations(self):\n",
    "        self.fun1()\n",
    "        self.fun2()\n",
    "o=app()\n",
    "o.operations()\n",
    "        \n",
    "        "
   ]
  },
  {
   "cell_type": "code",
   "execution_count": 82,
   "metadata": {},
   "outputs": [
    {
     "name": "stdout",
     "output_type": "stream",
     "text": [
      "this is fun1 in c1\n",
      "this is fun2 in c2\n",
      "&&&&&&&&&&&&&&&&&&&&\n",
      "this is fun1 in c1\n",
      "this is fun2 in c2\n"
     ]
    }
   ],
   "source": [
    "# inheritance\n",
    "class c1:\n",
    "    def fun1(self):\n",
    "        print \"this is fun1 in c1\"\n",
    "class c2:\n",
    "    def fun2(self):\n",
    "        print \"this is fun2 in c2\"        \n",
    "class app(c1,c2):\n",
    "    def operations(self):\n",
    "        self.fun1()\n",
    "        self.fun2()\n",
    "o=app()\n",
    "o.operations()\n",
    "print \"&\"*20\n",
    "o.fun1()\n",
    "o.fun2()"
   ]
  },
  {
   "cell_type": "code",
   "execution_count": 83,
   "metadata": {},
   "outputs": [
    {
     "name": "stdout",
     "output_type": "stream",
     "text": [
      "this is fun1 in c1\n",
      "this is fun2 in c2\n"
     ]
    }
   ],
   "source": [
    "class c1:\n",
    "    def fun1(self):\n",
    "        print \"this is fun1 in c1\"\n",
    "class c2(c1):\n",
    "    def fun2(self):\n",
    "        print \"this is fun2 in c2\"\n",
    "o=c2()\n",
    "o.fun1()\n",
    "o.fun2()"
   ]
  },
  {
   "cell_type": "code",
   "execution_count": 84,
   "metadata": {},
   "outputs": [
    {
     "name": "stdout",
     "output_type": "stream",
     "text": [
      "this is fun1 in c1\n",
      "this is fun2 in c2\n"
     ]
    }
   ],
   "source": [
    "class c1:\n",
    "    def fun1(self):\n",
    "        print \"this is fun1 in c1\"\n",
    "    def fun2(self):\n",
    "        print \"this is fun2 in c2\"\n",
    "o=c1()\n",
    "o.fun1()\n",
    "o.fun2()"
   ]
  },
  {
   "cell_type": "code",
   "execution_count": 85,
   "metadata": {},
   "outputs": [
    {
     "name": "stdout",
     "output_type": "stream",
     "text": [
      "this is fun2 in c2\n",
      "this is fun1 in c1\n"
     ]
    }
   ],
   "source": [
    "class c1:\n",
    "    def fun1(self):\n",
    "        print \"this is fun1 in c1\"\n",
    "class c2(c1):\n",
    "    # single level inheritance\n",
    "    def fun2(self):\n",
    "        print \"this is fun2 in c2\"\n",
    "class c3(c2):\n",
    "    # multilevel\n",
    "    def fun3(self):\n",
    "        print \"this is fun3 in c3\"\n",
    "o2=c2()\n",
    "o2.fun2()\n",
    "o2.fun1()\n",
    "    "
   ]
  },
  {
   "cell_type": "code",
   "execution_count": 86,
   "metadata": {},
   "outputs": [
    {
     "name": "stdout",
     "output_type": "stream",
     "text": [
      "this is fun3 in c3\n",
      "this is fun1 in c1\n",
      "this is fun2 in c2\n"
     ]
    }
   ],
   "source": [
    "class c1:\n",
    "    def fun1(self):\n",
    "        print \"this is fun1 in c1\"\n",
    "class c2(c1):\n",
    "    # single level inheritance\n",
    "    def fun2(self):\n",
    "        print \"this is fun2 in c2\"\n",
    "class c3(c2):\n",
    "    # multilevel\n",
    "    def fun3(self):\n",
    "        print \"this is fun3 in c3\"\n",
    "        \n",
    "o3=c3()\n",
    "o3.fun3()\n",
    "o3.fun1()\n",
    "o3.fun2()\n",
    "    "
   ]
  },
  {
   "cell_type": "code",
   "execution_count": 87,
   "metadata": {},
   "outputs": [
    {
     "name": "stdout",
     "output_type": "stream",
     "text": [
      "this is fun3 in c3\n",
      "this is fun1 in c3\n",
      "this is fun2 in c2\n"
     ]
    }
   ],
   "source": [
    "class c1:\n",
    "    def fun1(self):\n",
    "        print \"this is fun1 in c1\"\n",
    "class c2(c1):\n",
    "    # single level inheritance\n",
    "    def fun2(self):\n",
    "        print \"this is fun2 in c2\"\n",
    "class c3(c2):\n",
    "    # multilevel\n",
    "    def fun3(self):\n",
    "        print \"this is fun3 in c3\"\n",
    "    def fun1(self):\n",
    "        print \"this is fun1 in c3\"\n",
    "        \n",
    "o3=c3()\n",
    "o3.fun3()\n",
    "o3.fun1()\n",
    "o3.fun2()\n",
    "    "
   ]
  },
  {
   "cell_type": "code",
   "execution_count": 89,
   "metadata": {},
   "outputs": [
    {
     "name": "stdout",
     "output_type": "stream",
     "text": [
      "this is fun3 in c3\n",
      "this is fun1 in c3\n",
      "this is fun2 in c3\n"
     ]
    }
   ],
   "source": [
    "class c1:\n",
    "    def fun1(self):\n",
    "        print \"this is fun1 in c1\"\n",
    "class c2(c1):\n",
    "    # single level inheritance\n",
    "    def fun2(self):\n",
    "        print \"this is fun2 in c2\"\n",
    "class c3(c2):\n",
    "    # multilevel\n",
    "    def fun3(self):\n",
    "        print \"this is fun3 in c3\"\n",
    "    def fun1(self):\n",
    "        print \"this is fun1 in c3\"\n",
    "    def fun2(self):\n",
    "        print \"this is fun2 in c3\"\n",
    "        \n",
    "o3=c3()\n",
    "o3.fun3()\n",
    "o3.fun1()\n",
    "o3.fun2()\n",
    "    "
   ]
  },
  {
   "cell_type": "code",
   "execution_count": 90,
   "metadata": {},
   "outputs": [
    {
     "name": "stdout",
     "output_type": "stream",
     "text": [
      "this is fun3 in c3\n",
      "this is fun1 in c3\n",
      "this is fun2 in c3\n"
     ]
    },
    {
     "ename": "AttributeError",
     "evalue": "c3 instance has no attribute 'fun4'",
     "output_type": "error",
     "traceback": [
      "\u001b[0;31m---------------------------------------------------------------------------\u001b[0m",
      "\u001b[0;31mAttributeError\u001b[0m                            Traceback (most recent call last)",
      "\u001b[0;32m<ipython-input-90-2513de8fcf77>\u001b[0m in \u001b[0;36m<module>\u001b[0;34m()\u001b[0m\n\u001b[1;32m     19\u001b[0m \u001b[0mo3\u001b[0m\u001b[0;34m.\u001b[0m\u001b[0mfun1\u001b[0m\u001b[0;34m(\u001b[0m\u001b[0;34m)\u001b[0m\u001b[0;34m\u001b[0m\u001b[0m\n\u001b[1;32m     20\u001b[0m \u001b[0mo3\u001b[0m\u001b[0;34m.\u001b[0m\u001b[0mfun2\u001b[0m\u001b[0;34m(\u001b[0m\u001b[0;34m)\u001b[0m\u001b[0;34m\u001b[0m\u001b[0m\n\u001b[0;32m---> 21\u001b[0;31m \u001b[0mo3\u001b[0m\u001b[0;34m.\u001b[0m\u001b[0mfun4\u001b[0m\u001b[0;34m(\u001b[0m\u001b[0;34m)\u001b[0m\u001b[0;34m\u001b[0m\u001b[0m\n\u001b[0m",
      "\u001b[0;31mAttributeError\u001b[0m: c3 instance has no attribute 'fun4'"
     ]
    }
   ],
   "source": [
    "class c1:\n",
    "    def fun1(self):\n",
    "        print \"this is fun1 in c1\"\n",
    "class c2(c1):\n",
    "    # single level inheritance\n",
    "    def fun2(self):\n",
    "        print \"this is fun2 in c2\"\n",
    "class c3(c2):\n",
    "    # multilevel\n",
    "    def fun3(self):\n",
    "        print \"this is fun3 in c3\"\n",
    "    def fun1(self):\n",
    "        print \"this is fun1 in c3\"\n",
    "    def fun2(self):\n",
    "        print \"this is fun2 in c3\"\n",
    "        \n",
    "o3=c3()\n",
    "o3.fun3()\n",
    "o3.fun1()\n",
    "o3.fun2()\n",
    "o3.fun4()"
   ]
  },
  {
   "cell_type": "code",
   "execution_count": 91,
   "metadata": {},
   "outputs": [
    {
     "name": "stdout",
     "output_type": "stream",
     "text": [
      "this is fun1 in c1\n",
      "this is fun2 in c1\n",
      "&&&&&&&&&&&&&&&&&&&&\n",
      "this is fun1 in c1\n",
      "this is fun2 in c1\n"
     ]
    }
   ],
   "source": [
    "# inheritance\n",
    "class c1:\n",
    "    def fun1(self):\n",
    "        print \"this is fun1 in c1\"\n",
    "    def fun2(self):\n",
    "        print \"this is fun2 in c1\"\n",
    "class c2:\n",
    "    \n",
    "    def fun2(self):\n",
    "        print \"this is fun2 in c2\"        \n",
    "class app(c1,c2):\n",
    "    # multiple\n",
    "    def operations(self):\n",
    "        self.fun1()\n",
    "        self.fun2()\n",
    "o=app()\n",
    "o.operations()\n",
    "print \"&\"*20\n",
    "o.fun1()\n",
    "o.fun2()"
   ]
  },
  {
   "cell_type": "code",
   "execution_count": 92,
   "metadata": {},
   "outputs": [
    {
     "name": "stdout",
     "output_type": "stream",
     "text": [
      "this is fun1 in app\n",
      "this is fun2 in app\n",
      "&&&&&&&&&&&&&&&&&&&&\n",
      "this is fun1 in app\n",
      "this is fun2 in app\n"
     ]
    }
   ],
   "source": [
    "# inheritance\n",
    "class c1:\n",
    "    def fun1(self):\n",
    "        print \"this is fun1 in c1\"\n",
    "    def fun2(self):\n",
    "        print \"this is fun2 in c1\"\n",
    "class c2:\n",
    "    \n",
    "    def fun2(self):\n",
    "        print \"this is fun2 in c2\"        \n",
    "class app(c1,c2):\n",
    "    # multiple\n",
    "    def operations(self):\n",
    "        self.fun1()\n",
    "        self.fun2()\n",
    "    def fun1(self):\n",
    "        print \"this is fun1 in app\"\n",
    "    def fun2(self):\n",
    "        print \"this is fun2 in app\"\n",
    "o=app()\n",
    "o.operations()\n",
    "print \"&\"*20\n",
    "o.fun1()\n",
    "o.fun2()"
   ]
  },
  {
   "cell_type": "code",
   "execution_count": 93,
   "metadata": {},
   "outputs": [
    {
     "name": "stdout",
     "output_type": "stream",
     "text": [
      "(10, 20)\n"
     ]
    }
   ],
   "source": [
    "class c1:\n",
    "    def fun1(self):\n",
    "        print \"fun1 in c1\"\n",
    "        print self.a\n",
    "    \n",
    "class c2(c1):\n",
    "    def __init__(self,a,b):\n",
    "        self.a=a\n",
    "        self.b=b\n",
    "    def get(self):\n",
    "        return self.a, self.b\n",
    "o2=c2(10,20)\n",
    "print o2.get()"
   ]
  },
  {
   "cell_type": "code",
   "execution_count": 94,
   "metadata": {},
   "outputs": [
    {
     "name": "stdout",
     "output_type": "stream",
     "text": [
      "(10, 20)\n",
      "fun1 in c1\n",
      "10\n"
     ]
    }
   ],
   "source": [
    "class c1:\n",
    "    def fun1(self):\n",
    "        print \"fun1 in c1\"\n",
    "        print self.a\n",
    "    \n",
    "class c2(c1):\n",
    "    def __init__(self,a,b):\n",
    "        self.a=a\n",
    "        self.b=b\n",
    "    def get(self):\n",
    "        return self.a, self.b\n",
    "o2=c2(10,20)\n",
    "print o2.get()\n",
    "o2.fun1()"
   ]
  },
  {
   "cell_type": "code",
   "execution_count": 95,
   "metadata": {},
   "outputs": [
    {
     "ename": "TypeError",
     "evalue": "__init__() takes exactly 3 arguments (1 given)",
     "output_type": "error",
     "traceback": [
      "\u001b[0;31m---------------------------------------------------------------------------\u001b[0m",
      "\u001b[0;31mTypeError\u001b[0m                                 Traceback (most recent call last)",
      "\u001b[0;32m<ipython-input-95-9441340d5c50>\u001b[0m in \u001b[0;36m<module>\u001b[0;34m()\u001b[0m\n\u001b[1;32m     11\u001b[0m     \u001b[0;32mdef\u001b[0m \u001b[0mget\u001b[0m\u001b[0;34m(\u001b[0m\u001b[0mself\u001b[0m\u001b[0;34m)\u001b[0m\u001b[0;34m:\u001b[0m\u001b[0;34m\u001b[0m\u001b[0m\n\u001b[1;32m     12\u001b[0m         \u001b[0;32mreturn\u001b[0m \u001b[0mself\u001b[0m\u001b[0;34m.\u001b[0m\u001b[0ma\u001b[0m\u001b[0;34m,\u001b[0m \u001b[0mself\u001b[0m\u001b[0;34m.\u001b[0m\u001b[0mb\u001b[0m\u001b[0;34m\u001b[0m\u001b[0m\n\u001b[0;32m---> 13\u001b[0;31m \u001b[0mo2\u001b[0m\u001b[0;34m=\u001b[0m\u001b[0mc2\u001b[0m\u001b[0;34m(\u001b[0m\u001b[0;34m)\u001b[0m\u001b[0;34m\u001b[0m\u001b[0m\n\u001b[0m",
      "\u001b[0;31mTypeError\u001b[0m: __init__() takes exactly 3 arguments (1 given)"
     ]
    }
   ],
   "source": [
    "class c1:\n",
    "    def __init__(self,a,b):\n",
    "        self.a=a\n",
    "        self.b=b\n",
    "    def fun1(self):\n",
    "        print \"fun1 in c1\"\n",
    "        print self.a\n",
    "    \n",
    "class c2(c1):\n",
    "    \n",
    "    def get(self):\n",
    "        return self.a, self.b\n",
    "o2=c2()\n"
   ]
  },
  {
   "cell_type": "code",
   "execution_count": 96,
   "metadata": {},
   "outputs": [
    {
     "name": "stdout",
     "output_type": "stream",
     "text": [
      "(10, 20)\n"
     ]
    }
   ],
   "source": [
    "class c1:\n",
    "    def __init__(self,a,b):\n",
    "        self.a=a\n",
    "        self.b=b\n",
    "    def fun1(self):\n",
    "        print \"fun1 in c1\"\n",
    "        print self.a\n",
    "    \n",
    "class c2(c1):\n",
    "    \n",
    "    def get(self):\n",
    "        return self.a, self.b\n",
    "o2=c2(10,20)\n",
    "print o2.get()\n"
   ]
  },
  {
   "cell_type": "code",
   "execution_count": 97,
   "metadata": {},
   "outputs": [
    {
     "ename": "TypeError",
     "evalue": "__init__() takes exactly 2 arguments (3 given)",
     "output_type": "error",
     "traceback": [
      "\u001b[0;31m---------------------------------------------------------------------------\u001b[0m",
      "\u001b[0;31mTypeError\u001b[0m                                 Traceback (most recent call last)",
      "\u001b[0;32m<ipython-input-97-bce6f62b6722>\u001b[0m in \u001b[0;36m<module>\u001b[0;34m()\u001b[0m\n\u001b[1;32m     13\u001b[0m     \u001b[0;32mdef\u001b[0m \u001b[0mget\u001b[0m\u001b[0;34m(\u001b[0m\u001b[0mself\u001b[0m\u001b[0;34m)\u001b[0m\u001b[0;34m:\u001b[0m\u001b[0;34m\u001b[0m\u001b[0m\n\u001b[1;32m     14\u001b[0m         \u001b[0;32mreturn\u001b[0m \u001b[0mself\u001b[0m\u001b[0;34m.\u001b[0m\u001b[0ma\u001b[0m\u001b[0;34m,\u001b[0m \u001b[0mself\u001b[0m\u001b[0;34m.\u001b[0m\u001b[0mb\u001b[0m\u001b[0;34m,\u001b[0m\u001b[0mself\u001b[0m\u001b[0;34m.\u001b[0m\u001b[0mc\u001b[0m\u001b[0;34m\u001b[0m\u001b[0m\n\u001b[0;32m---> 15\u001b[0;31m \u001b[0mo2\u001b[0m\u001b[0;34m=\u001b[0m\u001b[0mc2\u001b[0m\u001b[0;34m(\u001b[0m\u001b[0;36m10\u001b[0m\u001b[0;34m,\u001b[0m\u001b[0;36m20\u001b[0m\u001b[0;34m)\u001b[0m\u001b[0;34m\u001b[0m\u001b[0m\n\u001b[0m\u001b[1;32m     16\u001b[0m \u001b[0;32mprint\u001b[0m \u001b[0mo2\u001b[0m\u001b[0;34m.\u001b[0m\u001b[0mget\u001b[0m\u001b[0;34m(\u001b[0m\u001b[0;34m)\u001b[0m\u001b[0;34m\u001b[0m\u001b[0m\n",
      "\u001b[0;31mTypeError\u001b[0m: __init__() takes exactly 2 arguments (3 given)"
     ]
    }
   ],
   "source": [
    "class c1:\n",
    "    def __init__(self,a,b):\n",
    "        self.a=a\n",
    "        self.b=b\n",
    "    def fun1(self):\n",
    "        print \"fun1 in c1\"\n",
    "        print self.a\n",
    "    \n",
    "class c2(c1):\n",
    "    def __init__(self,c):\n",
    "        self.c=c\n",
    "    \n",
    "    def get(self):\n",
    "        return self.a, self.b,self.c\n",
    "o2=c2(10,20)\n",
    "print o2.get()\n"
   ]
  },
  {
   "cell_type": "code",
   "execution_count": 98,
   "metadata": {},
   "outputs": [
    {
     "ename": "AttributeError",
     "evalue": "c2 instance has no attribute 'a'",
     "output_type": "error",
     "traceback": [
      "\u001b[0;31m---------------------------------------------------------------------------\u001b[0m",
      "\u001b[0;31mAttributeError\u001b[0m                            Traceback (most recent call last)",
      "\u001b[0;32m<ipython-input-98-237f9abf69b6>\u001b[0m in \u001b[0;36m<module>\u001b[0;34m()\u001b[0m\n\u001b[1;32m     14\u001b[0m         \u001b[0;32mreturn\u001b[0m \u001b[0mself\u001b[0m\u001b[0;34m.\u001b[0m\u001b[0ma\u001b[0m\u001b[0;34m,\u001b[0m \u001b[0mself\u001b[0m\u001b[0;34m.\u001b[0m\u001b[0mb\u001b[0m\u001b[0;34m,\u001b[0m\u001b[0mself\u001b[0m\u001b[0;34m.\u001b[0m\u001b[0mc\u001b[0m\u001b[0;34m\u001b[0m\u001b[0m\n\u001b[1;32m     15\u001b[0m \u001b[0mo2\u001b[0m\u001b[0;34m=\u001b[0m\u001b[0mc2\u001b[0m\u001b[0;34m(\u001b[0m\u001b[0;36m30\u001b[0m\u001b[0;34m)\u001b[0m\u001b[0;34m\u001b[0m\u001b[0m\n\u001b[0;32m---> 16\u001b[0;31m \u001b[0;32mprint\u001b[0m \u001b[0mo2\u001b[0m\u001b[0;34m.\u001b[0m\u001b[0mget\u001b[0m\u001b[0;34m(\u001b[0m\u001b[0;34m)\u001b[0m\u001b[0;34m\u001b[0m\u001b[0m\n\u001b[0m",
      "\u001b[0;32m<ipython-input-98-237f9abf69b6>\u001b[0m in \u001b[0;36mget\u001b[0;34m(self)\u001b[0m\n\u001b[1;32m     12\u001b[0m \u001b[0;34m\u001b[0m\u001b[0m\n\u001b[1;32m     13\u001b[0m     \u001b[0;32mdef\u001b[0m \u001b[0mget\u001b[0m\u001b[0;34m(\u001b[0m\u001b[0mself\u001b[0m\u001b[0;34m)\u001b[0m\u001b[0;34m:\u001b[0m\u001b[0;34m\u001b[0m\u001b[0m\n\u001b[0;32m---> 14\u001b[0;31m         \u001b[0;32mreturn\u001b[0m \u001b[0mself\u001b[0m\u001b[0;34m.\u001b[0m\u001b[0ma\u001b[0m\u001b[0;34m,\u001b[0m \u001b[0mself\u001b[0m\u001b[0;34m.\u001b[0m\u001b[0mb\u001b[0m\u001b[0;34m,\u001b[0m\u001b[0mself\u001b[0m\u001b[0;34m.\u001b[0m\u001b[0mc\u001b[0m\u001b[0;34m\u001b[0m\u001b[0m\n\u001b[0m\u001b[1;32m     15\u001b[0m \u001b[0mo2\u001b[0m\u001b[0;34m=\u001b[0m\u001b[0mc2\u001b[0m\u001b[0;34m(\u001b[0m\u001b[0;36m30\u001b[0m\u001b[0;34m)\u001b[0m\u001b[0;34m\u001b[0m\u001b[0m\n\u001b[1;32m     16\u001b[0m \u001b[0;32mprint\u001b[0m \u001b[0mo2\u001b[0m\u001b[0;34m.\u001b[0m\u001b[0mget\u001b[0m\u001b[0;34m(\u001b[0m\u001b[0;34m)\u001b[0m\u001b[0;34m\u001b[0m\u001b[0m\n",
      "\u001b[0;31mAttributeError\u001b[0m: c2 instance has no attribute 'a'"
     ]
    }
   ],
   "source": [
    "class c1:\n",
    "    def __init__(self,a,b):\n",
    "        self.a=a\n",
    "        self.b=b\n",
    "    def fun1(self):\n",
    "        print \"fun1 in c1\"\n",
    "        print self.a\n",
    "    \n",
    "class c2(c1):\n",
    "    def __init__(self,c):\n",
    "        self.c=c\n",
    "    \n",
    "    def get(self):\n",
    "        return self.a, self.b,self.c\n",
    "o2=c2(30)\n",
    "print o2.get()\n"
   ]
  },
  {
   "cell_type": "code",
   "execution_count": 100,
   "metadata": {},
   "outputs": [
    {
     "name": "stdout",
     "output_type": "stream",
     "text": [
      "(10, 20, 30)\n"
     ]
    }
   ],
   "source": [
    "class c1:\n",
    "    def __init__(self,a,b):\n",
    "        self.a=a\n",
    "        self.b=b\n",
    "    def fun1(self):\n",
    "        print \"fun1 in c1\"\n",
    "        print self.a\n",
    "    \n",
    "class c2(c1):\n",
    "    def __init__(self,c,a,b):\n",
    "        self.c=c\n",
    "        self.a=a\n",
    "        self.b=b\n",
    "        \n",
    "    \n",
    "    def get(self):\n",
    "        return self.a, self.b,self.c\n",
    "o2=c2(30,10,20)\n",
    "print o2.get()\n"
   ]
  },
  {
   "cell_type": "code",
   "execution_count": 101,
   "metadata": {},
   "outputs": [
    {
     "ename": "TypeError",
     "evalue": "__init__() takes exactly 4 arguments (3 given)",
     "output_type": "error",
     "traceback": [
      "\u001b[0;31m---------------------------------------------------------------------------\u001b[0m",
      "\u001b[0;31mTypeError\u001b[0m                                 Traceback (most recent call last)",
      "\u001b[0;32m<ipython-input-101-1e803884e0b0>\u001b[0m in \u001b[0;36m<module>\u001b[0;34m()\u001b[0m\n\u001b[1;32m     15\u001b[0m     \u001b[0;32mdef\u001b[0m \u001b[0mget\u001b[0m\u001b[0;34m(\u001b[0m\u001b[0mself\u001b[0m\u001b[0;34m)\u001b[0m\u001b[0;34m:\u001b[0m\u001b[0;34m\u001b[0m\u001b[0m\n\u001b[1;32m     16\u001b[0m         \u001b[0;32mreturn\u001b[0m \u001b[0mself\u001b[0m\u001b[0;34m.\u001b[0m\u001b[0ma\u001b[0m\u001b[0;34m,\u001b[0m \u001b[0mself\u001b[0m\u001b[0;34m.\u001b[0m\u001b[0mb\u001b[0m\u001b[0;34m,\u001b[0m\u001b[0mself\u001b[0m\u001b[0;34m.\u001b[0m\u001b[0mc\u001b[0m\u001b[0;34m\u001b[0m\u001b[0m\n\u001b[0;32m---> 17\u001b[0;31m \u001b[0mo2\u001b[0m\u001b[0;34m=\u001b[0m\u001b[0mc2\u001b[0m\u001b[0;34m(\u001b[0m\u001b[0;36m30\u001b[0m\u001b[0;34m,\u001b[0m\u001b[0;36m10\u001b[0m\u001b[0;34m,\u001b[0m\u001b[0;36m20\u001b[0m\u001b[0;34m)\u001b[0m\u001b[0;34m\u001b[0m\u001b[0m\n\u001b[0m\u001b[1;32m     18\u001b[0m \u001b[0;32mprint\u001b[0m \u001b[0mo2\u001b[0m\u001b[0;34m.\u001b[0m\u001b[0mget\u001b[0m\u001b[0;34m(\u001b[0m\u001b[0;34m)\u001b[0m\u001b[0;34m\u001b[0m\u001b[0m\n",
      "\u001b[0;32m<ipython-input-101-1e803884e0b0>\u001b[0m in \u001b[0;36m__init__\u001b[0;34m(self, c, a, b)\u001b[0m\n\u001b[1;32m     11\u001b[0m         \u001b[0mself\u001b[0m\u001b[0;34m.\u001b[0m\u001b[0mc\u001b[0m\u001b[0;34m=\u001b[0m\u001b[0mc\u001b[0m\u001b[0;34m\u001b[0m\u001b[0m\n\u001b[1;32m     12\u001b[0m         \u001b[0;31m# call the parent class constructor\u001b[0m\u001b[0;34m\u001b[0m\u001b[0;34m\u001b[0m\u001b[0m\n\u001b[0;32m---> 13\u001b[0;31m         \u001b[0mself\u001b[0m\u001b[0;34m.\u001b[0m\u001b[0m__init__\u001b[0m\u001b[0;34m(\u001b[0m\u001b[0ma\u001b[0m\u001b[0;34m,\u001b[0m\u001b[0mb\u001b[0m\u001b[0;34m)\u001b[0m\u001b[0;34m\u001b[0m\u001b[0m\n\u001b[0m\u001b[1;32m     14\u001b[0m \u001b[0;34m\u001b[0m\u001b[0m\n\u001b[1;32m     15\u001b[0m     \u001b[0;32mdef\u001b[0m \u001b[0mget\u001b[0m\u001b[0;34m(\u001b[0m\u001b[0mself\u001b[0m\u001b[0;34m)\u001b[0m\u001b[0;34m:\u001b[0m\u001b[0;34m\u001b[0m\u001b[0m\n",
      "\u001b[0;31mTypeError\u001b[0m: __init__() takes exactly 4 arguments (3 given)"
     ]
    }
   ],
   "source": [
    "class c1:\n",
    "    def __init__(self,a,b):\n",
    "        self.a=a\n",
    "        self.b=b\n",
    "    def fun1(self):\n",
    "        print \"fun1 in c1\"\n",
    "        print self.a\n",
    "    \n",
    "class c2(c1):\n",
    "    def __init__(self,c,a,b):\n",
    "        self.c=c\n",
    "        # call the parent class constructor\n",
    "        self.__init__(a,b)\n",
    "    \n",
    "    def get(self):\n",
    "        return self.a, self.b,self.c\n",
    "o2=c2(30,10,20)\n",
    "print o2.get()\n"
   ]
  },
  {
   "cell_type": "code",
   "execution_count": 102,
   "metadata": {},
   "outputs": [
    {
     "name": "stdout",
     "output_type": "stream",
     "text": [
      "(10, 20, 30)\n"
     ]
    }
   ],
   "source": [
    "class c1:\n",
    "    def __init__(self,a,b):\n",
    "        self.a=a\n",
    "        self.b=b\n",
    "    def fun1(self):\n",
    "        print \"fun1 in c1\"\n",
    "        print self.a\n",
    "    \n",
    "class c2(c1):\n",
    "    def __init__(self,c,a,b):\n",
    "        self.c=c\n",
    "        # call the parent class constructor\n",
    "        #self.__init__(a,b)\n",
    "        c1.__init__(self,a,b)\n",
    "    \n",
    "    def get(self):\n",
    "        return self.a, self.b,self.c\n",
    "o2=c2(30,10,20)\n",
    "print o2.get()\n"
   ]
  },
  {
   "cell_type": "code",
   "execution_count": 103,
   "metadata": {},
   "outputs": [
    {
     "name": "stdout",
     "output_type": "stream",
     "text": [
      "30\n",
      "str1str2\n",
      "[1, 2, 3, 4, 5, 6]\n"
     ]
    }
   ],
   "source": [
    "#polymorphism\n",
    "#+\n",
    "print 10+20\n",
    "print \"str1\"+\"str2\"\n",
    "print [1,2,3]+[4,5,6]"
   ]
  },
  {
   "cell_type": "code",
   "execution_count": null,
   "metadata": {
    "collapsed": true
   },
   "outputs": [],
   "source": [
    "# method overloading, method overriding, operator overloading.\n"
   ]
  }
 ],
 "metadata": {
  "kernelspec": {
   "display_name": "Python 2",
   "language": "python",
   "name": "python2"
  },
  "language_info": {
   "codemirror_mode": {
    "name": "ipython",
    "version": 2
   },
   "file_extension": ".py",
   "mimetype": "text/x-python",
   "name": "python",
   "nbconvert_exporter": "python",
   "pygments_lexer": "ipython2",
   "version": "2.7.14"
  }
 },
 "nbformat": 4,
 "nbformat_minor": 2
}
