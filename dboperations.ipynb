{
 "cells": [
  {
   "cell_type": "code",
   "execution_count": 1,
   "metadata": {
    "collapsed": true
   },
   "outputs": [],
   "source": [
    "import sqlite3"
   ]
  },
  {
   "cell_type": "code",
   "execution_count": 3,
   "metadata": {},
   "outputs": [],
   "source": [
    "try:\n",
    "    con = sqlite3.connect(\"db1.db\")\n",
    "    cur=con.cursor()\n",
    "except Exception as err:\n",
    "    print err\n",
    "finally:\n",
    "    con.close()"
   ]
  },
  {
   "cell_type": "code",
   "execution_count": 4,
   "metadata": {
    "collapsed": true
   },
   "outputs": [],
   "source": [
    "try:\n",
    "    con = sqlite3.connect(\"db1.db\")\n",
    "    cur=con.cursor()\n",
    "    cur.execute(\"create table customer(id int, name varchar(2000))\")\n",
    "except Exception as err:\n",
    "    print err\n",
    "finally:\n",
    "    con.close()"
   ]
  },
  {
   "cell_type": "code",
   "execution_count": 5,
   "metadata": {
    "collapsed": true
   },
   "outputs": [],
   "source": [
    "try:\n",
    "    con = sqlite3.connect(\"db1.db\")\n",
    "    cur=con.cursor()\n",
    "    #cur.execute(\"create table customer(id int, name varchar(2000))\")\n",
    "    cur.execute(\"insert into customer(id,name) values(1,'name1')\")\n",
    "except Exception as err:\n",
    "    print err\n",
    "finally:\n",
    "    con.close()"
   ]
  },
  {
   "cell_type": "code",
   "execution_count": 6,
   "metadata": {
    "collapsed": true
   },
   "outputs": [],
   "source": [
    "try:\n",
    "    con = sqlite3.connect(\"db1.db\")\n",
    "    cur=con.cursor()\n",
    "    #cur.execute(\"create table customer(id int, name varchar(2000))\")\n",
    "    cur.execute(\"insert into customer(id,name) values(1,'name1')\")\n",
    "except Exception as err:\n",
    "    print err\n",
    "finally:\n",
    "    con.commit()\n",
    "    con.close()"
   ]
  },
  {
   "cell_type": "code",
   "execution_count": 7,
   "metadata": {},
   "outputs": [
    {
     "name": "stdout",
     "output_type": "stream",
     "text": [
      "Enter an id of per:2\n",
      "Enter name of the per:name2\n",
      "insert into customer(id,name) values(2,'name2')\n"
     ]
    }
   ],
   "source": [
    "try:\n",
    "    con = sqlite3.connect(\"db1.db\")\n",
    "    cur=con.cursor()\n",
    "    #cur.execute(\"create table customer(id int, name varchar(2000))\")\n",
    "    p_id=raw_input(\"Enter an id of per:\")\n",
    "    p_name=raw_input(\"Enter name of the per:\")\n",
    "    #\"insert into customer(id,name) values(1,'name1')\"\n",
    "    q=\"insert into customer(id,name) values(%s,'%s')\"%(p_id,p_name)\n",
    "    print q\n",
    "    \n",
    "    #cur.execute()\n",
    "except Exception as err:\n",
    "    print err\n",
    "finally:\n",
    "    con.commit()\n",
    "    con.close()"
   ]
  },
  {
   "cell_type": "code",
   "execution_count": 8,
   "metadata": {},
   "outputs": [
    {
     "name": "stdout",
     "output_type": "stream",
     "text": [
      "Enter an id of per:2\n",
      "Enter name of the per:name2\n"
     ]
    }
   ],
   "source": [
    "try:\n",
    "    con = sqlite3.connect(\"db1.db\")\n",
    "    cur=con.cursor()\n",
    "    #cur.execute(\"create table customer(id int, name varchar(2000))\")\n",
    "    p_id=raw_input(\"Enter an id of per:\")\n",
    "    p_name=raw_input(\"Enter name of the per:\")\n",
    "    #\"insert into customer(id,name) values(1,'name1')\"\n",
    "    q=\"insert into customer(id,name) values(%s,'%s')\"%(p_id,p_name)\n",
    "    cur.execute(q)\n",
    "except Exception as err:\n",
    "    print err\n",
    "finally:\n",
    "    con.commit()\n",
    "    con.close()"
   ]
  },
  {
   "cell_type": "code",
   "execution_count": 9,
   "metadata": {},
   "outputs": [
    {
     "name": "stdout",
     "output_type": "stream",
     "text": [
      "Enter an id of per:1\n",
      "Enter name of the per:2\n"
     ]
    }
   ],
   "source": [
    "import random\n",
    "try:\n",
    "    con = sqlite3.connect(\"db1.db\")\n",
    "    cur=con.cursor()\n",
    "    names=[\"jay\",\"vedhanth\",\"sai\",\"shruthi\",\"thrishanth\",\"udhaya\"]\n",
    "    for i in range(3,104):\n",
    "        q=\"insert into customer(id,name) values(%s,'%s')\"%(i,random.choice(names))\n",
    "        cur.execute(q)\n",
    "except Exception as err:\n",
    "    print err\n",
    "finally:\n",
    "    con.commit()\n",
    "    con.close()"
   ]
  },
  {
   "cell_type": "code",
   "execution_count": 10,
   "metadata": {
    "collapsed": true
   },
   "outputs": [],
   "source": [
    "import random\n",
    "try:\n",
    "    con = sqlite3.connect(\"db1.db\")\n",
    "    cur=con.cursor()\n",
    "    q=\"select * from customer\"\n",
    "    cur.execute(q)\n",
    "    \n",
    "except Exception as err:\n",
    "    print err\n",
    "finally:\n",
    "    con.close()"
   ]
  },
  {
   "cell_type": "code",
   "execution_count": 11,
   "metadata": {},
   "outputs": [
    {
     "name": "stdout",
     "output_type": "stream",
     "text": [
      "[(1, u'name1'), (2, u'name2'), (3, u'vedhanth'), (4, u'jay'), (5, u'shruthi'), (6, u'thrishanth'), (7, u'udhaya'), (8, u'jay'), (9, u'jay'), (10, u'jay'), (11, u'udhaya'), (12, u'shruthi'), (13, u'shruthi'), (14, u'shruthi'), (15, u'jay'), (16, u'sai'), (17, u'jay'), (18, u'vedhanth'), (19, u'udhaya'), (20, u'sai'), (21, u'jay'), (22, u'jay'), (23, u'udhaya'), (24, u'sai'), (25, u'shruthi'), (26, u'vedhanth'), (27, u'vedhanth'), (28, u'udhaya'), (29, u'vedhanth'), (30, u'thrishanth'), (31, u'vedhanth'), (32, u'shruthi'), (33, u'vedhanth'), (34, u'udhaya'), (35, u'jay'), (36, u'jay'), (37, u'jay'), (38, u'sai'), (39, u'vedhanth'), (40, u'vedhanth'), (41, u'thrishanth'), (42, u'vedhanth'), (43, u'jay'), (44, u'shruthi'), (45, u'jay'), (46, u'udhaya'), (47, u'udhaya'), (48, u'thrishanth'), (49, u'udhaya'), (50, u'vedhanth'), (51, u'vedhanth'), (52, u'shruthi'), (53, u'shruthi'), (54, u'vedhanth'), (55, u'vedhanth'), (56, u'thrishanth'), (57, u'shruthi'), (58, u'udhaya'), (59, u'thrishanth'), (60, u'sai'), (61, u'jay'), (62, u'jay'), (63, u'jay'), (64, u'thrishanth'), (65, u'vedhanth'), (66, u'vedhanth'), (67, u'jay'), (68, u'thrishanth'), (69, u'vedhanth'), (70, u'shruthi'), (71, u'jay'), (72, u'vedhanth'), (73, u'shruthi'), (74, u'udhaya'), (75, u'vedhanth'), (76, u'sai'), (77, u'sai'), (78, u'udhaya'), (79, u'vedhanth'), (80, u'jay'), (81, u'sai'), (82, u'thrishanth'), (83, u'vedhanth'), (84, u'vedhanth'), (85, u'thrishanth'), (86, u'thrishanth'), (87, u'thrishanth'), (88, u'udhaya'), (89, u'vedhanth'), (90, u'sai'), (91, u'vedhanth'), (92, u'sai'), (93, u'shruthi'), (94, u'shruthi'), (95, u'udhaya'), (96, u'udhaya'), (97, u'vedhanth'), (98, u'jay'), (99, u'sai'), (100, u'thrishanth'), (101, u'thrishanth'), (102, u'jay'), (103, u'vedhanth')]\n"
     ]
    }
   ],
   "source": [
    "import random\n",
    "try:\n",
    "    con = sqlite3.connect(\"db1.db\")\n",
    "    cur=con.cursor()\n",
    "    q=\"select * from customer\"\n",
    "    cur.execute(q)\n",
    "    data=cur.fetchall()\n",
    "    print data\n",
    "except Exception as err:\n",
    "    print err\n",
    "finally:\n",
    "    con.close()"
   ]
  },
  {
   "cell_type": "code",
   "execution_count": 12,
   "metadata": {},
   "outputs": [
    {
     "name": "stdout",
     "output_type": "stream",
     "text": [
      "[(3, u'vedhanth')]\n"
     ]
    }
   ],
   "source": [
    "import random\n",
    "try:\n",
    "    con = sqlite3.connect(\"db1.db\")\n",
    "    cur=con.cursor()\n",
    "    q=\"select * from customer where id=3\"\n",
    "    cur.execute(q)\n",
    "    data=cur.fetchall()\n",
    "    print data\n",
    "except Exception as err:\n",
    "    print err\n",
    "finally:\n",
    "    con.close()"
   ]
  },
  {
   "cell_type": "code",
   "execution_count": 13,
   "metadata": {},
   "outputs": [
    {
     "name": "stdout",
     "output_type": "stream",
     "text": [
      "Enter id of the per:5\n",
      "[(5, u'shruthi')]\n"
     ]
    }
   ],
   "source": [
    "import random\n",
    "try:\n",
    "    con = sqlite3.connect(\"db1.db\")\n",
    "    cur=con.cursor()\n",
    "    p_id=raw_input(\"Enter id of the per:\")\n",
    "    q=\"select * from customer where id=%s\"%p_id\n",
    "    cur.execute(q)\n",
    "    data=cur.fetchall()\n",
    "    print data\n",
    "except Exception as err:\n",
    "    print err\n",
    "finally:\n",
    "    con.close()"
   ]
  },
  {
   "cell_type": "code",
   "execution_count": 14,
   "metadata": {},
   "outputs": [
    {
     "name": "stdout",
     "output_type": "stream",
     "text": [
      "Enter id of the per:90\n",
      "[(90, u'sai')]\n"
     ]
    }
   ],
   "source": [
    "import random\n",
    "try:\n",
    "    con = sqlite3.connect(\"db1.db\")\n",
    "    cur=con.cursor()\n",
    "    p_id=raw_input(\"Enter id of the per:\")\n",
    "    q=\"select * from customer where id=%s\"%p_id\n",
    "    cur.execute(q)\n",
    "    data=cur.fetchall()\n",
    "    print data\n",
    "except Exception as err:\n",
    "    print err\n",
    "finally:\n",
    "    con.close()"
   ]
  },
  {
   "cell_type": "code",
   "execution_count": 15,
   "metadata": {},
   "outputs": [
    {
     "name": "stdout",
     "output_type": "stream",
     "text": [
      "Enter name of the per:shruthi\n",
      "[(5, u'shruthi'), (12, u'shruthi'), (13, u'shruthi'), (14, u'shruthi'), (25, u'shruthi'), (32, u'shruthi'), (44, u'shruthi'), (52, u'shruthi'), (53, u'shruthi'), (57, u'shruthi'), (70, u'shruthi'), (73, u'shruthi'), (93, u'shruthi'), (94, u'shruthi')]\n"
     ]
    }
   ],
   "source": [
    "import random\n",
    "try:\n",
    "    con = sqlite3.connect(\"db1.db\")\n",
    "    cur=con.cursor()\n",
    "    p_name=raw_input(\"Enter name of the per:\")\n",
    "    q=\"select * from customer where name='%s'\"%p_name\n",
    "    cur.execute(q)\n",
    "    data=cur.fetchall()\n",
    "    print data\n",
    "except Exception as err:\n",
    "    print err\n",
    "finally:\n",
    "    con.close()"
   ]
  },
  {
   "cell_type": "code",
   "execution_count": 16,
   "metadata": {},
   "outputs": [
    {
     "name": "stdout",
     "output_type": "stream",
     "text": [
      "Search by:\n",
      "\t1. id\n",
      "\t2.name\n",
      "Enter am option:1\n",
      "Enter id of the per:5\n",
      "[(5, u'shruthi')]\n"
     ]
    }
   ],
   "source": [
    "import random\n",
    "try:\n",
    "    con = sqlite3.connect(\"db1.db\")\n",
    "    cur=con.cursor()\n",
    "    q=None\n",
    "    print \"Search by:\\n\\t1. id\\n\\t2.name\"\n",
    "    search_opt=raw_input(\"Enter am option:\")\n",
    "    if search_opt==\"1\":\n",
    "        p_id=raw_input(\"Enter id of the per:\")\n",
    "        q=\"select * from customer where id=%s\"%p_id\n",
    "    elif search_opt==\"2\":\n",
    "        p_name=raw_input(\"Enter name of the per:\")\n",
    "        q=\"select * from customer where name='%s'\"%p_name\n",
    "    else:\n",
    "        print \"select proper option..\"\n",
    "    if q:\n",
    "        cur.execute(q)\n",
    "        data=cur.fetchall()\n",
    "        print data\n",
    "except Exception as err:\n",
    "    print err\n",
    "finally:\n",
    "    con.close()"
   ]
  },
  {
   "cell_type": "code",
   "execution_count": 17,
   "metadata": {},
   "outputs": [
    {
     "name": "stdout",
     "output_type": "stream",
     "text": [
      "Search by:\n",
      "\t1. id\n",
      "\t2.name\n",
      "Enter am option:2\n",
      "Enter name of the per:jay\n",
      "[(4, u'jay'), (8, u'jay'), (9, u'jay'), (10, u'jay'), (15, u'jay'), (17, u'jay'), (21, u'jay'), (22, u'jay'), (35, u'jay'), (36, u'jay'), (37, u'jay'), (43, u'jay'), (45, u'jay'), (61, u'jay'), (62, u'jay'), (63, u'jay'), (67, u'jay'), (71, u'jay'), (80, u'jay'), (98, u'jay'), (102, u'jay')]\n"
     ]
    }
   ],
   "source": [
    "import random\n",
    "try:\n",
    "    con = sqlite3.connect(\"db1.db\")\n",
    "    cur=con.cursor()\n",
    "    q=None\n",
    "    print \"Search by:\\n\\t1. id\\n\\t2.name\"\n",
    "    search_opt=raw_input(\"Enter am option:\")\n",
    "    if search_opt==\"1\":\n",
    "        p_id=raw_input(\"Enter id of the per:\")\n",
    "        q=\"select * from customer where id=%s\"%p_id\n",
    "    elif search_opt==\"2\":\n",
    "        p_name=raw_input(\"Enter name of the per:\")\n",
    "        q=\"select * from customer where name='%s'\"%p_name\n",
    "    else:\n",
    "        print \"select proper option..\"\n",
    "    if q:\n",
    "        cur.execute(q)\n",
    "        data=cur.fetchall()\n",
    "        print data\n",
    "except Exception as err:\n",
    "    print err\n",
    "finally:\n",
    "    con.close()"
   ]
  },
  {
   "cell_type": "code",
   "execution_count": 18,
   "metadata": {},
   "outputs": [
    {
     "name": "stdout",
     "output_type": "stream",
     "text": [
      "Search by:\n",
      "\t1. id\n",
      "\t2.name\n",
      "\t3.quit\n",
      "Enter am option:3\n"
     ]
    }
   ],
   "source": [
    "import random\n",
    "try:\n",
    "    con = sqlite3.connect(\"db1.db\")\n",
    "    cur=con.cursor()\n",
    "    while True:\n",
    "        q=None\n",
    "        print \"Search by:\\n\\t1. id\\n\\t2.name\\n\\t3.quit\"\n",
    "        search_opt=raw_input(\"Enter am option:\")\n",
    "        if search_opt==\"3\":\n",
    "            break\n",
    "        if search_opt==\"1\":\n",
    "            p_id=raw_input(\"Enter id of the per:\")\n",
    "            q=\"select * from customer where id=%s\"%p_id\n",
    "        elif search_opt==\"2\":\n",
    "            p_name=raw_input(\"Enter name of the per:\")\n",
    "            q=\"select * from customer where name='%s'\"%p_name\n",
    "        else:\n",
    "            print \"select proper option..\"\n",
    "        if q:\n",
    "            cur.execute(q)\n",
    "            data=cur.fetchall()\n",
    "            print data\n",
    "except Exception as err:\n",
    "    print err\n",
    "finally:\n",
    "    con.close()"
   ]
  },
  {
   "cell_type": "code",
   "execution_count": 19,
   "metadata": {},
   "outputs": [
    {
     "name": "stdout",
     "output_type": "stream",
     "text": [
      "Search by:\n",
      "\t1. id\n",
      "\t2.name\n",
      "\t3.quit\n",
      "Enter am option:2\n",
      "Enter name of the per:udhaya\n",
      "[(7, u'udhaya'), (11, u'udhaya'), (19, u'udhaya'), (23, u'udhaya'), (28, u'udhaya'), (34, u'udhaya'), (46, u'udhaya'), (47, u'udhaya'), (49, u'udhaya'), (58, u'udhaya'), (74, u'udhaya'), (78, u'udhaya'), (88, u'udhaya'), (95, u'udhaya'), (96, u'udhaya')]\n",
      "Search by:\n",
      "\t1. id\n",
      "\t2.name\n",
      "\t3.quit\n",
      "Enter am option:1\n",
      "Enter id of the per:67\n",
      "[(67, u'jay')]\n",
      "Search by:\n",
      "\t1. id\n",
      "\t2.name\n",
      "\t3.quit\n",
      "Enter am option:6\n",
      "select proper option..\n",
      "Search by:\n",
      "\t1. id\n",
      "\t2.name\n",
      "\t3.quit\n",
      "Enter am option:3\n"
     ]
    }
   ],
   "source": [
    "import random\n",
    "try:\n",
    "    con = sqlite3.connect(\"db1.db\")\n",
    "    cur=con.cursor()\n",
    "    while True:\n",
    "        q=None\n",
    "        print \"Search by:\\n\\t1. id\\n\\t2.name\\n\\t3.quit\"\n",
    "        search_opt=raw_input(\"Enter am option:\")\n",
    "        if search_opt==\"3\":\n",
    "            break\n",
    "        if search_opt==\"1\":\n",
    "            p_id=raw_input(\"Enter id of the per:\")\n",
    "            q=\"select * from customer where id=%s\"%p_id\n",
    "        elif search_opt==\"2\":\n",
    "            p_name=raw_input(\"Enter name of the per:\")\n",
    "            q=\"select * from customer where name='%s'\"%p_name\n",
    "        else:\n",
    "            print \"select proper option..\"\n",
    "        if q:\n",
    "            cur.execute(q)\n",
    "            data=cur.fetchall()\n",
    "            print data\n",
    "except Exception as err:\n",
    "    print err\n",
    "finally:\n",
    "    con.close()"
   ]
  },
  {
   "cell_type": "code",
   "execution_count": 21,
   "metadata": {
    "scrolled": true
   },
   "outputs": [
    {
     "name": "stdout",
     "output_type": "stream",
     "text": [
      "enter id of the person:23\n",
      "data of this id: [(23, u'udhaya')]\n",
      "Want to update:(y/n):y\n",
      "Enter name to modify:udhaya_mod\n",
      "[(23, u'udhaya_mod')]\n"
     ]
    }
   ],
   "source": [
    "import random\n",
    "def connect():\n",
    "    con = sqlite3.connect(\"db1.db\")\n",
    "    cur=con.cursor()\n",
    "    return con,cur\n",
    "\n",
    "def close(con):\n",
    "    con.close()\n",
    "    \n",
    "def browse(p_id=None):\n",
    "    q=\"select * from customer\"\n",
    "    if p_id:\n",
    "        q=q+ \" where id=%s\"%p_id\n",
    "    try:\n",
    "        con,cur=connect()\n",
    "        cur.execute(q)\n",
    "        data=cur.fetchall()\n",
    "        \n",
    "    except Exception as err:\n",
    "        print err\n",
    "    finally:\n",
    "        close(con)\n",
    "    return data\n",
    "        \n",
    "try:\n",
    "    p_id=raw_input(\"enter id of the person:\")\n",
    "    data=browse(p_id)\n",
    "    print \"data of this id:\",data\n",
    "    update_opt=raw_input(\"Want to update:(y/n):\")\n",
    "    if update_opt.lower()==\"y\":\n",
    "        con,cur=connect()\n",
    "        name=raw_input(\"Enter name to modify:\")\n",
    "        q=\"update customer set name='%s' where id=%s\"%(name, p_id)\n",
    "        cur.execute(q)\n",
    "        con.commit()\n",
    "        close(con)\n",
    "        data_mod=browse(p_id)\n",
    "        print data_mod\n",
    "except Exception as err:\n",
    "    print err\n"
   ]
  },
  {
   "cell_type": "code",
   "execution_count": 22,
   "metadata": {},
   "outputs": [
    {
     "name": "stdout",
     "output_type": "stream",
     "text": [
      "enter id of the person:23\n",
      "data of this id: [(23, u'udhaya_mod')]\n",
      "Want to delete:(y/n):y\n",
      "[]\n"
     ]
    }
   ],
   "source": [
    "import random\n",
    "def connect():\n",
    "    con = sqlite3.connect(\"db1.db\")\n",
    "    cur=con.cursor()\n",
    "    return con,cur\n",
    "\n",
    "def close(con):\n",
    "    con.close()\n",
    "    \n",
    "def browse(p_id=None):\n",
    "    q=\"select * from customer\"\n",
    "    if p_id:\n",
    "        q=q+ \" where id=%s\"%p_id\n",
    "    try:\n",
    "        con,cur=connect()\n",
    "        cur.execute(q)\n",
    "        data=cur.fetchall()\n",
    "        \n",
    "    except Exception as err:\n",
    "        print err\n",
    "    finally:\n",
    "        close(con)\n",
    "    return data\n",
    "        \n",
    "try:\n",
    "    p_id=raw_input(\"enter id of the person:\")\n",
    "    data=browse(p_id)\n",
    "    print \"data of this id:\",data\n",
    "    update_opt=raw_input(\"Want to delete:(y/n):\")\n",
    "    if update_opt.lower()==\"y\":\n",
    "        con,cur=connect()\n",
    "        q=\"delete from customer where id=%s\"%(p_id)\n",
    "        cur.execute(q)\n",
    "        con.commit()\n",
    "        close(con)\n",
    "        data_mod=browse(p_id)\n",
    "        print data_mod\n",
    "except Exception as err:\n",
    "    print err\n"
   ]
  },
  {
   "cell_type": "code",
   "execution_count": 23,
   "metadata": {},
   "outputs": [
    {
     "name": "stdout",
     "output_type": "stream",
     "text": [
      "enter id of the person:34\n",
      "data of this id: [(34, u'udhaya')]\n",
      "Want to delete:(y/n):n\n"
     ]
    }
   ],
   "source": [
    "import random\n",
    "def connect():\n",
    "    con = sqlite3.connect(\"db1.db\")\n",
    "    cur=con.cursor()\n",
    "    return con,cur\n",
    "\n",
    "def close(con):\n",
    "    con.close()\n",
    "    \n",
    "def browse(p_id=None):\n",
    "    q=\"select * from customer\"\n",
    "    if p_id:\n",
    "        q=q+ \" where id=%s\"%p_id\n",
    "    try:\n",
    "        con,cur=connect()\n",
    "        cur.execute(q)\n",
    "        data=cur.fetchall()\n",
    "        \n",
    "    except Exception as err:\n",
    "        print err\n",
    "    finally:\n",
    "        close(con)\n",
    "    return data\n",
    "        \n",
    "try:\n",
    "    p_id=raw_input(\"enter id of the person:\")\n",
    "    data=browse(p_id)\n",
    "    print \"data of this id:\",data\n",
    "    update_opt=raw_input(\"Want to delete:(y/n):\")\n",
    "    if update_opt.lower()==\"y\":\n",
    "        con,cur=connect()\n",
    "        q=\"delete from customer where id=%s\"%(p_id)\n",
    "        cur.execute(q)\n",
    "        con.commit()\n",
    "        close(con)\n",
    "        data_mod=browse(p_id)\n",
    "        print data_mod\n",
    "except Exception as err:\n",
    "    print err\n"
   ]
  },
  {
   "cell_type": "code",
   "execution_count": 24,
   "metadata": {
    "collapsed": true
   },
   "outputs": [],
   "source": [
    "import psycopg2\n",
    "con=psycopg2.connect(user=\"postgres\",password=\"root\",host=\"localhost\",database=\"batch47\",port=5432)\n",
    "cur=con.cursor()\n",
    "cur.execute(\"create table customer(id int, name varchar(2000))\")\n",
    "\n"
   ]
  },
  {
   "cell_type": "code",
   "execution_count": 25,
   "metadata": {
    "collapsed": true
   },
   "outputs": [],
   "source": [
    "con.close()"
   ]
  },
  {
   "cell_type": "code",
   "execution_count": 27,
   "metadata": {},
   "outputs": [],
   "source": [
    "import random\n",
    "try:\n",
    "    con=psycopg2.connect(user=\"postgres\",password=\"root\",host=\"localhost\",database=\"batch47\",port=5432)\n",
    "    cur=con.cursor()\n",
    "    cur.execute(\"create table customer(id int, name varchar(2000))\")\n",
    "    names=[\"jay\",\"vedhanth\",\"sai\",\"shruthi\",\"thrishanth\",\"udhaya\"]\n",
    "    for i in range(3,104):\n",
    "        q=\"insert into customer(id,name) values(%s,'%s')\"%(i,random.choice(names))\n",
    "        cur.execute(q)\n",
    "except Exception as err:\n",
    "    print err\n",
    "finally:\n",
    "    con.commit()\n",
    "    con.close()"
   ]
  },
  {
   "cell_type": "code",
   "execution_count": null,
   "metadata": {
    "collapsed": true
   },
   "outputs": [],
   "source": []
  }
 ],
 "metadata": {
  "kernelspec": {
   "display_name": "Python 2",
   "language": "python",
   "name": "python2"
  },
  "language_info": {
   "codemirror_mode": {
    "name": "ipython",
    "version": 2
   },
   "file_extension": ".py",
   "mimetype": "text/x-python",
   "name": "python",
   "nbconvert_exporter": "python",
   "pygments_lexer": "ipython2",
   "version": "2.7.14"
  }
 },
 "nbformat": 4,
 "nbformat_minor": 2
}
