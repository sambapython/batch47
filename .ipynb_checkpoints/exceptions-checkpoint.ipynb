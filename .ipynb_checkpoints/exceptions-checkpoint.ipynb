{
 "cells": [
  {
   "cell_type": "code",
   "execution_count": 2,
   "metadata": {},
   "outputs": [
    {
     "name": "stdout",
     "output_type": "stream",
     "text": [
      "welcome\n",
      "Enter a value:12\n",
      "Enter b value:6\n",
      "before conversion a=12, b=6\n",
      "after conversion a=12, b=6\n",
      "res= 2\n",
      "thank you..\n"
     ]
    }
   ],
   "source": [
    "print \"welcome\"\n",
    "a=raw_input(\"Enter a value:\")\n",
    "b=raw_input(\"Enter b value:\")\n",
    "print \"before conversion a=%s, b=%s\"%(a,b)\n",
    "a=int(a)\n",
    "b=int(b)\n",
    "print \"after conversion a=%s, b=%s\"%(a,b)\n",
    "res=a/b\n",
    "print \"res=\",res\n",
    "print \"thank you..\""
   ]
  },
  {
   "cell_type": "code",
   "execution_count": 3,
   "metadata": {},
   "outputs": [
    {
     "name": "stdout",
     "output_type": "stream",
     "text": [
      "welcome\n",
      "Enter a value:1.2\n",
      "Enter b value:0.6\n",
      "before conversion a=1.2, b=0.6\n"
     ]
    },
    {
     "ename": "ValueError",
     "evalue": "invalid literal for int() with base 10: '1.2'",
     "output_type": "error",
     "traceback": [
      "\u001b[0;31m---------------------------------------------------------------------------\u001b[0m",
      "\u001b[0;31mValueError\u001b[0m                                Traceback (most recent call last)",
      "\u001b[0;32m<ipython-input-3-ec0417783240>\u001b[0m in \u001b[0;36m<module>\u001b[0;34m()\u001b[0m\n\u001b[1;32m      3\u001b[0m \u001b[0mb\u001b[0m\u001b[0;34m=\u001b[0m\u001b[0mraw_input\u001b[0m\u001b[0;34m(\u001b[0m\u001b[0;34m\"Enter b value:\"\u001b[0m\u001b[0;34m)\u001b[0m\u001b[0;34m\u001b[0m\u001b[0m\n\u001b[1;32m      4\u001b[0m \u001b[0;32mprint\u001b[0m \u001b[0;34m\"before conversion a=%s, b=%s\"\u001b[0m\u001b[0;34m%\u001b[0m\u001b[0;34m(\u001b[0m\u001b[0ma\u001b[0m\u001b[0;34m,\u001b[0m\u001b[0mb\u001b[0m\u001b[0;34m)\u001b[0m\u001b[0;34m\u001b[0m\u001b[0m\n\u001b[0;32m----> 5\u001b[0;31m \u001b[0ma\u001b[0m\u001b[0;34m=\u001b[0m\u001b[0mint\u001b[0m\u001b[0;34m(\u001b[0m\u001b[0ma\u001b[0m\u001b[0;34m)\u001b[0m\u001b[0;34m\u001b[0m\u001b[0m\n\u001b[0m\u001b[1;32m      6\u001b[0m \u001b[0mb\u001b[0m\u001b[0;34m=\u001b[0m\u001b[0mint\u001b[0m\u001b[0;34m(\u001b[0m\u001b[0mb\u001b[0m\u001b[0;34m)\u001b[0m\u001b[0;34m\u001b[0m\u001b[0m\n\u001b[1;32m      7\u001b[0m \u001b[0;32mprint\u001b[0m \u001b[0;34m\"after conversion a=%s, b=%s\"\u001b[0m\u001b[0;34m%\u001b[0m\u001b[0;34m(\u001b[0m\u001b[0ma\u001b[0m\u001b[0;34m,\u001b[0m\u001b[0mb\u001b[0m\u001b[0;34m)\u001b[0m\u001b[0;34m\u001b[0m\u001b[0m\n",
      "\u001b[0;31mValueError\u001b[0m: invalid literal for int() with base 10: '1.2'"
     ]
    }
   ],
   "source": [
    "print \"welcome\"\n",
    "a=raw_input(\"Enter a value:\")\n",
    "b=raw_input(\"Enter b value:\")\n",
    "print \"before conversion a=%s, b=%s\"%(a,b)\n",
    "a=int(a)\n",
    "b=int(b)\n",
    "print \"after conversion a=%s, b=%s\"%(a,b)\n",
    "res=a/b\n",
    "print \"res=\",res\n",
    "print \"thank you..\""
   ]
  },
  {
   "cell_type": "code",
   "execution_count": 4,
   "metadata": {},
   "outputs": [
    {
     "ename": "ValueError",
     "evalue": "invalid literal for int() with base 10: '1.2'",
     "output_type": "error",
     "traceback": [
      "\u001b[0;31m---------------------------------------------------------------------------\u001b[0m",
      "\u001b[0;31mValueError\u001b[0m                                Traceback (most recent call last)",
      "\u001b[0;32m<ipython-input-4-b441890430b0>\u001b[0m in \u001b[0;36m<module>\u001b[0;34m()\u001b[0m\n\u001b[0;32m----> 1\u001b[0;31m \u001b[0mint\u001b[0m\u001b[0;34m(\u001b[0m\u001b[0;34m\"1.2\"\u001b[0m\u001b[0;34m)\u001b[0m\u001b[0;34m\u001b[0m\u001b[0m\n\u001b[0m",
      "\u001b[0;31mValueError\u001b[0m: invalid literal for int() with base 10: '1.2'"
     ]
    }
   ],
   "source": [
    "int(\"1.2\")"
   ]
  },
  {
   "cell_type": "code",
   "execution_count": 5,
   "metadata": {},
   "outputs": [
    {
     "name": "stdout",
     "output_type": "stream",
     "text": [
      "welcome\n",
      "Enter a value:12\n",
      "Enter b value:6\n",
      "before conversion a=12, b=6\n",
      "after conversion a=12.0, b=6.0\n",
      "res= 2.0\n",
      "thank you..\n"
     ]
    }
   ],
   "source": [
    "print \"welcome\"\n",
    "a=raw_input(\"Enter a value:\")\n",
    "b=raw_input(\"Enter b value:\")\n",
    "print \"before conversion a=%s, b=%s\"%(a,b)\n",
    "a=float(a)\n",
    "b=float(b)\n",
    "print \"after conversion a=%s, b=%s\"%(a,b)\n",
    "res=a/b\n",
    "print \"res=\",res\n",
    "print \"thank you..\""
   ]
  },
  {
   "cell_type": "code",
   "execution_count": 6,
   "metadata": {},
   "outputs": [
    {
     "name": "stdout",
     "output_type": "stream",
     "text": [
      "welcome\n",
      "Enter a value:1.2\n",
      "Enter b value:0.6\n",
      "before conversion a=1.2, b=0.6\n",
      "after conversion a=1.2, b=0.6\n",
      "res= 2.0\n",
      "thank you..\n"
     ]
    }
   ],
   "source": [
    "print \"welcome\"\n",
    "a=raw_input(\"Enter a value:\")\n",
    "b=raw_input(\"Enter b value:\")\n",
    "print \"before conversion a=%s, b=%s\"%(a,b)\n",
    "a=float(a)\n",
    "b=float(b)\n",
    "print \"after conversion a=%s, b=%s\"%(a,b)\n",
    "res=a/b\n",
    "print \"res=\",res\n",
    "print \"thank you..\""
   ]
  },
  {
   "cell_type": "code",
   "execution_count": 7,
   "metadata": {},
   "outputs": [
    {
     "name": "stdout",
     "output_type": "stream",
     "text": [
      "welcome\n",
      "Enter a value:12we\n",
      "Enter b value:we23\n",
      "before conversion a=12we, b=we23\n"
     ]
    },
    {
     "ename": "ValueError",
     "evalue": "invalid literal for float(): 12we",
     "output_type": "error",
     "traceback": [
      "\u001b[0;31m---------------------------------------------------------------------------\u001b[0m",
      "\u001b[0;31mValueError\u001b[0m                                Traceback (most recent call last)",
      "\u001b[0;32m<ipython-input-7-7d3c8238f668>\u001b[0m in \u001b[0;36m<module>\u001b[0;34m()\u001b[0m\n\u001b[1;32m      3\u001b[0m \u001b[0mb\u001b[0m\u001b[0;34m=\u001b[0m\u001b[0mraw_input\u001b[0m\u001b[0;34m(\u001b[0m\u001b[0;34m\"Enter b value:\"\u001b[0m\u001b[0;34m)\u001b[0m\u001b[0;34m\u001b[0m\u001b[0m\n\u001b[1;32m      4\u001b[0m \u001b[0;32mprint\u001b[0m \u001b[0;34m\"before conversion a=%s, b=%s\"\u001b[0m\u001b[0;34m%\u001b[0m\u001b[0;34m(\u001b[0m\u001b[0ma\u001b[0m\u001b[0;34m,\u001b[0m\u001b[0mb\u001b[0m\u001b[0;34m)\u001b[0m\u001b[0;34m\u001b[0m\u001b[0m\n\u001b[0;32m----> 5\u001b[0;31m \u001b[0ma\u001b[0m\u001b[0;34m=\u001b[0m\u001b[0mfloat\u001b[0m\u001b[0;34m(\u001b[0m\u001b[0ma\u001b[0m\u001b[0;34m)\u001b[0m\u001b[0;34m\u001b[0m\u001b[0m\n\u001b[0m\u001b[1;32m      6\u001b[0m \u001b[0mb\u001b[0m\u001b[0;34m=\u001b[0m\u001b[0mfloat\u001b[0m\u001b[0;34m(\u001b[0m\u001b[0mb\u001b[0m\u001b[0;34m)\u001b[0m\u001b[0;34m\u001b[0m\u001b[0m\n\u001b[1;32m      7\u001b[0m \u001b[0;32mprint\u001b[0m \u001b[0;34m\"after conversion a=%s, b=%s\"\u001b[0m\u001b[0;34m%\u001b[0m\u001b[0;34m(\u001b[0m\u001b[0ma\u001b[0m\u001b[0;34m,\u001b[0m\u001b[0mb\u001b[0m\u001b[0;34m)\u001b[0m\u001b[0;34m\u001b[0m\u001b[0m\n",
      "\u001b[0;31mValueError\u001b[0m: invalid literal for float(): 12we"
     ]
    }
   ],
   "source": [
    "print \"welcome\"\n",
    "a=raw_input(\"Enter a value:\")\n",
    "b=raw_input(\"Enter b value:\")\n",
    "print \"before conversion a=%s, b=%s\"%(a,b)\n",
    "a=float(a)\n",
    "b=float(b)\n",
    "print \"after conversion a=%s, b=%s\"%(a,b)\n",
    "res=a/b\n",
    "print \"res=\",res\n",
    "print \"thank you..\""
   ]
  },
  {
   "cell_type": "code",
   "execution_count": 8,
   "metadata": {},
   "outputs": [
    {
     "name": "stdout",
     "output_type": "stream",
     "text": [
      "welcome\n",
      "Enter a value:12\n",
      "Enter b value:0\n",
      "before conversion a=12, b=0\n",
      "after conversion a=12.0, b=0.0\n"
     ]
    },
    {
     "ename": "ZeroDivisionError",
     "evalue": "float division by zero",
     "output_type": "error",
     "traceback": [
      "\u001b[0;31m---------------------------------------------------------------------------\u001b[0m",
      "\u001b[0;31mZeroDivisionError\u001b[0m                         Traceback (most recent call last)",
      "\u001b[0;32m<ipython-input-8-7d3c8238f668>\u001b[0m in \u001b[0;36m<module>\u001b[0;34m()\u001b[0m\n\u001b[1;32m      6\u001b[0m \u001b[0mb\u001b[0m\u001b[0;34m=\u001b[0m\u001b[0mfloat\u001b[0m\u001b[0;34m(\u001b[0m\u001b[0mb\u001b[0m\u001b[0;34m)\u001b[0m\u001b[0;34m\u001b[0m\u001b[0m\n\u001b[1;32m      7\u001b[0m \u001b[0;32mprint\u001b[0m \u001b[0;34m\"after conversion a=%s, b=%s\"\u001b[0m\u001b[0;34m%\u001b[0m\u001b[0;34m(\u001b[0m\u001b[0ma\u001b[0m\u001b[0;34m,\u001b[0m\u001b[0mb\u001b[0m\u001b[0;34m)\u001b[0m\u001b[0;34m\u001b[0m\u001b[0m\n\u001b[0;32m----> 8\u001b[0;31m \u001b[0mres\u001b[0m\u001b[0;34m=\u001b[0m\u001b[0ma\u001b[0m\u001b[0;34m/\u001b[0m\u001b[0mb\u001b[0m\u001b[0;34m\u001b[0m\u001b[0m\n\u001b[0m\u001b[1;32m      9\u001b[0m \u001b[0;32mprint\u001b[0m \u001b[0;34m\"res=\"\u001b[0m\u001b[0;34m,\u001b[0m\u001b[0mres\u001b[0m\u001b[0;34m\u001b[0m\u001b[0m\n\u001b[1;32m     10\u001b[0m \u001b[0;32mprint\u001b[0m \u001b[0;34m\"thank you..\"\u001b[0m\u001b[0;34m\u001b[0m\u001b[0m\n",
      "\u001b[0;31mZeroDivisionError\u001b[0m: float division by zero"
     ]
    }
   ],
   "source": [
    "print \"welcome\"\n",
    "a=raw_input(\"Enter a value:\")\n",
    "b=raw_input(\"Enter b value:\")\n",
    "print \"before conversion a=%s, b=%s\"%(a,b)\n",
    "a=float(a)\n",
    "b=float(b)\n",
    "print \"after conversion a=%s, b=%s\"%(a,b)\n",
    "res=a/b\n",
    "print \"res=\",res\n",
    "print \"thank you..\""
   ]
  },
  {
   "cell_type": "code",
   "execution_count": 9,
   "metadata": {},
   "outputs": [
    {
     "name": "stdout",
     "output_type": "stream",
     "text": [
      "welcome\n",
      "Enter a value:12\n",
      "Enter b value:6\n",
      "before conversion a=12, b=6\n",
      "after conversion a=12.0, b=6.0\n",
      "res= 2.0\n",
      "thank you..\n"
     ]
    }
   ],
   "source": [
    "try:\n",
    "    print \"welcome\"\n",
    "    a=raw_input(\"Enter a value:\")\n",
    "    b=raw_input(\"Enter b value:\")\n",
    "    print \"before conversion a=%s, b=%s\"%(a,b)\n",
    "    a=float(a)\n",
    "    b=float(b)\n",
    "    print \"after conversion a=%s, b=%s\"%(a,b)\n",
    "    res=a/b\n",
    "    print \"res=\",res\n",
    "    print \"thank you..\"\n",
    "except:\n",
    "    print \"Something went wrong..\"\n",
    "    "
   ]
  },
  {
   "cell_type": "code",
   "execution_count": 10,
   "metadata": {},
   "outputs": [
    {
     "name": "stdout",
     "output_type": "stream",
     "text": [
      "welcome\n",
      "Enter a value:1.2\n",
      "Enter b value:0.6\n",
      "before conversion a=1.2, b=0.6\n",
      "after conversion a=1.2, b=0.6\n",
      "res= 2.0\n",
      "thank you..\n"
     ]
    }
   ],
   "source": [
    "try:\n",
    "    print \"welcome\"\n",
    "    a=raw_input(\"Enter a value:\")\n",
    "    b=raw_input(\"Enter b value:\")\n",
    "    print \"before conversion a=%s, b=%s\"%(a,b)\n",
    "    a=float(a)\n",
    "    b=float(b)\n",
    "    print \"after conversion a=%s, b=%s\"%(a,b)\n",
    "    res=a/b\n",
    "    print \"res=\",res\n",
    "    print \"thank you..\"\n",
    "except:\n",
    "    print \"Something went wrong..\"\n",
    "    "
   ]
  },
  {
   "cell_type": "code",
   "execution_count": 11,
   "metadata": {},
   "outputs": [
    {
     "name": "stdout",
     "output_type": "stream",
     "text": [
      "welcome\n",
      "Enter a value:12we\n",
      "Enter b value:er34\n",
      "before conversion a=12we, b=er34\n",
      "Something went wrong..\n"
     ]
    }
   ],
   "source": [
    "try:\n",
    "    print \"welcome\"\n",
    "    a=raw_input(\"Enter a value:\")\n",
    "    b=raw_input(\"Enter b value:\")\n",
    "    print \"before conversion a=%s, b=%s\"%(a,b)\n",
    "    a=float(a)\n",
    "    b=float(b)\n",
    "    print \"after conversion a=%s, b=%s\"%(a,b)\n",
    "    res=a/b\n",
    "    print \"res=\",res\n",
    "    print \"thank you..\"\n",
    "except:\n",
    "    print \"Something went wrong..\"\n",
    "    "
   ]
  },
  {
   "cell_type": "code",
   "execution_count": 12,
   "metadata": {},
   "outputs": [
    {
     "name": "stdout",
     "output_type": "stream",
     "text": [
      "welcome\n",
      "Enter a value:12\n",
      "Enter b value:0\n",
      "before conversion a=12, b=0\n",
      "after conversion a=12.0, b=0.0\n",
      "Something went wrong..\n"
     ]
    }
   ],
   "source": [
    "try:\n",
    "    print \"welcome\"\n",
    "    a=raw_input(\"Enter a value:\")\n",
    "    b=raw_input(\"Enter b value:\")\n",
    "    print \"before conversion a=%s, b=%s\"%(a,b)\n",
    "    a=float(a)\n",
    "    b=float(b)\n",
    "    print \"after conversion a=%s, b=%s\"%(a,b)\n",
    "    res=a/b\n",
    "    print \"res=\",res\n",
    "    print \"thank you..\"\n",
    "except:\n",
    "    print \"Something went wrong..\"\n",
    "    "
   ]
  },
  {
   "cell_type": "code",
   "execution_count": 13,
   "metadata": {},
   "outputs": [
    {
     "name": "stdout",
     "output_type": "stream",
     "text": [
      "welcome\n",
      "Enter a value:12\n",
      "Enter b value:6\n",
      "before conversion a=12, b=6\n",
      "after conversion a=12.0, b=6.0\n",
      "res= 2.0\n",
      "some other statements in program\n",
      "thank you..\n"
     ]
    }
   ],
   "source": [
    "print \"welcome\"\n",
    "a=raw_input(\"Enter a value:\")\n",
    "b=raw_input(\"Enter b value:\")\n",
    "print \"before conversion a=%s, b=%s\"%(a,b)\n",
    "try:\n",
    "    a=float(a)\n",
    "    b=float(b)\n",
    "    print \"after conversion a=%s, b=%s\"%(a,b)\n",
    "    res=a/b\n",
    "    print \"res=\",res\n",
    "except:\n",
    "    print \"except block started\"\n",
    "    print \"Something went wrong..\"\n",
    "    print \"except block ennded..\"\n",
    "print \"some other statements in program\"\n",
    "print \"thank you..\"   "
   ]
  },
  {
   "cell_type": "code",
   "execution_count": 14,
   "metadata": {},
   "outputs": [
    {
     "name": "stdout",
     "output_type": "stream",
     "text": [
      "welcome\n",
      "Enter a value:12\n",
      "Enter b value:0\n",
      "before conversion a=12, b=0\n",
      "after conversion a=12.0, b=0.0\n",
      "except block started\n",
      "Something went wrong..\n",
      "except block ennded..\n",
      "some other statements in program\n",
      "thank you..\n"
     ]
    }
   ],
   "source": [
    "print \"welcome\"\n",
    "a=raw_input(\"Enter a value:\")\n",
    "b=raw_input(\"Enter b value:\")\n",
    "print \"before conversion a=%s, b=%s\"%(a,b)\n",
    "try:\n",
    "    a=float(a)\n",
    "    b=float(b)\n",
    "    print \"after conversion a=%s, b=%s\"%(a,b)\n",
    "    res=a/b\n",
    "    print \"res=\",res\n",
    "except:\n",
    "    print \"except block started\"\n",
    "    print \"Something went wrong..\"\n",
    "    print \"except block ennded..\"\n",
    "print \"some other statements in program\"\n",
    "print \"thank you..\"   "
   ]
  },
  {
   "cell_type": "code",
   "execution_count": 15,
   "metadata": {},
   "outputs": [
    {
     "name": "stdout",
     "output_type": "stream",
     "text": [
      "welcome\n",
      "Enter a value:12wer\n",
      "Enter b value:23erty\n",
      "before conversion a=12wer, b=23erty\n",
      "except block started\n",
      "Something went wrong..\n",
      "except block ennded..\n",
      "some other statements in program\n",
      "thank you..\n"
     ]
    }
   ],
   "source": [
    "print \"welcome\"\n",
    "a=raw_input(\"Enter a value:\")\n",
    "b=raw_input(\"Enter b value:\")\n",
    "print \"before conversion a=%s, b=%s\"%(a,b)\n",
    "try:\n",
    "    a=float(a)\n",
    "    b=float(b)\n",
    "    print \"after conversion a=%s, b=%s\"%(a,b)\n",
    "    res=a/b\n",
    "    print \"res=\",res\n",
    "except:\n",
    "    print \"except block started\"\n",
    "    print \"Something went wrong..\"\n",
    "    print \"except block ennded..\"\n",
    "print \"some other statements in program\"\n",
    "print \"thank you..\"   "
   ]
  },
  {
   "cell_type": "code",
   "execution_count": 16,
   "metadata": {},
   "outputs": [
    {
     "name": "stdout",
     "output_type": "stream",
     "text": [
      "welcome\n",
      "Enter a value:12\n",
      "Enter b value:6\n",
      "before conversion a=12, b=6\n",
      "after conversion a=12.0, b=6.0\n",
      "res= 2.0\n",
      "some other statements in program\n",
      "thank you..\n"
     ]
    }
   ],
   "source": [
    "print \"welcome\"\n",
    "a=raw_input(\"Enter a value:\")\n",
    "b=raw_input(\"Enter b value:\")\n",
    "print \"before conversion a=%s, b=%s\"%(a,b)\n",
    "try:\n",
    "    a=float(a)\n",
    "    b=float(b)\n",
    "    print \"after conversion a=%s, b=%s\"%(a,b)\n",
    "    res=a/b\n",
    "    print \"res=\",res\n",
    "except Exception as err:\n",
    "    print \"Something went wrong..\"\n",
    "    print err \n",
    "   \n",
    "print \"some other statements in program\"\n",
    "print \"thank you..\"   "
   ]
  },
  {
   "cell_type": "code",
   "execution_count": 19,
   "metadata": {},
   "outputs": [
    {
     "name": "stdout",
     "output_type": "stream",
     "text": [
      "welcome\n",
      "Enter a value:12\n",
      "Enter b value:0\n",
      "before conversion a=12, b=0\n",
      "after conversion a=12.0, b=0.0\n",
      "Something went wrong..\n",
      "Error: float division by zero\n",
      "some other statements in program\n",
      "thank you..\n"
     ]
    }
   ],
   "source": [
    "print \"welcome\"\n",
    "a=raw_input(\"Enter a value:\")\n",
    "b=raw_input(\"Enter b value:\")\n",
    "print \"before conversion a=%s, b=%s\"%(a,b)\n",
    "try:\n",
    "    a=float(a)\n",
    "    b=float(b)\n",
    "    print \"after conversion a=%s, b=%s\"%(a,b)\n",
    "    res=a/b\n",
    "    print \"res=\",res\n",
    "except Exception as err:\n",
    "    print \"Something went wrong..\"\n",
    "    print \"Error:\",err \n",
    "   \n",
    "print \"some other statements in program\"\n",
    "print \"thank you..\"   "
   ]
  },
  {
   "cell_type": "code",
   "execution_count": 20,
   "metadata": {},
   "outputs": [
    {
     "name": "stdout",
     "output_type": "stream",
     "text": [
      "welcome\n",
      "Enter a value:12we\n",
      "Enter b value:23\n",
      "before conversion a=12we, b=23\n",
      "Something went wrong..\n",
      "Error: invalid literal for float(): 12we\n",
      "some other statements in program\n",
      "thank you..\n"
     ]
    }
   ],
   "source": [
    "print \"welcome\"\n",
    "a=raw_input(\"Enter a value:\")\n",
    "b=raw_input(\"Enter b value:\")\n",
    "print \"before conversion a=%s, b=%s\"%(a,b)\n",
    "try:\n",
    "    a=float(a)\n",
    "    b=float(b)\n",
    "    print \"after conversion a=%s, b=%s\"%(a,b)\n",
    "    res=a/b\n",
    "    print \"res=\",res\n",
    "except Exception as err:\n",
    "    print \"Something went wrong..\"\n",
    "    print \"Error:\",err \n",
    "   \n",
    "print \"some other statements in program\"\n",
    "print \"thank you..\"   "
   ]
  },
  {
   "cell_type": "code",
   "execution_count": 21,
   "metadata": {},
   "outputs": [
    {
     "name": "stdout",
     "output_type": "stream",
     "text": [
      "welcome\n",
      "Enter a value:12\n",
      "Enter b value:6\n",
      "before conversion a=12, b=6\n",
      "after conversion a=12.0, b=6.0\n",
      "res= 2.0\n",
      "some other statements in program\n",
      "thank you..\n"
     ]
    }
   ],
   "source": [
    "print \"welcome\"\n",
    "a=raw_input(\"Enter a value:\")\n",
    "b=raw_input(\"Enter b value:\")\n",
    "print \"before conversion a=%s, b=%s\"%(a,b)\n",
    "try:\n",
    "    a=float(a)\n",
    "    b=float(b)\n",
    "    print \"after conversion a=%s, b=%s\"%(a,b)\n",
    "    res=a/b\n",
    "    print \"res=\",res\n",
    "except ZeroDivisionError as err:\n",
    "    print err\n",
    "    print \"Dont enter zero fro b. b!=0\"\n",
    "except Exception as err:\n",
    "    print \"Something went wrong..\"\n",
    "    print \"Error:\",err \n",
    "   \n",
    "print \"some other statements in program\"\n",
    "print \"thank you..\"   "
   ]
  },
  {
   "cell_type": "code",
   "execution_count": 22,
   "metadata": {},
   "outputs": [
    {
     "name": "stdout",
     "output_type": "stream",
     "text": [
      "welcome\n",
      "Enter a value:12\n",
      "Enter b value:0\n",
      "before conversion a=12, b=0\n",
      "after conversion a=12.0, b=0.0\n",
      "float division by zero\n",
      "Dont enter zero fro b. b!=0\n",
      "some other statements in program\n",
      "thank you..\n"
     ]
    }
   ],
   "source": [
    "print \"welcome\"\n",
    "a=raw_input(\"Enter a value:\")\n",
    "b=raw_input(\"Enter b value:\")\n",
    "print \"before conversion a=%s, b=%s\"%(a,b)\n",
    "try:\n",
    "    a=float(a)\n",
    "    b=float(b)\n",
    "    print \"after conversion a=%s, b=%s\"%(a,b)\n",
    "    res=a/b\n",
    "    print \"res=\",res\n",
    "except ZeroDivisionError as err:\n",
    "    print err\n",
    "    print \"Dont enter zero fro b. b!=0\"\n",
    "except Exception as err:\n",
    "    print \"Something went wrong..\"\n",
    "    print \"Error:\",err \n",
    "   \n",
    "print \"some other statements in program\"\n",
    "print \"thank you..\"   "
   ]
  },
  {
   "cell_type": "code",
   "execution_count": 23,
   "metadata": {},
   "outputs": [
    {
     "name": "stdout",
     "output_type": "stream",
     "text": [
      "welcome\n",
      "Enter a value:12\n",
      "Enter b value:wer\n",
      "before conversion a=12, b=wer\n",
      "Something went wrong..\n",
      "Error: could not convert string to float: wer\n",
      "some other statements in program\n",
      "thank you..\n"
     ]
    }
   ],
   "source": [
    "print \"welcome\"\n",
    "a=raw_input(\"Enter a value:\")\n",
    "b=raw_input(\"Enter b value:\")\n",
    "print \"before conversion a=%s, b=%s\"%(a,b)\n",
    "try:\n",
    "    a=float(a)\n",
    "    b=float(b)\n",
    "    print \"after conversion a=%s, b=%s\"%(a,b)\n",
    "    res=a/b\n",
    "    print \"res=\",res\n",
    "except ZeroDivisionError as err:\n",
    "    print err\n",
    "    print \"Dont enter zero fro b. b!=0\"\n",
    "except Exception as err:\n",
    "    print \"Something went wrong..\"\n",
    "    print \"Error:\",err \n",
    "   \n",
    "print \"some other statements in program\"\n",
    "print \"thank you..\"   "
   ]
  },
  {
   "cell_type": "code",
   "execution_count": 24,
   "metadata": {},
   "outputs": [
    {
     "name": "stdout",
     "output_type": "stream",
     "text": [
      "welcome\n",
      "Enter a value:12\n",
      "Enter b value:6\n",
      "before conversion a=12, b=6\n",
      "after conversion a=12.0, b=6.0\n",
      "res= 2.0\n",
      "some other statements in program\n",
      "thank you..\n"
     ]
    }
   ],
   "source": [
    "print \"welcome\"\n",
    "a=raw_input(\"Enter a value:\")\n",
    "b=raw_input(\"Enter b value:\")\n",
    "print \"before conversion a=%s, b=%s\"%(a,b)\n",
    "try:\n",
    "    a=float(a)\n",
    "    b=float(b)\n",
    "    print \"after conversion a=%s, b=%s\"%(a,b)\n",
    "    res=a/b\n",
    "    print \"res=\",res\n",
    "except ZeroDivisionError as err:\n",
    "    print err\n",
    "    print \"Dont enter zero fro b. b!=0\"\n",
    "except ValueError as err:\n",
    "    print err\n",
    "    print \"Expecting only digits..\"\n",
    "except Exception as err:\n",
    "    print \"Something went wrong..\"\n",
    "    print \"Error:\",err \n",
    "   \n",
    "print \"some other statements in program\"\n",
    "print \"thank you..\"   "
   ]
  },
  {
   "cell_type": "code",
   "execution_count": 25,
   "metadata": {},
   "outputs": [
    {
     "name": "stdout",
     "output_type": "stream",
     "text": [
      "welcome\n",
      "Enter a value:12\n",
      "Enter b value:0\n",
      "before conversion a=12, b=0\n",
      "after conversion a=12.0, b=0.0\n",
      "float division by zero\n",
      "Dont enter zero fro b. b!=0\n",
      "some other statements in program\n",
      "thank you..\n"
     ]
    }
   ],
   "source": [
    "print \"welcome\"\n",
    "a=raw_input(\"Enter a value:\")\n",
    "b=raw_input(\"Enter b value:\")\n",
    "print \"before conversion a=%s, b=%s\"%(a,b)\n",
    "try:\n",
    "    a=float(a)\n",
    "    b=float(b)\n",
    "    print \"after conversion a=%s, b=%s\"%(a,b)\n",
    "    res=a/b\n",
    "    print \"res=\",res\n",
    "except ZeroDivisionError as err:\n",
    "    print err\n",
    "    print \"Dont enter zero fro b. b!=0\"\n",
    "except ValueError as err:\n",
    "    print err\n",
    "    print \"Expecting only digits..\"\n",
    "except Exception as err:\n",
    "    print \"Something went wrong..\"\n",
    "    print \"Error:\",err \n",
    "   \n",
    "print \"some other statements in program\"\n",
    "print \"thank you..\"   "
   ]
  },
  {
   "cell_type": "code",
   "execution_count": 27,
   "metadata": {},
   "outputs": [
    {
     "name": "stdout",
     "output_type": "stream",
     "text": [
      "welcome\n",
      "Enter a value:12we\n",
      "Enter b value:0\n",
      "before conversion a=12we, b=0\n",
      "invalid literal for float(): 12we\n",
      "Expecting only digits..\n",
      "some other statements in program\n",
      "thank you..\n"
     ]
    }
   ],
   "source": [
    "print \"welcome\"\n",
    "a=raw_input(\"Enter a value:\")\n",
    "b=raw_input(\"Enter b value:\")\n",
    "print \"before conversion a=%s, b=%s\"%(a,b)\n",
    "try:\n",
    "    a=float(a)\n",
    "    b=float(b)\n",
    "    print \"after conversion a=%s, b=%s\"%(a,b)\n",
    "    res=a/b\n",
    "    print \"res=\",res\n",
    "except ZeroDivisionError as err:\n",
    "    print err\n",
    "    print \"Dont enter zero fro b. b!=0\"\n",
    "except ValueError as err:\n",
    "    print err\n",
    "    print \"Expecting only digits..\"\n",
    "except Exception as err:\n",
    "    print \"Something went wrong..\"\n",
    "    print \"Error:\",err \n",
    "   \n",
    "print \"some other statements in program\"\n",
    "print \"thank you..\"   "
   ]
  },
  {
   "cell_type": "code",
   "execution_count": 28,
   "metadata": {},
   "outputs": [
    {
     "name": "stdout",
     "output_type": "stream",
     "text": [
      "welcome\n",
      "Enter a value:12\n",
      "Enter b value:0\n",
      "before conversion a=12, b=0\n",
      "after conversion a=12.0, b=0.0\n",
      "float division by zero\n",
      "Dont enter zero fro b. b!=0\n"
     ]
    },
    {
     "ename": "ZeroDivisionError",
     "evalue": "integer division or modulo by zero",
     "output_type": "error",
     "traceback": [
      "\u001b[0;31m---------------------------------------------------------------------------\u001b[0m",
      "\u001b[0;31mZeroDivisionError\u001b[0m                         Traceback (most recent call last)",
      "\u001b[0;32m<ipython-input-28-06381a9b6c03>\u001b[0m in \u001b[0;36m<module>\u001b[0;34m()\u001b[0m\n\u001b[1;32m     12\u001b[0m     \u001b[0;32mprint\u001b[0m \u001b[0merr\u001b[0m\u001b[0;34m\u001b[0m\u001b[0m\n\u001b[1;32m     13\u001b[0m     \u001b[0;32mprint\u001b[0m \u001b[0;34m\"Dont enter zero fro b. b!=0\"\u001b[0m\u001b[0;34m\u001b[0m\u001b[0m\n\u001b[0;32m---> 14\u001b[0;31m     \u001b[0;32mprint\u001b[0m \u001b[0;36m1\u001b[0m\u001b[0;34m/\u001b[0m\u001b[0;36m0\u001b[0m\u001b[0;34m\u001b[0m\u001b[0m\n\u001b[0m\u001b[1;32m     15\u001b[0m \u001b[0;32mexcept\u001b[0m \u001b[0mValueError\u001b[0m \u001b[0;32mas\u001b[0m \u001b[0merr\u001b[0m\u001b[0;34m:\u001b[0m\u001b[0;34m\u001b[0m\u001b[0m\n\u001b[1;32m     16\u001b[0m     \u001b[0;32mprint\u001b[0m \u001b[0merr\u001b[0m\u001b[0;34m\u001b[0m\u001b[0m\n",
      "\u001b[0;31mZeroDivisionError\u001b[0m: integer division or modulo by zero"
     ]
    }
   ],
   "source": [
    "print \"welcome\"\n",
    "a=raw_input(\"Enter a value:\")\n",
    "b=raw_input(\"Enter b value:\")\n",
    "print \"before conversion a=%s, b=%s\"%(a,b)\n",
    "try:\n",
    "    a=float(a)\n",
    "    b=float(b)\n",
    "    print \"after conversion a=%s, b=%s\"%(a,b)\n",
    "    res=a/b\n",
    "    print \"res=\",res\n",
    "except ZeroDivisionError as err:\n",
    "    print err\n",
    "    print \"Dont enter zero fro b. b!=0\"\n",
    "    print 1/0\n",
    "except ValueError as err:\n",
    "    print err\n",
    "    print \"Expecting only digits..\"\n",
    "except Exception as err:\n",
    "    print \"Something went wrong..\"\n",
    "    print \"Error:\",err \n",
    "   \n",
    "print \"some other statements in program\"\n",
    "print \"thank you..\"   "
   ]
  },
  {
   "cell_type": "code",
   "execution_count": 29,
   "metadata": {},
   "outputs": [
    {
     "name": "stdout",
     "output_type": "stream",
     "text": [
      "welcome\n",
      "Enter a value:12\n",
      "Enter b value:0\n",
      "before conversion a=12, b=0\n",
      "after conversion a=12.0, b=0.0\n",
      "float division by zero\n",
      "Dont enter zero fro b. b!=0\n",
      "integer division or modulo by zero\n",
      "some other statements in program\n",
      "thank you..\n"
     ]
    }
   ],
   "source": [
    "print \"welcome\"\n",
    "a=raw_input(\"Enter a value:\")\n",
    "b=raw_input(\"Enter b value:\")\n",
    "print \"before conversion a=%s, b=%s\"%(a,b)\n",
    "try:\n",
    "    a=float(a)\n",
    "    b=float(b)\n",
    "    print \"after conversion a=%s, b=%s\"%(a,b)\n",
    "    res=a/b\n",
    "    print \"res=\",res\n",
    "except ZeroDivisionError as err:\n",
    "    print err\n",
    "    print \"Dont enter zero fro b. b!=0\"\n",
    "    try:\n",
    "        print 1/0\n",
    "    except Exception as err:\n",
    "        print err\n",
    "        \n",
    "except ValueError as err:\n",
    "    print err\n",
    "    print \"Expecting only digits..\"\n",
    "except Exception as err:\n",
    "    print \"Something went wrong..\"\n",
    "    print \"Error:\",err \n",
    "   \n",
    "print \"some other statements in program\"\n",
    "print \"thank you..\"   "
   ]
  },
  {
   "cell_type": "code",
   "execution_count": 31,
   "metadata": {},
   "outputs": [
    {
     "name": "stdout",
     "output_type": "stream",
     "text": [
      "welcome\n",
      "Enter a value:12\n",
      "Enter b value:34\n",
      "before conversion a=12, b=34\n",
      "after conversion a=12.0, b=34.0\n",
      "res= 0.352941176471\n",
      "some other statements in program\n",
      "Enter c value:12\n",
      "C value: 12\n",
      "thank you..\n"
     ]
    }
   ],
   "source": [
    "print \"welcome\"\n",
    "a=raw_input(\"Enter a value:\")\n",
    "b=raw_input(\"Enter b value:\")\n",
    "print \"before conversion a=%s, b=%s\"%(a,b)\n",
    "try:\n",
    "    a=float(a)\n",
    "    b=float(b)\n",
    "    print \"after conversion a=%s, b=%s\"%(a,b)\n",
    "    res=a/b\n",
    "    print \"res=\",res\n",
    "except ZeroDivisionError as err:\n",
    "    print err\n",
    "    print \"Dont enter zero fro b. b!=0\"\n",
    "    try:\n",
    "        print 1/0\n",
    "    except Exception as err:\n",
    "        print err\n",
    "        \n",
    "except ValueError as err:\n",
    "    print err\n",
    "    print \"Expecting only digits..\"\n",
    "except Exception as err:\n",
    "    print \"Something went wrong..\"\n",
    "    print \"Error:\",err \n",
    "   \n",
    "print \"some other statements in program\"\n",
    "try:\n",
    "    c=int(raw_input(\"Enter c value:\"))\n",
    "    print \"C value:\",c\n",
    "except Exception as err:\n",
    "    print err\n",
    "print \"thank you..\"   "
   ]
  },
  {
   "cell_type": "code",
   "execution_count": 32,
   "metadata": {},
   "outputs": [
    {
     "name": "stdout",
     "output_type": "stream",
     "text": [
      "welcome\n",
      "Enter a value:12\n",
      "Enter b value:34\n",
      "before conversion a=12, b=34\n",
      "after conversion a=12.0, b=34.0\n",
      "res= 0.352941176471\n",
      "some other statements in program\n",
      "Enter c value:1.2\n",
      "invalid literal for int() with base 10: '1.2'\n",
      "thank you..\n"
     ]
    }
   ],
   "source": [
    "print \"welcome\"\n",
    "a=raw_input(\"Enter a value:\")\n",
    "b=raw_input(\"Enter b value:\")\n",
    "print \"before conversion a=%s, b=%s\"%(a,b)\n",
    "try:\n",
    "    a=float(a)\n",
    "    b=float(b)\n",
    "    print \"after conversion a=%s, b=%s\"%(a,b)\n",
    "    res=a/b\n",
    "    print \"res=\",res\n",
    "except ZeroDivisionError as err:\n",
    "    print err\n",
    "    print \"Dont enter zero fro b. b!=0\"\n",
    "    try:\n",
    "        print 1/0\n",
    "    except Exception as err:\n",
    "        print err\n",
    "        \n",
    "except ValueError as err:\n",
    "    print err\n",
    "    print \"Expecting only digits..\"\n",
    "except Exception as err:\n",
    "    print \"Something went wrong..\"\n",
    "    print \"Error:\",err \n",
    "   \n",
    "print \"some other statements in program\"\n",
    "try:\n",
    "    c=int(raw_input(\"Enter c value:\"))\n",
    "    print \"C value:\",c\n",
    "except Exception as err:\n",
    "    print err\n",
    "print \"thank you..\"   "
   ]
  },
  {
   "cell_type": "code",
   "execution_count": 33,
   "metadata": {
    "collapsed": true
   },
   "outputs": [],
   "source": [
    "f=open(\"data3.csv\",\"w\")\n",
    "f.write(\"some data\")\n",
    "f.close()"
   ]
  },
  {
   "cell_type": "code",
   "execution_count": 34,
   "metadata": {},
   "outputs": [
    {
     "ename": "ZeroDivisionError",
     "evalue": "integer division or modulo by zero",
     "output_type": "error",
     "traceback": [
      "\u001b[0;31m---------------------------------------------------------------------------\u001b[0m",
      "\u001b[0;31mZeroDivisionError\u001b[0m                         Traceback (most recent call last)",
      "\u001b[0;32m<ipython-input-34-29ac1aee4d0a>\u001b[0m in \u001b[0;36m<module>\u001b[0;34m()\u001b[0m\n\u001b[1;32m      1\u001b[0m \u001b[0mf\u001b[0m\u001b[0;34m=\u001b[0m\u001b[0mopen\u001b[0m\u001b[0;34m(\u001b[0m\u001b[0;34m\"data3.csv\"\u001b[0m\u001b[0;34m,\u001b[0m\u001b[0;34m\"w\"\u001b[0m\u001b[0;34m)\u001b[0m\u001b[0;34m\u001b[0m\u001b[0m\n\u001b[1;32m      2\u001b[0m \u001b[0mf\u001b[0m\u001b[0;34m.\u001b[0m\u001b[0mwrite\u001b[0m\u001b[0;34m(\u001b[0m\u001b[0;34m\"some data\"\u001b[0m\u001b[0;34m)\u001b[0m\u001b[0;34m\u001b[0m\u001b[0m\n\u001b[0;32m----> 3\u001b[0;31m \u001b[0;32mprint\u001b[0m \u001b[0;36m1\u001b[0m\u001b[0;34m/\u001b[0m\u001b[0;36m0\u001b[0m\u001b[0;34m\u001b[0m\u001b[0m\n\u001b[0m\u001b[1;32m      4\u001b[0m \u001b[0mf\u001b[0m\u001b[0;34m.\u001b[0m\u001b[0mclose\u001b[0m\u001b[0;34m(\u001b[0m\u001b[0;34m)\u001b[0m\u001b[0;34m\u001b[0m\u001b[0m\n",
      "\u001b[0;31mZeroDivisionError\u001b[0m: integer division or modulo by zero"
     ]
    }
   ],
   "source": [
    "f=open(\"data3.csv\",\"w\")\n",
    "f.write(\"some data\")\n",
    "print 1/0\n",
    "f.close()"
   ]
  },
  {
   "cell_type": "code",
   "execution_count": 35,
   "metadata": {},
   "outputs": [
    {
     "name": "stdout",
     "output_type": "stream",
     "text": [
      "integer division or modulo by zero\n"
     ]
    }
   ],
   "source": [
    "f=open(\"data3.csv\",\"w\")\n",
    "try:\n",
    "    f.write(\"some data\")\n",
    "    print 1/0\n",
    "except Exception as err:\n",
    "    print err\n",
    "f.close()"
   ]
  },
  {
   "cell_type": "code",
   "execution_count": 36,
   "metadata": {},
   "outputs": [
    {
     "name": "stdout",
     "output_type": "stream",
     "text": [
      "integer division or modulo by zero\n",
      "thank you..\n"
     ]
    }
   ],
   "source": [
    "f=open(\"data3.csv\",\"w\")\n",
    "try:\n",
    "    f.write(\"some data\")\n",
    "    print 1/0\n",
    "except Exception as err:\n",
    "    print err\n",
    "finally:\n",
    "    f.close()\n",
    "print \"thank you..\""
   ]
  },
  {
   "cell_type": "code",
   "execution_count": 37,
   "metadata": {},
   "outputs": [
    {
     "name": "stdout",
     "output_type": "stream",
     "text": [
      "main block\n",
      "try\n",
      "finally\n",
      "main\n"
     ]
    }
   ],
   "source": [
    "print \"main block\"\n",
    "try:\n",
    "    print \"try\"\n",
    "except:\n",
    "    print \"except\"\n",
    "finally:\n",
    "    print \"finally\"\n",
    "print \"main\""
   ]
  },
  {
   "cell_type": "code",
   "execution_count": 38,
   "metadata": {},
   "outputs": [
    {
     "name": "stdout",
     "output_type": "stream",
     "text": [
      "main block\n",
      "try\n",
      "except\n",
      "finally\n",
      "main\n"
     ]
    }
   ],
   "source": [
    "print \"main block\"\n",
    "try:\n",
    "    print \"try\"\n",
    "    print 1/0\n",
    "except:\n",
    "    print \"except\"\n",
    "finally:\n",
    "    print \"finally\"\n",
    "print \"main\""
   ]
  },
  {
   "cell_type": "code",
   "execution_count": 39,
   "metadata": {},
   "outputs": [
    {
     "name": "stdout",
     "output_type": "stream",
     "text": [
      "integer division or modulo by zero\n",
      "thank you..\n"
     ]
    }
   ],
   "source": [
    "f=open(\"data3.csv\",\"w\")\n",
    "try:\n",
    "    f.write(\"some data\")\n",
    "    print 1/0\n",
    "except Exception as err:\n",
    "    print err\n",
    "f.close()\n",
    "print \"thank you..\""
   ]
  },
  {
   "cell_type": "code",
   "execution_count": 40,
   "metadata": {},
   "outputs": [
    {
     "name": "stdout",
     "output_type": "stream",
     "text": [
      "res= 10\n"
     ]
    }
   ],
   "source": [
    "def fun():\n",
    "        return 10\n",
    "        return 20\n",
    "        print \"finally\"\n",
    "        print \"function main block\"\n",
    "res=fun()\n",
    "print \"res=\",res"
   ]
  },
  {
   "cell_type": "code",
   "execution_count": 41,
   "metadata": {},
   "outputs": [
    {
     "name": "stdout",
     "output_type": "stream",
     "text": [
      "finally\n",
      "res= 10\n"
     ]
    }
   ],
   "source": [
    "def fun():\n",
    "    try:\n",
    "        return 10\n",
    "    except:\n",
    "        return 20\n",
    "    finally:\n",
    "        print \"finally\"\n",
    "    print \"function main block\"\n",
    "res=fun()\n",
    "print \"res=\",res"
   ]
  },
  {
   "cell_type": "code",
   "execution_count": 42,
   "metadata": {},
   "outputs": [
    {
     "name": "stdout",
     "output_type": "stream",
     "text": [
      "finally\n",
      "res= 30\n"
     ]
    }
   ],
   "source": [
    "def fun():\n",
    "    try:\n",
    "        return 10\n",
    "    except:\n",
    "        return 20\n",
    "    finally:\n",
    "        print \"finally\"\n",
    "        return 30\n",
    "    print \"function main block\"\n",
    "    \n",
    "res=fun()\n",
    "print \"res=\",res"
   ]
  },
  {
   "cell_type": "code",
   "execution_count": 43,
   "metadata": {},
   "outputs": [
    {
     "name": "stdout",
     "output_type": "stream",
     "text": [
      "res= 10\n"
     ]
    }
   ],
   "source": [
    "def fun():\n",
    "    try:\n",
    "        return 10\n",
    "        print 1/0\n",
    "    except:\n",
    "        return 20\n",
    "    \n",
    "    print \"function main block\"\n",
    "    \n",
    "res=fun()\n",
    "print \"res=\",res"
   ]
  },
  {
   "cell_type": "code",
   "execution_count": 44,
   "metadata": {},
   "outputs": [
    {
     "name": "stdout",
     "output_type": "stream",
     "text": [
      "main\n",
      "try\n",
      "else\n",
      "finally\n",
      "main block\n",
      "thank you..\n"
     ]
    }
   ],
   "source": [
    "print \"main\"\n",
    "try:\n",
    "    print \"try\"\n",
    "except:\n",
    "    print \"except\"\n",
    "else:\n",
    "    print \"else\"\n",
    "finally:\n",
    "    print \"finally\"\n",
    "print \"main block\"\n",
    "print \"thank you..\"\n"
   ]
  },
  {
   "cell_type": "code",
   "execution_count": 45,
   "metadata": {},
   "outputs": [
    {
     "name": "stdout",
     "output_type": "stream",
     "text": [
      "main\n",
      "try\n",
      "except\n",
      "finally\n",
      "main block\n",
      "thank you..\n"
     ]
    }
   ],
   "source": [
    "print \"main\"\n",
    "try:\n",
    "    print \"try\"\n",
    "    print 1/0\n",
    "except:\n",
    "    print \"except\"\n",
    "else:\n",
    "    print \"else\"\n",
    "finally:\n",
    "    print \"finally\"\n",
    "print \"main block\"\n",
    "print \"thank you..\"\n"
   ]
  },
  {
   "cell_type": "code",
   "execution_count": null,
   "metadata": {
    "collapsed": true
   },
   "outputs": [],
   "source": []
  }
 ],
 "metadata": {
  "kernelspec": {
   "display_name": "Python 2",
   "language": "python",
   "name": "python2"
  },
  "language_info": {
   "codemirror_mode": {
    "name": "ipython",
    "version": 2
   },
   "file_extension": ".py",
   "mimetype": "text/x-python",
   "name": "python",
   "nbconvert_exporter": "python",
   "pygments_lexer": "ipython2",
   "version": "2.7.14"
  }
 },
 "nbformat": 4,
 "nbformat_minor": 2
}
