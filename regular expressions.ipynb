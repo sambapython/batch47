{
 "cells": [
  {
   "cell_type": "code",
   "execution_count": 1,
   "metadata": {},
   "outputs": [
    {
     "name": "stdout",
     "output_type": "stream",
     "text": [
      "12,name,9676622023\n",
      "13,nam3,9676622024\n",
      "14,nam4,9676622025\n",
      "\n"
     ]
    }
   ],
   "source": [
    "s=\"12,name,9676622023\\n13,nam3,9676622024\\n14,nam4,9676622025\\n\"\n",
    "print s"
   ]
  },
  {
   "cell_type": "code",
   "execution_count": 4,
   "metadata": {},
   "outputs": [
    {
     "name": "stdout",
     "output_type": "stream",
     "text": [
      "12,name,9676622023\n",
      "13,nam3,9676622024\n",
      "14,nam4,9676622025\n"
     ]
    }
   ],
   "source": [
    "s=\"12,name,9676622023\\n13,nam3,9676622024\\n14,nam4,9676622025\\n\"\n",
    "\n",
    "for i in s.splitlines():\n",
    "    print i"
   ]
  },
  {
   "cell_type": "code",
   "execution_count": 6,
   "metadata": {},
   "outputs": [
    {
     "name": "stdout",
     "output_type": "stream",
     "text": [
      "['12', 'name', '9676622023']\n",
      "['13', 'nam3', '9676622024']\n",
      "['14', 'nam4', '9676622025']\n"
     ]
    }
   ],
   "source": [
    "s=\"12,name,9676622023\\n13,nam3,9676622024\\n14,nam4,9676622025\\n\"\n",
    "\n",
    "for i in s.splitlines():\n",
    "    print i.split(',')"
   ]
  },
  {
   "cell_type": "code",
   "execution_count": 7,
   "metadata": {},
   "outputs": [
    {
     "name": "stdout",
     "output_type": "stream",
     "text": [
      "9676622023\n",
      "9676622024\n",
      "9676622025\n"
     ]
    }
   ],
   "source": [
    "s=\"12,name,9676622023\\n13,nam3,9676622024\\n14,nam4,9676622025\\n\"\n",
    "\n",
    "for i in s.splitlines():\n",
    "    print i.split(',')[2]"
   ]
  },
  {
   "cell_type": "code",
   "execution_count": 8,
   "metadata": {},
   "outputs": [
    {
     "name": "stdout",
     "output_type": "stream",
     "text": [
      "name\n",
      "nam3\n",
      "nam4\n"
     ]
    }
   ],
   "source": [
    "s=\"12,name,9676622023\\n13,nam3,9676622024\\n14,nam4,9676622025\\n\"\n",
    "\n",
    "for i in s.splitlines():\n",
    "    print i.split(',')[1]"
   ]
  },
  {
   "cell_type": "code",
   "execution_count": 10,
   "metadata": {},
   "outputs": [
    {
     "name": "stdout",
     "output_type": "stream",
     "text": [
      "12\n",
      "13\n",
      "14\n"
     ]
    }
   ],
   "source": [
    "s=\"12,name,9676622023\\n13,nam3,9676622024\\n14,nam4,9676622025\\n\"\n",
    "\n",
    "for i in s.splitlines():\n",
    "    print i.split(',')[0]"
   ]
  },
  {
   "cell_type": "code",
   "execution_count": 11,
   "metadata": {},
   "outputs": [
    {
     "name": "stdout",
     "output_type": "stream",
     "text": [
      "name,12,9676622023\n",
      "967662202413,nam3\n",
      "14,9676622025,nam4\n",
      "\n"
     ]
    }
   ],
   "source": [
    "s=\"name,12,9676622023\\n967662202413,nam3\\n14,9676622025,nam4\\n\"\n",
    "print s"
   ]
  },
  {
   "cell_type": "code",
   "execution_count": 13,
   "metadata": {},
   "outputs": [
    {
     "name": "stdout",
     "output_type": "stream",
     "text": [
      "name,12,9676622023\n",
      "967662202413,13,nam3\n",
      "14,9676622025,nam4\n",
      "\n",
      "9676622023\n",
      "nam3\n",
      "nam4\n"
     ]
    }
   ],
   "source": [
    "s=\"name,12,9676622023\\n967662202413,13,nam3\\n14,9676622025,nam4\\n\"\n",
    "print s\n",
    "for i in s.splitlines():\n",
    "    print i.split(',')[2]"
   ]
  },
  {
   "cell_type": "code",
   "execution_count": 14,
   "metadata": {},
   "outputs": [
    {
     "name": "stdout",
     "output_type": "stream",
     "text": [
      "name,12,9676622023\n",
      "967662202413,13,nam3\n",
      "14,9676622025,nam4\n",
      "\n",
      "['9676622023', '9676622024', '9676622025']\n"
     ]
    }
   ],
   "source": [
    "s=\"name,12,9676622023\\n967662202413,13,nam3\\n14,9676622025,nam4\\n\"\n",
    "print s\n",
    "import re\n",
    "print re.findall(\"[0-9]{10}\",s)"
   ]
  },
  {
   "cell_type": "code",
   "execution_count": 15,
   "metadata": {},
   "outputs": [
    {
     "name": "stdout",
     "output_type": "stream",
     "text": [
      "name,12,9676622023,samba123@gmail.com\n",
      "rameshKUMAR@yahoo.co.in,967662202413,13,nam3\n",
      "14,9676622025,RAJESHreddy@rediff.con,nam4\n",
      "\n"
     ]
    }
   ],
   "source": [
    "s=\"name,12,9676622023,samba123@gmail.com\\nrameshKUMAR@yahoo.co.in,967662202413,13,nam3\\n14,9676622025,RAJESHreddy@rediff.con,nam4\\n\"\n",
    "print s\n"
   ]
  },
  {
   "cell_type": "code",
   "execution_count": 17,
   "metadata": {},
   "outputs": [
    {
     "name": "stdout",
     "output_type": "stream",
     "text": [
      "name,12,9676622023,samba123@gmail.com\n",
      "rameshKUMAR@yahoo.co.in,967662202413,13,nam3\n",
      "14,9676622025,RAJESHreddy@rediff.con,nam4\n",
      "\n"
     ]
    },
    {
     "data": {
      "text/plain": [
       "['a', 'a', 'b', 'a', 'a', 'c', 'a', 'a', 'c', 'a', 'c', 'a']"
      ]
     },
     "execution_count": 17,
     "metadata": {},
     "output_type": "execute_result"
    }
   ],
   "source": [
    "s=\"name,12,9676622023,samba123@gmail.com\\nrameshKUMAR@yahoo.co.in,967662202413,13,nam3\\n14,9676622025,RAJESHreddy@rediff.con,nam4\\n\"\n",
    "print s\n",
    "re.findall(\"[abc]\",s)"
   ]
  },
  {
   "cell_type": "code",
   "execution_count": 18,
   "metadata": {},
   "outputs": [
    {
     "name": "stdout",
     "output_type": "stream",
     "text": [
      "name,12,9676622023,samba123@gmail.com\n",
      "rameshKUMAR@yahoo.co.in,967662202413,13,nam3\n",
      "14,9676622025,RAJESHreddy@rediff.con,nam4\n",
      "\n"
     ]
    },
    {
     "data": {
      "text/plain": [
       "['a', 'a', 'b', 'a', 'a', 'c', 'a', 'A', 'a', 'c', 'a', 'A', 'c', 'a']"
      ]
     },
     "execution_count": 18,
     "metadata": {},
     "output_type": "execute_result"
    }
   ],
   "source": [
    "s=\"name,12,9676622023,samba123@gmail.com\\nrameshKUMAR@yahoo.co.in,967662202413,13,nam3\\n14,9676622025,RAJESHreddy@rediff.con,nam4\\n\"\n",
    "print s\n",
    "re.findall(\"[abc]\",s,re.I)"
   ]
  },
  {
   "cell_type": "code",
   "execution_count": 20,
   "metadata": {},
   "outputs": [
    {
     "name": "stdout",
     "output_type": "stream",
     "text": [
      "name,12,9676622023,samba123@gmail.com\n",
      "rameshKUMAR@yahoo.co.in,967662202413,13,nam3\n",
      "14,9676622025,RAJESHreddy@rediff.con,nam4\n",
      "\n",
      "['a', '1', '2', '2', '2', '2', '3', 'a', 'b', 'a', '1', '2', '3', 'a', 'c', 'a', 'A', 'a', 'c', '2', '2', '2', '1', '3', '1', '3', 'a', '3', '1', '2', '2', '2', 'A', 'c', 'a']\n"
     ]
    }
   ],
   "source": [
    "s=\"name,12,9676622023,samba123@gmail.com\\nrameshKUMAR@yahoo.co.in,967662202413,13,nam3\\n14,9676622025,RAJESHreddy@rediff.con,nam4\\n\"\n",
    "print s\n",
    "print re.findall(\"[abc123]\",s,re.I)"
   ]
  },
  {
   "cell_type": "code",
   "execution_count": 21,
   "metadata": {},
   "outputs": [
    {
     "name": "stdout",
     "output_type": "stream",
     "text": [
      "name,12,9676622023,samba123@gmail.com\n",
      "rameshKUMAR@yahoo.co.in,967662202413,13,nam3\n",
      "14,9676622025,RAJESHreddy@rediff.con,nam4\n",
      "\n",
      "['n', 'a', 'm', 'e', '1', '2', '9', '6', '7', '6', '6', '2', '2', '0', '2', '3', 's', 'a', 'm', 'b', 'a', '1', '2', '3', 'g', 'm', 'a', 'i', 'l', 'c', 'o', 'm', 'r', 'a', 'm', 'e', 's', 'h', 'K', 'U', 'M', 'A', 'R', 'y', 'a', 'h', 'o', 'o', 'c', 'o', 'i', 'n', '9', '6', '7', '6', '6', '2', '2', '0', '2', '4', '1', '3', '1', '3', 'n', 'a', 'm', '3', '1', '4', '9', '6', '7', '6', '6', '2', '2', '0', '2', '5', 'R', 'A', 'J', 'E', 'S', 'H', 'r', 'e', 'd', 'd', 'y', 'r', 'e', 'd', 'i', 'f', 'f', 'c', 'o', 'n', 'n', 'a', 'm', '4']\n"
     ]
    }
   ],
   "source": [
    "s=\"name,12,9676622023,samba123@gmail.com\\nrameshKUMAR@yahoo.co.in,967662202413,13,nam3\\n14,9676622025,RAJESHreddy@rediff.con,nam4\\n\"\n",
    "print s\n",
    "print re.findall(\"[a-z0-9]\",s,re.I)"
   ]
  },
  {
   "cell_type": "code",
   "execution_count": 22,
   "metadata": {},
   "outputs": [
    {
     "name": "stdout",
     "output_type": "stream",
     "text": [
      "name,12,9676622023,samba123@gmail.com\n",
      "rameshKUMAR@yahoo.co.in,967662202413,13,nam3\n",
      "14,9676622025,RAJESHreddy@rediff.con,nam4\n",
      "\n",
      "['12', '96', '76', '62', '20', '23', '12', '96', '76', '62', '20', '24', '13', '13', '14', '96', '76', '62', '20', '25']\n"
     ]
    }
   ],
   "source": [
    "s=\"name,12,9676622023,samba123@gmail.com\\nrameshKUMAR@yahoo.co.in,967662202413,13,nam3\\n14,9676622025,RAJESHreddy@rediff.con,nam4\\n\"\n",
    "print s\n",
    "print re.findall(\"[0-9][0-9]\",s,re.I)"
   ]
  },
  {
   "cell_type": "code",
   "execution_count": 23,
   "metadata": {},
   "outputs": [
    {
     "name": "stdout",
     "output_type": "stream",
     "text": [
      "name,12,9676622023,samba123@gmail.com\n",
      "rameshKUMAR@yahoo.co.in,967662202413,13,nam3\n",
      "14,9676622025,RAJESHreddy@rediff.con,nam4\n",
      "\n",
      "['9676622023', '9676622024', '9676622025']\n"
     ]
    }
   ],
   "source": [
    "s=\"name,12,9676622023,samba123@gmail.com\\nrameshKUMAR@yahoo.co.in,967662202413,13,nam3\\n14,9676622025,RAJESHreddy@rediff.con,nam4\\n\"\n",
    "print s\n",
    "print re.findall(\"[0-9][0-9][0-9][0-9][0-9][0-9][0-9][0-9][0-9][0-9]\",s,re.I)"
   ]
  },
  {
   "cell_type": "code",
   "execution_count": 24,
   "metadata": {},
   "outputs": [
    {
     "name": "stdout",
     "output_type": "stream",
     "text": [
      "name,12,9676622023,samba123@gmail.com\n",
      "rameshKUMAR@yahoo.co.in,967662202413,13,nam3\n",
      "14,9676622025,RAJESHreddy@rediff.con,nam4\n",
      "\n",
      "['9676622023', '9676622024', '9676622025']\n"
     ]
    }
   ],
   "source": [
    "s=\"name,12,9676622023,samba123@gmail.com\\nrameshKUMAR@yahoo.co.in,967662202413,13,nam3\\n14,9676622025,RAJESHreddy@rediff.con,nam4\\n\"\n",
    "print s\n",
    "print re.findall(\"[0-9]{10}\",s,re.I)"
   ]
  },
  {
   "cell_type": "code",
   "execution_count": 25,
   "metadata": {},
   "outputs": [
    {
     "name": "stdout",
     "output_type": "stream",
     "text": [
      "name,12,9676622023,samba123@gmail.com\n",
      "rameshKUMAR@yahoo.co.in,967662202413,13,nam3\n",
      "14,9676622025,RAJESHreddy@rediff.con,nam4\n",
      "\n",
      "['9676622023', '9676622024', '9676622025']\n"
     ]
    }
   ],
   "source": [
    "s=\"name,12,9676622023,samba123@gmail.com\\nrameshKUMAR@yahoo.co.in,967662202413,13,nam3\\n14,9676622025,RAJESHreddy@rediff.con,nam4\\n\"\n",
    "print s\n",
    "print re.findall(\"[0-9]{5,10}\",s,re.I)"
   ]
  },
  {
   "cell_type": "code",
   "execution_count": 26,
   "metadata": {},
   "outputs": [
    {
     "name": "stdout",
     "output_type": "stream",
     "text": [
      "name,12,9676622023,samba123@gmail.com\n",
      "rameshKUMAR@yahoo.co.in,967662202413,13,nam3\n",
      "14,9676622025,RAJESHreddy@rediff.con,nam4\n",
      "\n",
      "['12', '9676622023', '123', '9676622024', '13', '13', '14', '9676622025']\n"
     ]
    }
   ],
   "source": [
    "s=\"name,12,9676622023,samba123@gmail.com\\nrameshKUMAR@yahoo.co.in,967662202413,13,nam3\\n14,9676622025,RAJESHreddy@rediff.con,nam4\\n\"\n",
    "print s\n",
    "print re.findall(\"[0-9]{2,10}\",s,re.I)"
   ]
  },
  {
   "cell_type": "code",
   "execution_count": 27,
   "metadata": {},
   "outputs": [
    {
     "name": "stdout",
     "output_type": "stream",
     "text": [
      "name,12,9676622023,samba123@gmail.com\n",
      "rameshKUMAR@yahoo.co.in,967662202413,13,nam3\n",
      "14,9676622025,RAJESHreddy@rediff.con,nam4\n",
      "\n",
      "['12', '9676622023', '123', '967662202413', '13', '3', '14', '9676622025', '4']\n"
     ]
    }
   ],
   "source": [
    "s=\"name,12,9676622023,samba123@gmail.com\\nrameshKUMAR@yahoo.co.in,967662202413,13,nam3\\n14,9676622025,RAJESHreddy@rediff.con,nam4\\n\"\n",
    "print s\n",
    "print re.findall(\"[0-9]{1,}\",s,re.I)"
   ]
  },
  {
   "cell_type": "code",
   "execution_count": 28,
   "metadata": {},
   "outputs": [
    {
     "name": "stdout",
     "output_type": "stream",
     "text": [
      "name,12,9676622023,samba123@gmail.com\n",
      "rameshKUMAR@yahoo.co.in,967662202413,13,nam3\n",
      "14,9676622025,RAJESHreddy@rediff.con,nam4\n",
      "\n",
      "['12', '9676622023', '123', '967662202413', '13', '3', '14', '9676622025', '4']\n",
      "['12', '9676622023', '123', '967662202413', '13', '3', '14', '9676622025', '4']\n"
     ]
    }
   ],
   "source": [
    "s=\"name,12,9676622023,samba123@gmail.com\\nrameshKUMAR@yahoo.co.in,967662202413,13,nam3\\n14,9676622025,RAJESHreddy@rediff.con,nam4\\n\"\n",
    "print s\n",
    "print re.findall(\"[0-9]{1,}\",s,re.I)\n",
    "print re.findall(\"[0-9]+\",s,re.I)"
   ]
  },
  {
   "cell_type": "code",
   "execution_count": 31,
   "metadata": {},
   "outputs": [
    {
     "name": "stdout",
     "output_type": "stream",
     "text": [
      "name,12,9676622023,samba123@gmail.com\n",
      "rameshKUMAR@yahoo.co.in,967662202413,13,nam3\n",
      "14,9676622025,RAJESHreddy@rediff.con,nam4\n",
      "\n",
      "['', '', '', '', '', '12', '', '9676622023', '', '', '', '', '', '', '123', '', '', '', '', '', '', '', '', '', '', '', '', '', '', '', '', '', '', '', '', '', '', '', '', '', '', '', '', '', '', '', '', '', '', '', '967662202413', '', '13', '', '', '', '', '3', '', '14', '', '9676622025', '', '', '', '', '', '', '', '', '', '', '', '', '', '', '', '', '', '', '', '', '', '', '', '', '', '', '', '4', '', '']\n",
      "['', '', '', '', '', '12', '', '9676622023', '', '', '', '', '', '', '123', '', '', '', '', '', '', '', '', '', '', '', '', '', '', '', '', '', '', '', '', '', '', '', '', '', '', '', '', '', '', '', '', '', '', '', '967662202413', '', '13', '', '', '', '', '3', '', '14', '', '9676622025', '', '', '', '', '', '', '', '', '', '', '', '', '', '', '', '', '', '', '', '', '', '', '', '', '', '', '', '4', '', '']\n"
     ]
    }
   ],
   "source": [
    "s=\"name,12,9676622023,samba123@gmail.com\\nrameshKUMAR@yahoo.co.in,967662202413,13,nam3\\n14,9676622025,RAJESHreddy@rediff.con,nam4\\n\"\n",
    "print s\n",
    "print re.findall(\"[0-9]{0,}\",s,re.I)\n",
    "print re.findall(\"[0-9]*\",s,re.I)"
   ]
  },
  {
   "cell_type": "code",
   "execution_count": 30,
   "metadata": {},
   "outputs": [
    {
     "name": "stdout",
     "output_type": "stream",
     "text": [
      "name,12,9676622023,samba123@gmail.com\n",
      "rameshKUMAR@yahoo.co.in,967662202413,13,nam3\n",
      "14,9676622025,RAJESHreddy@rediff.con,nam4\n",
      "\n",
      "['', '', '', '', '', '1', '2', '', '9', '6', '7', '6', '6', '2', '2', '0', '2', '3', '', '', '', '', '', '', '1', '2', '3', '', '', '', '', '', '', '', '', '', '', '', '', '', '', '', '', '', '', '', '', '', '', '', '', '', '', '', '', '', '', '', '', '', '', '', '9', '6', '7', '6', '6', '2', '2', '0', '2', '4', '1', '3', '', '1', '3', '', '', '', '', '3', '', '1', '4', '', '9', '6', '7', '6', '6', '2', '2', '0', '2', '5', '', '', '', '', '', '', '', '', '', '', '', '', '', '', '', '', '', '', '', '', '', '', '', '', '', '', '', '4', '', '']\n",
      "['', '', '', '', '', '1', '2', '', '9', '6', '7', '6', '6', '2', '2', '0', '2', '3', '', '', '', '', '', '', '1', '2', '3', '', '', '', '', '', '', '', '', '', '', '', '', '', '', '', '', '', '', '', '', '', '', '', '', '', '', '', '', '', '', '', '', '', '', '', '9', '6', '7', '6', '6', '2', '2', '0', '2', '4', '1', '3', '', '1', '3', '', '', '', '', '3', '', '1', '4', '', '9', '6', '7', '6', '6', '2', '2', '0', '2', '5', '', '', '', '', '', '', '', '', '', '', '', '', '', '', '', '', '', '', '', '', '', '', '', '', '', '', '', '4', '', '']\n"
     ]
    }
   ],
   "source": [
    "s=\"name,12,9676622023,samba123@gmail.com\\nrameshKUMAR@yahoo.co.in,967662202413,13,nam3\\n14,9676622025,RAJESHreddy@rediff.con,nam4\\n\"\n",
    "print s\n",
    "print re.findall(\"[0-9]{0,1}\",s,re.I)\n",
    "print re.findall(\"[0-9]?\",s,re.I)"
   ]
  },
  {
   "cell_type": "code",
   "execution_count": 1,
   "metadata": {},
   "outputs": [
    {
     "name": "stdout",
     "output_type": "stream",
     "text": [
      "name,12,9676622023,samba123@gmail.com\n",
      "rameshKUMAR@yahoo.co.in,967662202413,13,nam3\n",
      "14,9676622025,RAJESHreddy@rediff.con,nam4\n",
      "\n",
      "['1', '2', '9', '6', '7', '6', '6', '2', '2', '0', '2', '3', '1', '2', '3', '9', '6', '7', '6', '6', '2', '2', '0', '2', '4', '1', '3', '1', '3', '3', '1', '4', '9', '6', '7', '6', '6', '2', '2', '0', '2', '5', '4']\n"
     ]
    }
   ],
   "source": [
    "import re\n",
    "s=\"name,12,9676622023,samba123@gmail.com\\nrameshKUMAR@yahoo.co.in,967662202413,13,nam3\\n14,9676622025,RAJESHreddy@rediff.con,nam4\\n\"\n",
    "print s\n",
    "print re.findall(\"[0-9]\",s,re.I)"
   ]
  },
  {
   "cell_type": "code",
   "execution_count": 2,
   "metadata": {},
   "outputs": [
    {
     "name": "stdout",
     "output_type": "stream",
     "text": [
      "name,12,9676622023,samba123@gmail.com\n",
      "rameshKUMAR@yahoo.co.in,967662202413,13,nam3\n",
      "14,9676622025,RAJESHreddy@rediff.con,nam4\n",
      "\n",
      "['n', 'a', 'm', 'e', ',', ',', ',', 's', 'a', 'm', 'b', 'a', '@', 'g', 'm', 'a', 'i', 'l', '.', 'c', 'o', 'm', '\\n', 'r', 'a', 'm', 'e', 's', 'h', 'K', 'U', 'M', 'A', 'R', '@', 'y', 'a', 'h', 'o', 'o', '.', 'c', 'o', '.', 'i', 'n', ',', ',', ',', 'n', 'a', 'm', '\\n', ',', ',', 'R', 'A', 'J', 'E', 'S', 'H', 'r', 'e', 'd', 'd', 'y', '@', 'r', 'e', 'd', 'i', 'f', 'f', '.', 'c', 'o', 'n', ',', 'n', 'a', 'm', '\\n']\n"
     ]
    }
   ],
   "source": [
    "import re\n",
    "s=\"name,12,9676622023,samba123@gmail.com\\nrameshKUMAR@yahoo.co.in,967662202413,13,nam3\\n14,9676622025,RAJESHreddy@rediff.con,nam4\\n\"\n",
    "print s\n",
    "print re.findall(\"[^0-9]\",s,re.I)"
   ]
  },
  {
   "cell_type": "code",
   "execution_count": 3,
   "metadata": {},
   "outputs": [
    {
     "name": "stdout",
     "output_type": "stream",
     "text": [
      "name,12,9676622023,samba123@gmail.com\n",
      "rameshKUMAR@yahoo.co.in,967662202413,13,nam3\n",
      "14,9676622025,RAJESHreddy@rediff.con,nam4\n",
      "\n"
     ]
    }
   ],
   "source": [
    "import re\n",
    "s=\"name,12,9676622023,samba123@gmail.com\\nrameshKUMAR@yahoo.co.in,967662202413,13,nam3\\n14,9676622025,RAJESHreddy@rediff.con,nam4\\n\"\n",
    "print s\n",
    "#print re.findall(\"^[0-9]\",s,re.I)"
   ]
  },
  {
   "cell_type": "code",
   "execution_count": 4,
   "metadata": {},
   "outputs": [
    {
     "name": "stdout",
     "output_type": "stream",
     "text": [
      "name,12,9676622023,samba123@gmail.com\n",
      "rameshKUMAR@yahoo.co.in,967662202413,13,nam3\n",
      "14,9676622025,RAJESHreddy@rediff.con,nam4\n",
      "\n",
      "[]\n"
     ]
    }
   ],
   "source": [
    "import re\n",
    "s=\"name,12,9676622023,samba123@gmail.com\\nrameshKUMAR@yahoo.co.in,967662202413,13,nam3\\n14,9676622025,RAJESHreddy@rediff.con,nam4\\n\"\n",
    "print s\n",
    "print re.findall(\"^[0-9]\",s,re.I)"
   ]
  },
  {
   "cell_type": "code",
   "execution_count": 5,
   "metadata": {},
   "outputs": [
    {
     "name": "stdout",
     "output_type": "stream",
     "text": [
      "name,12,9676622023,samba123@gmail.com\n",
      "rameshKUMAR@yahoo.co.in,967662202413,13,nam3\n",
      "14,9676622025,RAJESHreddy@rediff.con,nam4\n",
      "\n",
      "['n']\n"
     ]
    }
   ],
   "source": [
    "import re\n",
    "s=\"name,12,9676622023,samba123@gmail.com\\nrameshKUMAR@yahoo.co.in,967662202413,13,nam3\\n14,9676622025,RAJESHreddy@rediff.con,nam4\\n\"\n",
    "print s\n",
    "print re.findall(\"^[0-9a-z]\",s,re.I)"
   ]
  },
  {
   "cell_type": "code",
   "execution_count": 6,
   "metadata": {},
   "outputs": [
    {
     "name": "stdout",
     "output_type": "stream",
     "text": [
      "name,12,9676622023,samba123@gmail.com\n",
      "rameshKUMAR@yahoo.co.in,967662202413,13,nam3\n",
      "14,9676622025,RAJESHreddy@rediff.con,nam4\n",
      "\n",
      "['4']\n"
     ]
    }
   ],
   "source": [
    "import re\n",
    "s=\"name,12,9676622023,samba123@gmail.com\\nrameshKUMAR@yahoo.co.in,967662202413,13,nam3\\n14,9676622025,RAJESHreddy@rediff.con,nam4\\n\"\n",
    "print s\n",
    "print re.findall(\"[0-9a-z]$\",s,re.I)"
   ]
  },
  {
   "cell_type": "code",
   "execution_count": 7,
   "metadata": {},
   "outputs": [
    {
     "name": "stdout",
     "output_type": "stream",
     "text": [
      "name,12,9676622023,samba123@gmail.com\n",
      "rameshKUMAR@yahoo.co.in,967662202413,13,nam3\n",
      "14,9676622025,RAJESHreddy@rediff.con,nam4\n",
      "\n",
      "['m4']\n"
     ]
    }
   ],
   "source": [
    "import re\n",
    "s=\"name,12,9676622023,samba123@gmail.com\\nrameshKUMAR@yahoo.co.in,967662202413,13,nam3\\n14,9676622025,RAJESHreddy@rediff.con,nam4\\n\"\n",
    "print s\n",
    "print re.findall(\"[0-9a-z]{2}$\",s,re.I)"
   ]
  },
  {
   "cell_type": "code",
   "execution_count": 8,
   "metadata": {},
   "outputs": [
    {
     "name": "stdout",
     "output_type": "stream",
     "text": [
      "name,12,9676622023,samba123@gmail.com\n",
      "rameshKUMAR@yahoo.co.in,967662202413,13,nam3\n",
      "14,9676622025,RAJESHreddy@rediff.con,nam4\n",
      "\n",
      "['om', 'm3', 'm4']\n"
     ]
    }
   ],
   "source": [
    "import re\n",
    "s=\"name,12,9676622023,samba123@gmail.com\\nrameshKUMAR@yahoo.co.in,967662202413,13,nam3\\n14,9676622025,RAJESHreddy@rediff.con,nam4\\n\"\n",
    "print s\n",
    "print re.findall(\"[0-9a-z]{2}$\",s,re.I|re.M)"
   ]
  },
  {
   "cell_type": "code",
   "execution_count": 9,
   "metadata": {},
   "outputs": [
    {
     "name": "stdout",
     "output_type": "stream",
     "text": [
      "name,12,9676622023,samba123@gmail.com\n",
      "rameshKUMAR@yahoo.co.in,967662202413,13,nam3\n",
      "14,9676622025,RAJESHreddy@rediff.con,nam4\n",
      "\n",
      "['na', 'ra', '14']\n"
     ]
    }
   ],
   "source": [
    "import re\n",
    "s=\"name,12,9676622023,samba123@gmail.com\\nrameshKUMAR@yahoo.co.in,967662202413,13,nam3\\n14,9676622025,RAJESHreddy@rediff.con,nam4\\n\"\n",
    "print s\n",
    "print re.findall(\"^[0-9a-z]{2}\",s,re.I|re.M)"
   ]
  },
  {
   "cell_type": "code",
   "execution_count": 10,
   "metadata": {},
   "outputs": [
    {
     "name": "stdout",
     "output_type": "stream",
     "text": [
      "name,12,9676622023,samba123@gmail.com\n",
      "rameshKUMAR@yahoo.co.in,967662202413,13,nam3\n",
      "14,9676622025,RAJESHreddy@rediff.con,nam4\n",
      "\n",
      "['n', 'a', 'm', 'e', ',', '1', '2', ',', '9', '6', '7', '6', '6', '2', '2', '0', '2', '3', ',', 's', 'a', 'm', 'b', 'a', '1', '2', '3', '@', 'g', 'm', 'a', 'i', 'l', '.', 'c', 'o', 'm', 'r', 'a', 'm', 'e', 's', 'h', 'K', 'U', 'M', 'A', 'R', '@', 'y', 'a', 'h', 'o', 'o', '.', 'c', 'o', '.', 'i', 'n', ',', '9', '6', '7', '6', '6', '2', '2', '0', '2', '4', '1', '3', ',', '1', '3', ',', 'n', 'a', 'm', '3', '1', '4', ',', '9', '6', '7', '6', '6', '2', '2', '0', '2', '5', ',', 'R', 'A', 'J', 'E', 'S', 'H', 'r', 'e', 'd', 'd', 'y', '@', 'r', 'e', 'd', 'i', 'f', 'f', '.', 'c', 'o', 'n', ',', 'n', 'a', 'm', '4']\n"
     ]
    }
   ],
   "source": [
    "import re\n",
    "s=\"name,12,9676622023,samba123@gmail.com\\nrameshKUMAR@yahoo.co.in,967662202413,13,nam3\\n14,9676622025,RAJESHreddy@rediff.con,nam4\\n\"\n",
    "print s\n",
    "print re.findall(\".\",s,re.I|re.M)"
   ]
  },
  {
   "cell_type": "code",
   "execution_count": 11,
   "metadata": {},
   "outputs": [
    {
     "name": "stdout",
     "output_type": "stream",
     "text": [
      "name,12,9676622023,samba123@gmail.com\n",
      "rameshKUMAR@yahoo.co.in,967662202413,13,nam3\n",
      "14,9676622025,RAJESHreddy@rediff.con,nam4\n",
      "\n",
      "['n', 'a', 'm', 'e', ',', '1', '2', ',', '9', '6', '7', '6', '6', '2', '2', '0', '2', '3', ',', 's', 'a', 'm', 'b', 'a', '1', '2', '3', '@', 'g', 'm', 'a', 'i', 'l', '.', 'c', 'o', 'm', '\\n', 'r', 'a', 'm', 'e', 's', 'h', 'K', 'U', 'M', 'A', 'R', '@', 'y', 'a', 'h', 'o', 'o', '.', 'c', 'o', '.', 'i', 'n', ',', '9', '6', '7', '6', '6', '2', '2', '0', '2', '4', '1', '3', ',', '1', '3', ',', 'n', 'a', 'm', '3', '\\n', '1', '4', ',', '9', '6', '7', '6', '6', '2', '2', '0', '2', '5', ',', 'R', 'A', 'J', 'E', 'S', 'H', 'r', 'e', 'd', 'd', 'y', '@', 'r', 'e', 'd', 'i', 'f', 'f', '.', 'c', 'o', 'n', ',', 'n', 'a', 'm', '4', '\\n']\n"
     ]
    }
   ],
   "source": [
    "import re\n",
    "s=\"name,12,9676622023,samba123@gmail.com\\nrameshKUMAR@yahoo.co.in,967662202413,13,nam3\\n14,9676622025,RAJESHreddy@rediff.con,nam4\\n\"\n",
    "print s\n",
    "print re.findall(\".\",s,re.I|re.M|re.DOTALL)"
   ]
  },
  {
   "cell_type": "code",
   "execution_count": 12,
   "metadata": {},
   "outputs": [
    {
     "name": "stdout",
     "output_type": "stream",
     "text": [
      "name,12,9676622023,samba123@gmail.com\n",
      "rameshKUMAR@yahoo.co.in,967662202413,13,nam3\n",
      "14,9676622025,RAJESHreddy@rediff.con,nam4\n",
      "\n",
      "['nam', 'e,1', '2,9', '676', '622', '023', ',sa', 'mba', '123', '@gm', 'ail', '.co', 'm\\nr', 'ame', 'shK', 'UMA', 'R@y', 'aho', 'o.c', 'o.i', 'n,9', '676', '622', '024', '13,', '13,', 'nam', '3\\n1', '4,9', '676', '622', '025', ',RA', 'JES', 'Hre', 'ddy', '@re', 'dif', 'f.c', 'on,', 'nam', '4\\n']\n"
     ]
    }
   ],
   "source": [
    "import re\n",
    "s=\"name,12,9676622023,samba123@gmail.com\\nrameshKUMAR@yahoo.co.in,967662202413,13,nam3\\n14,9676622025,RAJESHreddy@rediff.con,nam4\\n\"\n",
    "print s\n",
    "print re.findall(\".{2,3}\",s,re.I|re.M|re.DOTALL)"
   ]
  },
  {
   "cell_type": "code",
   "execution_count": 13,
   "metadata": {},
   "outputs": [
    {
     "name": "stdout",
     "output_type": "stream",
     "text": [
      "name,12,9676622023,samba123@gmail.com\n",
      "rameshKUMAR@yahoo.co.in,967662202413,13,nam3\n",
      "14,9676622025,RAJESHreddy@rediff.con,nam4\n",
      "\n",
      "['n', 'a', 'm', 'e', ',', '1', '2', ',', '9', '6', '7', '6', '6', '2', '2', '0', '2', '3', ',', 's', 'a', 'm', 'b', 'a', '1', '2', '3', '@', 'g', 'm', 'a', 'i', 'l', '.', 'c', 'o', 'm', '\\n', 'r', 'a', 'm', 'e', 's', 'h', 'K', 'U', 'M', 'A', 'R', '@', 'y', 'a', 'h', 'o', 'o', '.', 'c', 'o', '.', 'i', 'n', ',', '9', '6', '7', '6', '6', '2', '2', '0', '2', '4', '1', '3', ',', '1', '3', ',', 'n', 'a', 'm', '3', '\\n', '1', '4', ',', '9', '6', '7', '6', '6', '2', '2', '0', '2', '5', ',', 'R', 'A', 'J', 'E', 'S', 'H', 'r', 'e', 'd', 'd', 'y', '@', 'r', 'e', 'd', 'i', 'f', 'f', '.', 'c', 'o', 'n', ',', 'n', 'a', 'm', '4', '\\n']\n"
     ]
    }
   ],
   "source": [
    "import re\n",
    "s=\"name,12,9676622023,samba123@gmail.com\\nrameshKUMAR@yahoo.co.in,967662202413,13,nam3\\n14,9676622025,RAJESHreddy@rediff.con,nam4\\n\"\n",
    "print s\n",
    "print re.findall(\".\",s,re.I|re.M|re.DOTALL)"
   ]
  },
  {
   "cell_type": "code",
   "execution_count": 14,
   "metadata": {},
   "outputs": [
    {
     "name": "stdout",
     "output_type": "stream",
     "text": [
      "name,12,9676622023,samba123@gmail.com\n",
      "rameshKUMAR@yahoo.co.in,967662202413,13,nam3\n",
      "14,9676622025,RAJESHreddy@rediff.con,nam4\n",
      "\n",
      "['.', '.', '.', '.']\n"
     ]
    }
   ],
   "source": [
    "import re\n",
    "s=\"name,12,9676622023,samba123@gmail.com\\nrameshKUMAR@yahoo.co.in,967662202413,13,nam3\\n14,9676622025,RAJESHreddy@rediff.con,nam4\\n\"\n",
    "print s\n",
    "print re.findall(\"\\.\",s,re.I|re.M|re.DOTALL)"
   ]
  },
  {
   "cell_type": "code",
   "execution_count": 15,
   "metadata": {},
   "outputs": [
    {
     "name": "stdout",
     "output_type": "stream",
     "text": [
      "name,12,9676622023,samba123@gmail.com\n",
      "rameshKUMAR@yahoo.co.in,967662202413,13,nam3\n",
      "14,9676622025,RAJESHreddy@rediff.con,nam4\n",
      "\n",
      "['9676622023', '9676622024', '9676622025']\n"
     ]
    }
   ],
   "source": [
    "import re\n",
    "s=\"name,12,9676622023,samba123@gmail.com\\nrameshKUMAR@yahoo.co.in,967662202413,13,nam3\\n14,9676622025,RAJESHreddy@rediff.con,nam4\\n\"\n",
    "print s\n",
    "print re.findall(\"[0-9]{10}\",s)"
   ]
  },
  {
   "cell_type": "code",
   "execution_count": 16,
   "metadata": {},
   "outputs": [
    {
     "name": "stdout",
     "output_type": "stream",
     "text": [
      "name,12,9676622023,samba123@gmail.com\n",
      "rameshKUMAR@yahoo.co.in,967662202413,13,nam3\n",
      "14,9676622025,RAJESHreddy@rediff.con,nam4\n",
      "\n",
      "['samba123@gmail.com', 'reddy@rediff.con']\n"
     ]
    }
   ],
   "source": [
    "# username, @, domain, . , com.in\n",
    "import re\n",
    "s=\"name,12,9676622023,samba123@gmail.com\\nrameshKUMAR@yahoo.co.in,967662202413,13,nam3\\n14,9676622025,RAJESHreddy@rediff.con,nam4\\n\"\n",
    "user_exp = \"[a-z0-9]+\"\n",
    "domain = \"[a-z]+\"\n",
    "tail = \"[com.in]+\"\n",
    "print s\n",
    "print re.findall(\"%s@%s\\.%s\"%(user_exp,domain,tail),s)"
   ]
  },
  {
   "cell_type": "code",
   "execution_count": 17,
   "metadata": {},
   "outputs": [
    {
     "name": "stdout",
     "output_type": "stream",
     "text": [
      "name,12,9676622023,samba123@gmail.com\n",
      "rameshKUMAR@yahoo.co.in,967662202413,13,nam3\n",
      "14,9676622025,RAJESHreddy@rediff.con,nam4\n",
      "\n",
      "['samba123@gmail.com', 'rameshKUMAR@yahoo.co.in', 'RAJESHreddy@rediff.con']\n"
     ]
    }
   ],
   "source": [
    "# username, @, domain, . , com.in\n",
    "import re\n",
    "s=\"name,12,9676622023,samba123@gmail.com\\nrameshKUMAR@yahoo.co.in,967662202413,13,nam3\\n14,9676622025,RAJESHreddy@rediff.con,nam4\\n\"\n",
    "user_exp = \"[a-z0-9]+\"\n",
    "domain = \"[a-z]+\"\n",
    "tail = \"[com.in]+\"\n",
    "print s\n",
    "print re.findall(\"%s@%s\\.%s\"%(user_exp,domain,tail),s,re.I)"
   ]
  },
  {
   "cell_type": "code",
   "execution_count": 18,
   "metadata": {},
   "outputs": [
    {
     "name": "stdout",
     "output_type": "stream",
     "text": [
      "name,12,9676622023,samba123@gmail.com\n",
      "rameshKUMAR@yahoo.co.in,967662202413,13,nam3\n",
      "14,9676622025,RAJESHreddy@rediff.con,nam4\n",
      "\n",
      "['samba123@gmail.com', 'rameshKUMAR@yahoo.co.in', 'RAJESHreddy@rediff.con']\n"
     ]
    }
   ],
   "source": [
    "# username, @, domain, . , com.in\n",
    "import re\n",
    "s=\"name,12,9676622023,samba123@gmail.com\\nrameshKUMAR@yahoo.co.in,967662202413,13,nam3\\n14,9676622025,RAJESHreddy@rediff.con,nam4\\n\"\n",
    "user_exp = \"[a-z0-9]+\"\n",
    "domain = \"[a-z]+\"\n",
    "tail = \"[com.in]+\"\n",
    "print s\n",
    "print re.findall(\"[a-z0-9]+@[a-z]+\\.[com.in]+\",s,re.I)"
   ]
  },
  {
   "cell_type": "code",
   "execution_count": 19,
   "metadata": {},
   "outputs": [
    {
     "name": "stdout",
     "output_type": "stream",
     "text": [
      "name,12,9676622023,samba123@gmail.com\n",
      "rameshKUMAR@yahoo.co.in,967662202413,13,nam3\n",
      "14,9676622025,RAJESHreddy@rediff.con,nam4\n",
      "\n",
      "['samba123@gmail.com', 'rameshKUMAR@yahoo.co.in', 'RAJESHreddy@rediff.con']\n"
     ]
    }
   ],
   "source": [
    "# username, @, domain, . , com.in\n",
    "import re\n",
    "s=\"name,12,9676622023,samba123@gmail.com\\nrameshKUMAR@yahoo.co.in,967662202413,13,nam3\\n14,9676622025,RAJESHreddy@rediff.con,nam4\\n\"\n",
    "user_exp = \"[a-z0-9]+\"\n",
    "domain = \"[a-z]+\"\n",
    "tail = \"[com.in]+\"\n",
    "print s\n",
    "print re.findall(\"[a-z0-9]+@[a-z]+\\.[a-z.]+\",s,re.I)"
   ]
  },
  {
   "cell_type": "code",
   "execution_count": 20,
   "metadata": {},
   "outputs": [
    {
     "name": "stdout",
     "output_type": "stream",
     "text": [
      "name,12,9676622023,samba123@gmail.com\n",
      "rameshKUMAR@yahoo.co.in,967662202413,13,nam3\n",
      "14,9676622025,RAJESHreddy@rediff.con,nam4\n",
      "\n",
      "['samba123@gmail.com', 'rameshKUMAR@yahoo.co.in', 'RAJESHreddy@rediff.con']\n"
     ]
    }
   ],
   "source": [
    "# username, @, domain, . , com.in\n",
    "import re\n",
    "s=\"name,12,9676622023,samba123@gmail.com\\nrameshKUMAR@yahoo.co.in,967662202413,13,nam3\\n14,9676622025,RAJESHreddy@rediff.con,nam4\\n\"\n",
    "user_exp = \"[a-z0-9]+\"\n",
    "domain = \"[a-z]+\"\n",
    "tail = \"[com.in]+\"\n",
    "print s\n",
    "print re.findall(\"\\w+@[a-z]+\\.[a-z.]+\",s,re.I)"
   ]
  },
  {
   "cell_type": "code",
   "execution_count": 21,
   "metadata": {},
   "outputs": [
    {
     "name": "stdout",
     "output_type": "stream",
     "text": [
      "['1', '2', '9', '6', '7', '6', '6', '2', '2', '0', '2', '3', '1', '2', '3', '9', '6', '7', '6', '6', '2', '2', '0', '2', '4', '1', '3', '1', '3', '3', '1', '4', '9', '6', '7', '6', '6', '2', '2', '0', '2', '5', '4']\n"
     ]
    }
   ],
   "source": [
    "import re\n",
    "s=\"name,12,9676622023,samba123@gmail.com\\nrameshKUMAR@yahoo.co.in,967662202413,13,nam3\\n14,9676622025,RAJESHreddy@rediff.con,nam4\\n\"\n",
    "print re.findall(\"\\d\",s,re.I)"
   ]
  },
  {
   "cell_type": "code",
   "execution_count": 22,
   "metadata": {},
   "outputs": [
    {
     "name": "stdout",
     "output_type": "stream",
     "text": [
      "['9676622023', '9676622024', '9676622025']\n"
     ]
    }
   ],
   "source": [
    "import re\n",
    "s=\"name,12,9676622023,samba123@gmail.com\\nrameshKUMAR@yahoo.co.in,967662202413,13,nam3\\n14,9676622025,RAJESHreddy@rediff.con,nam4\\n\"\n",
    "print re.findall(\"\\d{10}\",s,re.I)"
   ]
  },
  {
   "cell_type": "code",
   "execution_count": 23,
   "metadata": {},
   "outputs": [
    {
     "name": "stdout",
     "output_type": "stream",
     "text": [
      "['n', 'a', 'm', 'e', ',', ',', ',', 's', 'a', 'm', 'b', 'a', '@', 'g', 'm', 'a', 'i', 'l', '.', 'c', 'o', 'm', '\\n', 'r', 'a', 'm', 'e', 's', 'h', 'K', 'U', 'M', 'A', 'R', '@', 'y', 'a', 'h', 'o', 'o', '.', 'c', 'o', '.', 'i', 'n', ',', ',', ',', 'n', 'a', 'm', '\\n', ',', ',', 'R', 'A', 'J', 'E', 'S', 'H', 'r', 'e', 'd', 'd', 'y', '@', 'r', 'e', 'd', 'i', 'f', 'f', '.', 'c', 'o', 'n', ',', 'n', 'a', 'm', '\\n']\n"
     ]
    }
   ],
   "source": [
    "import re\n",
    "s=\"name,12,9676622023,samba123@gmail.com\\nrameshKUMAR@yahoo.co.in,967662202413,13,nam3\\n14,9676622025,RAJESHreddy@rediff.con,nam4\\n\"\n",
    "print re.findall(\"\\D\",s,re.I)"
   ]
  },
  {
   "cell_type": "code",
   "execution_count": 24,
   "metadata": {},
   "outputs": [
    {
     "name": "stdout",
     "output_type": "stream",
     "text": [
      "name,12,9676622023,samba123@gmail.com\n",
      "rameshKUMAR@yahoo.co.in,967662202413,13,nam3\n",
      "14,9676622025,RAJESHreddy@rediff.con,nam4\n",
      "\n",
      "<callable-iterator object at 0x7fda5026c490>\n"
     ]
    }
   ],
   "source": [
    "# username, @, domain, . , com.in\n",
    "import re\n",
    "s=\"name,12,9676622023,samba123@gmail.com\\nrameshKUMAR@yahoo.co.in,967662202413,13,nam3\\n14,9676622025,RAJESHreddy@rediff.con,nam4\\n\"\n",
    "user_exp = \"[a-z0-9]+\"\n",
    "domain = \"[a-z]+\"\n",
    "tail = \"[com.in]+\"\n",
    "print s\n",
    "print re.finditer(\"\\w+@[a-z]+\\.[a-z.]+\",s,re.I)"
   ]
  },
  {
   "cell_type": "code",
   "execution_count": 26,
   "metadata": {},
   "outputs": [
    {
     "name": "stdout",
     "output_type": "stream",
     "text": [
      "name,12,9676622023,samba123@gmail.com\n",
      "rameshKUMAR@yahoo.co.in,967662202413,13,nam3\n",
      "14,9676622025,RAJESHreddy@rediff.con,nam4\n",
      "\n",
      "<_sre.SRE_Match object at 0x7fda50187ed0>\n",
      "<_sre.SRE_Match object at 0x7fda5029a648>\n",
      "<_sre.SRE_Match object at 0x7fda50187ed0>\n"
     ]
    }
   ],
   "source": [
    "# username, @, domain, . , com.in\n",
    "import re\n",
    "s=\"name,12,9676622023,samba123@gmail.com\\nrameshKUMAR@yahoo.co.in,967662202413,13,nam3\\n14,9676622025,RAJESHreddy@rediff.con,nam4\\n\"\n",
    "user_exp = \"[a-z0-9]+\"\n",
    "domain = \"[a-z]+\"\n",
    "tail = \"[com.in]+\"\n",
    "print s\n",
    "emails = re.finditer(\"\\w+@[a-z]+\\.[a-z.]+\",s,re.I)\n",
    "for email in emails:\n",
    "    print email"
   ]
  },
  {
   "cell_type": "code",
   "execution_count": 27,
   "metadata": {},
   "outputs": [
    {
     "name": "stdout",
     "output_type": "stream",
     "text": [
      "name,12,9676622023,samba123@gmail.com\n",
      "rameshKUMAR@yahoo.co.in,967662202413,13,nam3\n",
      "14,9676622025,RAJESHreddy@rediff.con,nam4\n",
      "\n",
      "samba123@gmail.com\n",
      "rameshKUMAR@yahoo.co.in\n",
      "RAJESHreddy@rediff.con\n"
     ]
    }
   ],
   "source": [
    "# username, @, domain, . , com.in\n",
    "import re\n",
    "s=\"name,12,9676622023,samba123@gmail.com\\nrameshKUMAR@yahoo.co.in,967662202413,13,nam3\\n14,9676622025,RAJESHreddy@rediff.con,nam4\\n\"\n",
    "user_exp = \"[a-z0-9]+\"\n",
    "domain = \"[a-z]+\"\n",
    "tail = \"[com.in]+\"\n",
    "print s\n",
    "emails = re.finditer(\"\\w+@[a-z]+\\.[a-z.]+\",s,re.I)\n",
    "for email in emails:\n",
    "    print email.group(0)"
   ]
  },
  {
   "cell_type": "code",
   "execution_count": 28,
   "metadata": {},
   "outputs": [
    {
     "name": "stdout",
     "output_type": "stream",
     "text": [
      "name,12,9676622023,samba123@gmail.com\n",
      "rameshKUMAR@yahoo.co.in,967662202413,13,nam3\n",
      "14,9676622025,RAJESHreddy@rediff.con,nam4\n",
      "\n",
      "<_sre.SRE_Match object at 0x7fda50192648>\n"
     ]
    }
   ],
   "source": [
    "# username, @, domain, . , com.in\n",
    "import re\n",
    "s=\"name,12,9676622023,samba123@gmail.com\\nrameshKUMAR@yahoo.co.in,967662202413,13,nam3\\n14,9676622025,RAJESHreddy@rediff.con,nam4\\n\"\n",
    "user_exp = \"[a-z0-9]+\"\n",
    "domain = \"[a-z]+\"\n",
    "tail = \"[com.in]+\"\n",
    "print s\n",
    "emails = re.search(\"\\w+@[a-z]+\\.[a-z.]+\",s,re.I)\n",
    "print emails"
   ]
  },
  {
   "cell_type": "code",
   "execution_count": 29,
   "metadata": {},
   "outputs": [
    {
     "name": "stdout",
     "output_type": "stream",
     "text": [
      "name,12,9676622023,samba123@gmail.com\n",
      "rameshKUMAR@yahoo.co.in,967662202413,13,nam3\n",
      "14,9676622025,RAJESHreddy@rediff.con,nam4\n",
      "\n",
      "samba123@gmail.com\n"
     ]
    }
   ],
   "source": [
    "# username, @, domain, . , com.in\n",
    "import re\n",
    "s=\"name,12,9676622023,samba123@gmail.com\\nrameshKUMAR@yahoo.co.in,967662202413,13,nam3\\n14,9676622025,RAJESHreddy@rediff.con,nam4\\n\"\n",
    "user_exp = \"[a-z0-9]+\"\n",
    "domain = \"[a-z]+\"\n",
    "tail = \"[com.in]+\"\n",
    "print s\n",
    "emails = re.search(\"\\w+@[a-z]+\\.[a-z.]+\",s,re.I)\n",
    "print emails.group(0)"
   ]
  },
  {
   "cell_type": "code",
   "execution_count": 31,
   "metadata": {},
   "outputs": [
    {
     "name": "stdout",
     "output_type": "stream",
     "text": [
      "name,12,9676622023,samba123@gmail.com\n",
      "rameshKUMAR@yahoo.co.in,967662202413,13,nam3\n",
      "14,9676622025,RAJESHreddy@rediff.con,nam4\n",
      "\n",
      "None\n"
     ]
    }
   ],
   "source": [
    "# username, @, domain, . , com.in\n",
    "import re\n",
    "s=\"name,12,9676622023,samba123@gmail.com\\nrameshKUMAR@yahoo.co.in,967662202413,13,nam3\\n14,9676622025,RAJESHreddy@rediff.con,nam4\\n\"\n",
    "user_exp = \"[a-z0-9]+\"\n",
    "domain = \"[a-z]+\"\n",
    "tail = \"[com.in]+\"\n",
    "print s\n",
    "emails = re.match(\"\\w+@[a-z]+\\.[a-z.]+\",s,re.I)\n",
    "print emails"
   ]
  },
  {
   "cell_type": "code",
   "execution_count": 32,
   "metadata": {},
   "outputs": [
    {
     "name": "stdout",
     "output_type": "stream",
     "text": [
      "name,12,9676622023,samba123@gmail.com\n",
      "rameshKUMAR@yahoo.co.in,967662202413,13,nam3\n",
      "14,9676622025,RAJESHreddy@rediff.con,nam4\n",
      "\n",
      "<_sre.SRE_Match object at 0x7fda501928b8>\n"
     ]
    }
   ],
   "source": [
    "# username, @, domain, . , com.in\n",
    "import re\n",
    "s=\"name,12,9676622023,samba123@gmail.com\\nrameshKUMAR@yahoo.co.in,967662202413,13,nam3\\n14,9676622025,RAJESHreddy@rediff.con,nam4\\n\"\n",
    "user_exp = \"[a-z0-9]+\"\n",
    "domain = \"[a-z]+\"\n",
    "tail = \"[com.in]+\"\n",
    "print s\n",
    "emails = re.match(\"\\w+\",s,re.I)\n",
    "print emails"
   ]
  },
  {
   "cell_type": "code",
   "execution_count": 33,
   "metadata": {},
   "outputs": [
    {
     "name": "stdout",
     "output_type": "stream",
     "text": [
      "name,12,9676622023,samba123@gmail.com\n",
      "rameshKUMAR@yahoo.co.in,967662202413,13,nam3\n",
      "14,9676622025,RAJESHreddy@rediff.con,nam4\n",
      "\n",
      "name\n"
     ]
    }
   ],
   "source": [
    "# username, @, domain, . , com.in\n",
    "import re\n",
    "s=\"name,12,9676622023,samba123@gmail.com\\nrameshKUMAR@yahoo.co.in,967662202413,13,nam3\\n14,9676622025,RAJESHreddy@rediff.con,nam4\\n\"\n",
    "user_exp = \"[a-z0-9]+\"\n",
    "domain = \"[a-z]+\"\n",
    "tail = \"[com.in]+\"\n",
    "print s\n",
    "emails = re.match(\"\\w+\",s,re.I)\n",
    "print emails.group(0)"
   ]
  },
  {
   "cell_type": "code",
   "execution_count": 34,
   "metadata": {},
   "outputs": [
    {
     "name": "stdout",
     "output_type": "stream",
     "text": [
      "['samba123@gmail.com', 'rameshKUMAR@yahoo.co.in', 'RAJESHreddy@rediff.con']\n"
     ]
    }
   ],
   "source": [
    "# username, @, domain, . , com.in\n",
    "import re\n",
    "s=\"name,12,9676622023,samba123@gmail.com\\nrameshKUMAR@yahoo.co.in,967662202413,13,nam3\\n14,9676622025,RAJESHreddy@rediff.con,nam4\\n\"\n",
    "email_regx=re.compile(\"\\w+@[a-z]+\\.[a-z.]+\")\n",
    "print email_regx.findall(s)"
   ]
  },
  {
   "cell_type": "code",
   "execution_count": 35,
   "metadata": {},
   "outputs": [
    {
     "data": {
      "text/plain": [
       "['id:2345,']"
      ]
     },
     "execution_count": 35,
     "metadata": {},
     "output_type": "execute_result"
    }
   ],
   "source": [
    "resp = \"volume volume1234 created successfully!!. id:2345, this is thin provisioned volume.\"\n",
    "re.findall(\"id:\\d+,\",resp)"
   ]
  },
  {
   "cell_type": "code",
   "execution_count": 36,
   "metadata": {},
   "outputs": [
    {
     "data": {
      "text/plain": [
       "['id:2345 ']"
      ]
     },
     "execution_count": 36,
     "metadata": {},
     "output_type": "execute_result"
    }
   ],
   "source": [
    "resp = \"volume volume1234 created successfully!!. id:2345 this is thin provisioned volume.\"\n",
    "re.findall(\"id:\\d+ \",resp)"
   ]
  },
  {
   "cell_type": "code",
   "execution_count": 37,
   "metadata": {},
   "outputs": [
    {
     "data": {
      "text/plain": [
       "'2345 '"
      ]
     },
     "execution_count": 37,
     "metadata": {},
     "output_type": "execute_result"
    }
   ],
   "source": [
    "resp = \"volume volume1234 created successfully!!. id:2345 this is thin provisioned volume.\"\n",
    "re.findall(\"id:\\d+ \",resp)[0].split(\":\")[-1]"
   ]
  },
  {
   "cell_type": "code",
   "execution_count": 38,
   "metadata": {},
   "outputs": [
    {
     "data": {
      "text/plain": [
       "'2345'"
      ]
     },
     "execution_count": 38,
     "metadata": {},
     "output_type": "execute_result"
    }
   ],
   "source": [
    "resp = \"volume volume1234 created successfully!!. id:2345 this is thin provisioned volume.\"\n",
    "re.findall(\"id:\\d+ \",resp)[0].split(\":\")[-1].strip(\" \")"
   ]
  },
  {
   "cell_type": "code",
   "execution_count": 39,
   "metadata": {},
   "outputs": [
    {
     "data": {
      "text/plain": [
       "'2345'"
      ]
     },
     "execution_count": 39,
     "metadata": {},
     "output_type": "execute_result"
    }
   ],
   "source": [
    "resp = \"volume volume1234 created successfully!!. id:2345 this is thin provisioned volume.\"\n",
    "re.findall(\"id:\\d+ \",resp)[0].split(\":\")[-1].strip()"
   ]
  },
  {
   "cell_type": "code",
   "execution_count": 40,
   "metadata": {},
   "outputs": [
    {
     "data": {
      "text/plain": [
       "['id', '2345 ']"
      ]
     },
     "execution_count": 40,
     "metadata": {},
     "output_type": "execute_result"
    }
   ],
   "source": [
    "resp = \"volume volume1234 created successfully!!. id:2345 this is thin provisioned volume.\"\n",
    "re.findall(\"id:\\d+ \",resp)[0].split(\":\")"
   ]
  },
  {
   "cell_type": "code",
   "execution_count": 41,
   "metadata": {},
   "outputs": [
    {
     "data": {
      "text/plain": [
       "'2345 '"
      ]
     },
     "execution_count": 41,
     "metadata": {},
     "output_type": "execute_result"
    }
   ],
   "source": [
    "resp = \"volume volume1234 created successfully!!. id:2345 this is thin provisioned volume.\"\n",
    "re.findall(\"id:\\d+ \",resp)[0].split(\":\")[-1]"
   ]
  },
  {
   "cell_type": "code",
   "execution_count": 42,
   "metadata": {},
   "outputs": [
    {
     "data": {
      "text/plain": [
       "'2345'"
      ]
     },
     "execution_count": 42,
     "metadata": {},
     "output_type": "execute_result"
    }
   ],
   "source": [
    "resp = \"volume volume1234 created successfully!!. id:2345 this is thin provisioned volume.\"\n",
    "re.findall(\"id:\\d+ \",resp)[0].split(\":\")[-1].strip()"
   ]
  },
  {
   "cell_type": "code",
   "execution_count": 43,
   "metadata": {},
   "outputs": [
    {
     "data": {
      "text/plain": [
       "'2345'"
      ]
     },
     "execution_count": 43,
     "metadata": {},
     "output_type": "execute_result"
    }
   ],
   "source": [
    "resp = \"volume volume1234 created successfully!!. id:2345 this is thin provisioned volume.\"\n",
    "re.findall(\"id:\\d+\",resp)[0].split(\":\")[-1].strip()"
   ]
  },
  {
   "cell_type": "code",
   "execution_count": null,
   "metadata": {
    "collapsed": true
   },
   "outputs": [],
   "source": [
    "resp = \"volume volume1234 created successfully!!. id:2345 this is thin provisioned volume.\"\n",
    "re.findall(\"id:\\d+\",resp)[0].split(\":\")[-1].strip()"
   ]
  }
 ],
 "metadata": {
  "kernelspec": {
   "display_name": "Python 2",
   "language": "python",
   "name": "python2"
  },
  "language_info": {
   "codemirror_mode": {
    "name": "ipython",
    "version": 2
   },
   "file_extension": ".py",
   "mimetype": "text/x-python",
   "name": "python",
   "nbconvert_exporter": "python",
   "pygments_lexer": "ipython2",
   "version": "2.7.14"
  }
 },
 "nbformat": 4,
 "nbformat_minor": 2
}
