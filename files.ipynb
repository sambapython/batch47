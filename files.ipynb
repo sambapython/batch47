{
 "cells": [
  {
   "cell_type": "code",
   "execution_count": 1,
   "metadata": {
    "collapsed": true
   },
   "outputs": [],
   "source": [
    "# file which is not there in the path in write mode\n",
    "f=open(\"data2.csv\",\"w\")\n",
    "# it is creating the file"
   ]
  },
  {
   "cell_type": "code",
   "execution_count": 3,
   "metadata": {},
   "outputs": [
    {
     "ename": "IOError",
     "evalue": "[Errno 2] No such file or directory: 'data4.csv'",
     "output_type": "error",
     "traceback": [
      "\u001b[0;31m---------------------------------------------------------------------------\u001b[0m",
      "\u001b[0;31mIOError\u001b[0m                                   Traceback (most recent call last)",
      "\u001b[0;32m<ipython-input-3-b63adbd262b2>\u001b[0m in \u001b[0;36m<module>\u001b[0;34m()\u001b[0m\n\u001b[1;32m      1\u001b[0m \u001b[0;31m# file which is not there in the path in read mode\u001b[0m\u001b[0;34m\u001b[0m\u001b[0;34m\u001b[0m\u001b[0m\n\u001b[0;32m----> 2\u001b[0;31m \u001b[0mf\u001b[0m\u001b[0;34m=\u001b[0m\u001b[0mopen\u001b[0m\u001b[0;34m(\u001b[0m\u001b[0;34m\"data4.csv\"\u001b[0m\u001b[0;34m,\u001b[0m\u001b[0;34m\"r\"\u001b[0m\u001b[0;34m)\u001b[0m\u001b[0;34m\u001b[0m\u001b[0m\n\u001b[0m",
      "\u001b[0;31mIOError\u001b[0m: [Errno 2] No such file or directory: 'data4.csv'"
     ]
    }
   ],
   "source": [
    "# file which is not there in the path in read mode\n",
    "f=open(\"data4.csv\",\"r\")\n"
   ]
  },
  {
   "cell_type": "code",
   "execution_count": 4,
   "metadata": {
    "collapsed": true
   },
   "outputs": [],
   "source": [
    "f=open(\"data2.csv\",\"w\")\n",
    "# writing some data\n",
    "f.write(\"smoe data\")\n",
    "# after execting the above two lines. Open a file and checd for data.\n",
    "# do you find the data?. NO. WHY?"
   ]
  },
  {
   "cell_type": "code",
   "execution_count": 5,
   "metadata": {
    "collapsed": true
   },
   "outputs": [],
   "source": [
    "f.close()"
   ]
  },
  {
   "cell_type": "code",
   "execution_count": 6,
   "metadata": {},
   "outputs": [
    {
     "ename": "ValueError",
     "evalue": "I/O operation on closed file",
     "output_type": "error",
     "traceback": [
      "\u001b[0;31m---------------------------------------------------------------------------\u001b[0m",
      "\u001b[0;31mValueError\u001b[0m                                Traceback (most recent call last)",
      "\u001b[0;32m<ipython-input-6-50f20b1a3e0c>\u001b[0m in \u001b[0;36m<module>\u001b[0;34m()\u001b[0m\n\u001b[0;32m----> 1\u001b[0;31m \u001b[0mf\u001b[0m\u001b[0;34m.\u001b[0m\u001b[0mwrite\u001b[0m\u001b[0;34m(\u001b[0m\u001b[0;34m\"sdfsdf\"\u001b[0m\u001b[0;34m)\u001b[0m\u001b[0;34m\u001b[0m\u001b[0m\n\u001b[0m",
      "\u001b[0;31mValueError\u001b[0m: I/O operation on closed file"
     ]
    }
   ],
   "source": [
    "f.write(\"sdfsdf\")"
   ]
  },
  {
   "cell_type": "code",
   "execution_count": 7,
   "metadata": {
    "collapsed": true
   },
   "outputs": [],
   "source": [
    "f=open(\"data2.csv\",\"w\")\n",
    "#after execting the above lines. Open a file and checd for data."
   ]
  },
  {
   "cell_type": "code",
   "execution_count": 8,
   "metadata": {
    "collapsed": true
   },
   "outputs": [],
   "source": [
    "f=open(\"data2.csv\",\"w\")\n",
    "f.write(\"some data\\n\")\n",
    "f.write(\"some data\")\n",
    "f.write(\"last line\")\n",
    "f.close()"
   ]
  },
  {
   "cell_type": "code",
   "execution_count": 9,
   "metadata": {
    "collapsed": true
   },
   "outputs": [],
   "source": [
    "f=open(\"data2.csv\",\"w\")\n",
    "f.write(\"some data\\n\")\n",
    "f.flush()\n",
    "f.write(\"some data\")\n",
    "f.write(\"last line\")\n"
   ]
  },
  {
   "cell_type": "code",
   "execution_count": 10,
   "metadata": {
    "collapsed": true
   },
   "outputs": [],
   "source": [
    "f.close()"
   ]
  },
  {
   "cell_type": "code",
   "execution_count": 11,
   "metadata": {
    "collapsed": true
   },
   "outputs": [],
   "source": [
    "f=open(\"data2.csv\",\"a\")\n",
    "f.write(\"\\n appending some data in append mode\")\n",
    "f.close()"
   ]
  },
  {
   "cell_type": "code",
   "execution_count": 12,
   "metadata": {},
   "outputs": [
    {
     "name": "stdout",
     "output_type": "stream",
     "text": [
      "vedanth\n"
     ]
    }
   ],
   "source": [
    "import random\n",
    "names=[\"anil\",\"jay\",\"mithra\",\"vedanth\",\"shruthi\"]\n",
    "print random.choice(names)"
   ]
  },
  {
   "cell_type": "code",
   "execution_count": 13,
   "metadata": {},
   "outputs": [
    {
     "name": "stdout",
     "output_type": "stream",
     "text": [
      "anil\n"
     ]
    }
   ],
   "source": [
    "import random\n",
    "names=[\"anil\",\"jay\",\"mithra\",\"vedanth\",\"shruthi\"]\n",
    "print random.choice(names)"
   ]
  },
  {
   "cell_type": "code",
   "execution_count": 14,
   "metadata": {},
   "outputs": [
    {
     "name": "stdout",
     "output_type": "stream",
     "text": [
      "mithra\n"
     ]
    }
   ],
   "source": [
    "import random\n",
    "names=[\"anil\",\"jay\",\"mithra\",\"vedanth\",\"shruthi\"]\n",
    "print random.choice(names)"
   ]
  },
  {
   "cell_type": "code",
   "execution_count": 15,
   "metadata": {},
   "outputs": [
    {
     "name": "stdout",
     "output_type": "stream",
     "text": [
      "anil\n"
     ]
    }
   ],
   "source": [
    "import random\n",
    "names=[\"anil\",\"jay\",\"mithra\",\"vedanth\",\"shruthi\"]\n",
    "print random.choice(names)"
   ]
  },
  {
   "cell_type": "code",
   "execution_count": 16,
   "metadata": {},
   "outputs": [
    {
     "name": "stdout",
     "output_type": "stream",
     "text": [
      "['anil', 'jay', 'mithra', 'vedanth', 'shruthi']\n",
      "[20000, 30000, 40000, 50000, 60000, 70000]\n",
      "[25, 26, 27, 28, 29, 30, 31, 32, 33, 34, 35, 36, 37, 38, 39, 40, 41, 42, 43, 44, 45, 46, 47, 48, 49, 50]\n"
     ]
    }
   ],
   "source": [
    "import random\n",
    "names=[\"anil\",\"jay\",\"mithra\",\"vedanth\",\"shruthi\"]\n",
    "sals=range(20000,80000,10000)   #[20000,30000,40000,50000,60000,70000]\n",
    "ages=range(25,51)   #[25,26,27,28,29,30,31]\n",
    "print names\n",
    "print sals\n",
    "print ages"
   ]
  },
  {
   "cell_type": "code",
   "execution_count": 18,
   "metadata": {},
   "outputs": [
    {
     "name": "stdout",
     "output_type": "stream",
     "text": [
      "['anil', 'jay', 'mithra', 'vedanth', 'shruthi']\n",
      "[20000, 30000, 40000, 50000, 60000, 70000]\n",
      "[25, 26, 27, 28, 29, 30, 31, 32, 33, 34, 35, 36, 37, 38, 39, 40, 41, 42, 43, 44, 45, 46, 47, 48, 49, 50]\n",
      "jay,26,30000\n"
     ]
    }
   ],
   "source": [
    "import random\n",
    "names=[\"anil\",\"jay\",\"mithra\",\"vedanth\",\"shruthi\"]\n",
    "sals=range(20000,80000,10000)   #[20000,30000,40000,50000,60000,70000]\n",
    "ages=range(25,51)   #[25,26,27,28,29,30,31]\n",
    "print names\n",
    "print sals\n",
    "print ages\n",
    "print \"%s,%s,%s\"%(random.choice(names),random.choice(ages),random.choice(sals))"
   ]
  },
  {
   "cell_type": "code",
   "execution_count": 20,
   "metadata": {
    "collapsed": true
   },
   "outputs": [],
   "source": [
    "import random\n",
    "names=[\"anil\",\"jay\",\"mithra\",\"vedanth\",\"shruthi\"]\n",
    "sals=range(20000,80000,10000)   #[20000,30000,40000,50000,60000,70000]\n",
    "ages=range(25,51)   #[25,26,27,28,29,30,31]\n",
    "f=open(\"data.csv\",\"w\")\n",
    "for i in range(1000):\n",
    "    row=\"%s,%s,%s\\n\"%(random.choice(names),random.choice(ages),random.choice(sals))\n",
    "    f.write(row)\n",
    "f.close()"
   ]
  },
  {
   "cell_type": "code",
   "execution_count": 21,
   "metadata": {},
   "outputs": [
    {
     "name": "stdout",
     "output_type": "stream",
     "text": [
      "['mithra,40,70000\\n', 'anil,45,20000\\n', 'jay,33,70000\\n', 'mithra,48,30000\\n', 'mithra,37,20000\\n', 'shruthi,32,20000\\n', 'anil,49,70000\\n', 'anil,34,60000\\n', 'anil,43,30000\\n', 'shruthi,26,20000\\n']\n"
     ]
    }
   ],
   "source": [
    "import random\n",
    "names=[\"anil\",\"jay\",\"mithra\",\"vedanth\",\"shruthi\"]\n",
    "sals=range(20000,80000,10000)   #[20000,30000,40000,50000,60000,70000]\n",
    "ages=range(25,51)   #[25,26,27,28,29,30,31]\n",
    "f=open(\"data.csv\",\"w\")\n",
    "lines=[]\n",
    "for i in range(10):\n",
    "    row=\"%s,%s,%s\\n\"%(random.choice(names),random.choice(ages),random.choice(sals))\n",
    "    lines.append(row)\n",
    "print lines"
   ]
  },
  {
   "cell_type": "code",
   "execution_count": 22,
   "metadata": {},
   "outputs": [
    {
     "name": "stdout",
     "output_type": "stream",
     "text": [
      "['vedanth,35,40000\\n', 'vedanth,37,50000\\n', 'shruthi,44,20000\\n', 'mithra,43,70000\\n', 'jay,40,60000\\n', 'jay,39,70000\\n', 'anil,30,40000\\n', 'vedanth,37,20000\\n', 'vedanth,31,20000\\n', 'shruthi,33,60000\\n']\n"
     ]
    },
    {
     "ename": "TypeError",
     "evalue": "expected a string or other character buffer object",
     "output_type": "error",
     "traceback": [
      "\u001b[0;31m---------------------------------------------------------------------------\u001b[0m",
      "\u001b[0;31mTypeError\u001b[0m                                 Traceback (most recent call last)",
      "\u001b[0;32m<ipython-input-22-1824f0397b16>\u001b[0m in \u001b[0;36m<module>\u001b[0;34m()\u001b[0m\n\u001b[1;32m      9\u001b[0m     \u001b[0mlines\u001b[0m\u001b[0;34m.\u001b[0m\u001b[0mappend\u001b[0m\u001b[0;34m(\u001b[0m\u001b[0mrow\u001b[0m\u001b[0;34m)\u001b[0m\u001b[0;34m\u001b[0m\u001b[0m\n\u001b[1;32m     10\u001b[0m \u001b[0;32mprint\u001b[0m \u001b[0mlines\u001b[0m\u001b[0;34m\u001b[0m\u001b[0m\n\u001b[0;32m---> 11\u001b[0;31m \u001b[0mf\u001b[0m\u001b[0;34m.\u001b[0m\u001b[0mwrite\u001b[0m\u001b[0;34m(\u001b[0m\u001b[0mlines\u001b[0m\u001b[0;34m)\u001b[0m\u001b[0;34m\u001b[0m\u001b[0m\n\u001b[0m",
      "\u001b[0;31mTypeError\u001b[0m: expected a string or other character buffer object"
     ]
    }
   ],
   "source": [
    "import random\n",
    "names=[\"anil\",\"jay\",\"mithra\",\"vedanth\",\"shruthi\"]\n",
    "sals=range(20000,80000,10000)   #[20000,30000,40000,50000,60000,70000]\n",
    "ages=range(25,51)   #[25,26,27,28,29,30,31]\n",
    "f=open(\"data.csv\",\"w\")\n",
    "lines=[]\n",
    "for i in range(10):\n",
    "    row=\"%s,%s,%s\\n\"%(random.choice(names),random.choice(ages),random.choice(sals))\n",
    "    lines.append(row)\n",
    "print lines\n",
    "f.write(lines)"
   ]
  },
  {
   "cell_type": "code",
   "execution_count": 24,
   "metadata": {},
   "outputs": [
    {
     "name": "stdout",
     "output_type": "stream",
     "text": [
      "['jay,40,70000\\n', 'shruthi,47,20000\\n', 'vedanth,48,30000\\n', 'anil,48,20000\\n', 'mithra,44,40000\\n', 'vedanth,29,60000\\n', 'vedanth,25,70000\\n', 'shruthi,40,50000\\n', 'mithra,35,40000\\n', 'jay,48,60000\\n']\n"
     ]
    }
   ],
   "source": [
    "import random\n",
    "names=[\"anil\",\"jay\",\"mithra\",\"vedanth\",\"shruthi\"]\n",
    "sals=range(20000,80000,10000)   #[20000,30000,40000,50000,60000,70000]\n",
    "ages=range(25,51)   #[25,26,27,28,29,30,31]\n",
    "f=open(\"data.csv\",\"w\")\n",
    "lines=[]\n",
    "for i in range(10):\n",
    "    row=\"%s,%s,%s\\n\"%(random.choice(names),random.choice(ages),random.choice(sals))\n",
    "    lines.append(row)\n",
    "print lines\n",
    "f.writelines(lines)\n",
    "f.close()"
   ]
  },
  {
   "cell_type": "code",
   "execution_count": 25,
   "metadata": {
    "collapsed": true
   },
   "outputs": [],
   "source": [
    "f=open(\"data2.csv\",\"w\")\n",
    "f.writelines([\"line1\",\"lin2\",\"line3\",\"line4\"])\n",
    "f.close()"
   ]
  },
  {
   "cell_type": "code",
   "execution_count": 26,
   "metadata": {
    "collapsed": true
   },
   "outputs": [],
   "source": [
    "f=open(\"data2.csv\",\"w\")\n",
    "f.writelines([\"line1\",\"lin2\\n\",\"line3\",\"line4\"])\n",
    "f.close()"
   ]
  },
  {
   "cell_type": "code",
   "execution_count": 27,
   "metadata": {
    "collapsed": true
   },
   "outputs": [],
   "source": [
    "f=open(\"data2.jpg\",\"w\")\n",
    "f.writelines([\"line1\",\"lin2\\n\",\"line3\",\"line4\"])\n",
    "f.close()"
   ]
  },
  {
   "cell_type": "code",
   "execution_count": 29,
   "metadata": {},
   "outputs": [
    {
     "name": "stdout",
     "output_type": "stream",
     "text": [
      "jay,40,70000\n",
      "shruthi,47,20000\n",
      "vedanth,48,30000\n",
      "anil,48,20000\n",
      "mithra,44,40000\n",
      "vedanth,29,60000\n",
      "vedanth,25,70000\n",
      "shruthi,40,50000\n",
      "mithra,35,40000\n",
      "jay,48,60000\n",
      "\n",
      "<type 'str'>\n"
     ]
    }
   ],
   "source": [
    "f=open(\"data.csv\",\"r\")\n",
    "data=f.read()\n",
    "print data\n",
    "print type(data)"
   ]
  },
  {
   "cell_type": "code",
   "execution_count": 30,
   "metadata": {},
   "outputs": [
    {
     "name": "stdout",
     "output_type": "stream",
     "text": [
      "['jay,40,70000\\n', 'shruthi,47,20000\\n', 'vedanth,48,30000\\n', 'anil,48,20000\\n', 'mithra,44,40000\\n', 'vedanth,29,60000\\n', 'vedanth,25,70000\\n', 'shruthi,40,50000\\n', 'mithra,35,40000\\n', 'jay,48,60000\\n']\n",
      "<type 'list'>\n"
     ]
    }
   ],
   "source": [
    "f=open(\"data.csv\",\"r\")\n",
    "data=f.readlines()\n",
    "print data\n",
    "print type(data)"
   ]
  },
  {
   "cell_type": "code",
   "execution_count": 31,
   "metadata": {},
   "outputs": [
    {
     "name": "stdout",
     "output_type": "stream",
     "text": [
      "jay,40,70000\n",
      "\n"
     ]
    }
   ],
   "source": [
    "f=open(\"data.csv\",\"r\")\n",
    "\n",
    "print f.readline()"
   ]
  },
  {
   "cell_type": "code",
   "execution_count": 32,
   "metadata": {},
   "outputs": [
    {
     "data": {
      "text/plain": [
       "'shruthi,47,20000\\n'"
      ]
     },
     "execution_count": 32,
     "metadata": {},
     "output_type": "execute_result"
    }
   ],
   "source": [
    "f.readline()"
   ]
  },
  {
   "cell_type": "code",
   "execution_count": 33,
   "metadata": {},
   "outputs": [
    {
     "data": {
      "text/plain": [
       "'vedanth,48,30000\\n'"
      ]
     },
     "execution_count": 33,
     "metadata": {},
     "output_type": "execute_result"
    }
   ],
   "source": [
    "f.readline()"
   ]
  },
  {
   "cell_type": "code",
   "execution_count": 34,
   "metadata": {},
   "outputs": [
    {
     "name": "stdout",
     "output_type": "stream",
     "text": [
      "jay,40,70000\n",
      "\n",
      "shruthi,47,20000\n",
      "\n",
      "vedanth,48,30000\n",
      "\n",
      "anil,48,20000\n",
      "\n",
      "mithra,44,40000\n",
      "\n",
      "vedanth,29,60000\n",
      "\n",
      "vedanth,25,70000\n",
      "\n",
      "shruthi,40,50000\n",
      "\n",
      "mithra,35,40000\n",
      "\n",
      "jay,48,60000\n",
      "\n"
     ]
    }
   ],
   "source": [
    "f=open(\"data.csv\",\"r\")\n",
    "for i in f:\n",
    "    print i"
   ]
  },
  {
   "cell_type": "code",
   "execution_count": 36,
   "metadata": {},
   "outputs": [
    {
     "name": "stdout",
     "output_type": "stream",
     "text": [
      "jay,40,70000\n",
      "shruthi,47,20000\n",
      "vedanth,48,30000\n",
      "ani\n",
      "<type 'str'>\n",
      "50\n"
     ]
    }
   ],
   "source": [
    "f=open(\"data.csv\",\"r\")\n",
    "data=f.read(50)\n",
    "print data\n",
    "print type(data)\n",
    "print len(data)"
   ]
  },
  {
   "cell_type": "code",
   "execution_count": 38,
   "metadata": {},
   "outputs": [
    {
     "name": "stdout",
     "output_type": "stream",
     "text": [
      "jay,40,70000\n",
      "shruthi,47,20000\n",
      "vedanth,48,30000\n",
      "ani\n",
      "********************\n",
      "l,48,20000\n",
      "mithra,44,40000\n",
      "ved\n"
     ]
    }
   ],
   "source": [
    "f=open(\"data.csv\",\"r\")\n",
    "first_50_chars=f.read(50)\n",
    "next_30_chars=f.read(30)\n",
    "print first_50_chars\n",
    "print \"*\"*20\n",
    "print next_30_chars"
   ]
  },
  {
   "cell_type": "code",
   "execution_count": 39,
   "metadata": {},
   "outputs": [
    {
     "name": "stdout",
     "output_type": "stream",
     "text": [
      "jay,40,70000\n",
      "shruthi,47,20000\n",
      "vedanth,48,30000\n",
      "ani\n",
      "********************\n",
      "l,48,20000\n",
      "mithra,44,40000\n",
      "ved\n",
      "********************\n",
      "anth,29,60000\n",
      "vedanth,25,70000\n",
      "shruthi,40,50000\n",
      "mithra,35,40000\n",
      "jay,48,60000\n",
      "\n"
     ]
    }
   ],
   "source": [
    "f=open(\"data.csv\",\"r\")\n",
    "first_50_chars=f.read(50)\n",
    "next_30_chars=f.read(30)\n",
    "next_total_data = f.read()\n",
    "print first_50_chars\n",
    "print \"*\"*20\n",
    "print next_30_chars\n",
    "print \"*\"*20\n",
    "print next_total_data\n"
   ]
  },
  {
   "cell_type": "code",
   "execution_count": 40,
   "metadata": {},
   "outputs": [
    {
     "name": "stdout",
     "output_type": "stream",
     "text": [
      "\n"
     ]
    }
   ],
   "source": [
    "f=open(\"data.csv\",\"r\")\n",
    "data=f.read()\n",
    "data1=f.read()\n",
    "print data1"
   ]
  },
  {
   "cell_type": "code",
   "execution_count": 41,
   "metadata": {},
   "outputs": [
    {
     "name": "stdout",
     "output_type": "stream",
     "text": [
      "jay,40,70000\n",
      "shruthi,47,20000\n",
      "vedanth,48,30000\n",
      "anil,48,20000\n",
      "mithra,44,40000\n",
      "vedanth,29,60000\n",
      "vedanth,25,70000\n",
      "shruthi,40,50000\n",
      "mithra,35,40000\n",
      "jay,48,60000\n",
      "\n"
     ]
    }
   ],
   "source": [
    "f=open(\"data.csv\",\"r\")\n",
    "data=f.read()\n",
    "f.close()\n",
    "f=open(\"data.csv\",\"r\")\n",
    "data1=f.read()\n",
    "print data1"
   ]
  },
  {
   "cell_type": "code",
   "execution_count": 42,
   "metadata": {},
   "outputs": [
    {
     "name": "stdout",
     "output_type": "stream",
     "text": [
      "opened in read mode: 0\n",
      "after read: 157\n"
     ]
    }
   ],
   "source": [
    "f=open(\"data.csv\",\"r\")\n",
    "print \"opened in read mode:\",f.tell()\n",
    "data=f.read()\n",
    "print \"after read:\",f.tell()\n"
   ]
  },
  {
   "cell_type": "code",
   "execution_count": 44,
   "metadata": {},
   "outputs": [
    {
     "name": "stdout",
     "output_type": "stream",
     "text": [
      "opened in read mode: 0\n",
      "after read: 157\n",
      "data before sek: \n",
      "After seek to zero: 0\n",
      "jay,40,70000\n",
      "shruthi,47,20000\n",
      "vedanth,48,30000\n",
      "anil,48,20000\n",
      "mithra,44,40000\n",
      "vedanth,29,60000\n",
      "vedanth,25,70000\n",
      "shruthi,40,50000\n",
      "mithra,35,40000\n",
      "jay,48,60000\n",
      "\n"
     ]
    }
   ],
   "source": [
    "f=open(\"data.csv\",\"r\")\n",
    "print \"opened in read mode:\",f.tell()\n",
    "data=f.read()\n",
    "print \"after read:\",f.tell()\n",
    "data=f.read()\n",
    "print \"data before sek:\",data\n",
    "f.seek(0)\n",
    "print \"After seek to zero:\",f.tell()\n",
    "data=f.read()\n",
    "print data"
   ]
  },
  {
   "cell_type": "code",
   "execution_count": 45,
   "metadata": {},
   "outputs": [
    {
     "name": "stdout",
     "output_type": "stream",
     "text": [
      "157\n"
     ]
    }
   ],
   "source": [
    "f=open(\"data.csv\",\"r\")\n",
    "print len(f.read())"
   ]
  },
  {
   "cell_type": "code",
   "execution_count": 46,
   "metadata": {},
   "outputs": [
    {
     "name": "stdout",
     "output_type": "stream",
     "text": [
      "50\n"
     ]
    }
   ],
   "source": [
    "f=open(\"data.csv\",\"a\")\n",
    "f.seek(50)\n",
    "print f.tell()\n",
    "f.close()"
   ]
  },
  {
   "cell_type": "code",
   "execution_count": 47,
   "metadata": {
    "collapsed": true
   },
   "outputs": [],
   "source": [
    "f=open(\"data.csv\",\"a\")\n",
    "f.seek(50)\n",
    "f.write(\"************\")\n",
    "f.close()"
   ]
  },
  {
   "cell_type": "code",
   "execution_count": 48,
   "metadata": {},
   "outputs": [
    {
     "name": "stdout",
     "output_type": "stream",
     "text": [
      "jay,40,70000\n",
      "shruthi,47,20000\n",
      "vedanth,48,30000\n",
      "anil,48,20000\n",
      "mithra,44,40000\n",
      "vedanth,29,60000\n",
      "vedanth,25,70000\n",
      "shruthi,40,50000\n",
      "mithra,35,40000\n",
      "jay,48,60000\n",
      "************\n"
     ]
    }
   ],
   "source": [
    "f=open(\"data.csv\")\n",
    "data=f.read()\n",
    "print data"
   ]
  },
  {
   "cell_type": "code",
   "execution_count": 49,
   "metadata": {},
   "outputs": [
    {
     "name": "stdout",
     "output_type": "stream",
     "text": [
      "jay,40,70000\n",
      "shruthi,47,20000\n",
      "vedanshu,48,30000\n",
      "anil,48,20000\n",
      "mithra,44,40000\n",
      "vedanshu,29,60000\n",
      "vedanshu,25,70000\n",
      "shruthi,40,50000\n",
      "mithra,35,40000\n",
      "jay,48,60000\n",
      "************\n"
     ]
    }
   ],
   "source": [
    "f=open(\"data.csv\")\n",
    "data=f.read()\n",
    "print data.replace(\"vedanth\",\"vedanshu\")\n"
   ]
  },
  {
   "cell_type": "code",
   "execution_count": 50,
   "metadata": {
    "collapsed": true
   },
   "outputs": [],
   "source": [
    "f=open(\"data.csv\")\n",
    "data=f.read()\n",
    "f.close()\n",
    "modified_data= data.replace(\"vedanth\",\"vedanshu\")\n",
    "f=open(\"data.csv\",\"w\")\n",
    "f.write(modified_data)\n",
    "f.close()\n"
   ]
  },
  {
   "cell_type": "code",
   "execution_count": 51,
   "metadata": {},
   "outputs": [
    {
     "name": "stdout",
     "output_type": "stream",
     "text": [
      "['jay,40,70000\\n', 'shruthi,47,20000\\n', 'anil,48,20000\\n', 'mithra,44,40000\\n', 'shruthi,40,50000\\n', 'mithra,35,40000\\n', 'jay,48,60000\\n', '************']\n"
     ]
    }
   ],
   "source": [
    "f=open(\"data.csv\")\n",
    "req=[]\n",
    "for i in f:\n",
    "    if not \"vedanshu\" in i:\n",
    "        req.append(i)\n",
    "print req"
   ]
  },
  {
   "cell_type": "code",
   "execution_count": 53,
   "metadata": {},
   "outputs": [],
   "source": [
    "f=open(\"data.csv\")\n",
    "req=[]\n",
    "for i in f:\n",
    "    if not \"vedanshu\" in i:\n",
    "        req.append(i)\n",
    "f.close()\n",
    "f=open(\"data.csv\",\"w\")\n",
    "f.writelines(req)"
   ]
  },
  {
   "cell_type": "code",
   "execution_count": 54,
   "metadata": {
    "collapsed": true
   },
   "outputs": [],
   "source": [
    "f.close()"
   ]
  },
  {
   "cell_type": "code",
   "execution_count": 55,
   "metadata": {},
   "outputs": [
    {
     "name": "stdout",
     "output_type": "stream",
     "text": [
      "['anil,49,70000\\n', 'mithra,37,60000\\n', 'anil,25,20000\\n', 'anil,45,60000\\n', 'vedanth,43,50000\\n', 'vedanth,44,50000\\n', 'vedanth,38,20000\\n', 'jay,34,60000\\n', 'anil,44,20000\\n', 'shruthi,42,60000\\n', 'anil,38,40000\\n', 'jay,39,40000\\n', 'vedanth,26,50000\\n', 'mithra,33,20000\\n', 'vedanth,48,50000\\n', 'shruthi,47,40000\\n', 'vedanth,27,30000\\n', 'vedanth,32,70000\\n', 'anil,37,40000\\n', 'jay,30,40000\\n', 'jay,42,40000\\n', 'jay,45,70000\\n', 'anil,42,40000\\n', 'jay,33,50000\\n', 'jay,36,70000\\n', 'vedanth,48,30000\\n', 'anil,48,30000\\n', 'vedanth,47,60000\\n', 'shruthi,47,40000\\n', 'jay,25,70000\\n', 'shruthi,27,20000\\n', 'vedanth,32,50000\\n', 'mithra,49,60000\\n', 'shruthi,26,40000\\n', 'shruthi,39,20000\\n', 'vedanth,29,40000\\n', 'jay,32,40000\\n', 'jay,36,20000\\n', 'vedanth,38,20000\\n', 'anil,27,60000\\n', 'vedanth,33,60000\\n', 'jay,27,30000\\n', 'mithra,39,60000\\n', 'mithra,28,50000\\n', 'vedanth,37,70000\\n', 'anil,29,40000\\n', 'vedanth,35,50000\\n', 'shruthi,39,20000\\n', 'vedanth,48,40000\\n', 'anil,36,70000\\n', 'shruthi,32,40000\\n', 'vedanth,42,40000\\n', 'shruthi,27,60000\\n', 'mithra,26,40000\\n', 'jay,28,50000\\n', 'anil,49,30000\\n', 'jay,49,70000\\n', 'shruthi,41,70000\\n', 'anil,39,50000\\n', 'jay,26,50000\\n', 'jay,32,50000\\n', 'anil,30,40000\\n', 'jay,34,70000\\n', 'shruthi,28,40000\\n', 'jay,48,40000\\n', 'jay,47,40000\\n', 'mithra,45,70000\\n', 'mithra,34,40000\\n', 'jay,42,40000\\n', 'anil,48,50000\\n', 'mithra,46,50000\\n', 'anil,46,70000\\n', 'mithra,34,30000\\n', 'mithra,34,20000\\n', 'jay,48,20000\\n', 'jay,50,30000\\n', 'shruthi,32,60000\\n', 'mithra,47,20000\\n', 'jay,49,70000\\n', 'anil,50,60000\\n', 'mithra,34,30000\\n', 'jay,30,20000\\n', 'vedanth,39,40000\\n', 'vedanth,32,40000\\n', 'vedanth,29,50000\\n', 'mithra,38,60000\\n', 'anil,42,30000\\n', 'shruthi,45,70000\\n', 'shruthi,33,70000\\n', 'jay,42,70000\\n', 'anil,41,60000\\n', 'anil,32,30000\\n', 'shruthi,29,60000\\n', 'anil,36,60000\\n', 'shruthi,42,20000\\n', 'shruthi,47,70000\\n', 'mithra,32,20000\\n', 'shruthi,37,20000\\n', 'mithra,27,60000\\n', 'mithra,37,40000\\n']\n"
     ]
    }
   ],
   "source": [
    "import random\n",
    "names=[\"anil\",\"jay\",\"mithra\",\"vedanth\",\"shruthi\"]\n",
    "sals=range(20000,80000,10000)   #[20000,30000,40000,50000,60000,70000]\n",
    "ages=range(25,51)   #[25,26,27,28,29,30,31]\n",
    "f=open(\"data.csv\",\"w\")\n",
    "lines=[]\n",
    "for i in range(100):\n",
    "    row=\"%s,%s,%s\\n\"%(random.choice(names),random.choice(ages),random.choice(sals))\n",
    "    lines.append(row)\n",
    "print lines\n",
    "f.writelines(lines)\n",
    "f.close()"
   ]
  },
  {
   "cell_type": "code",
   "execution_count": 56,
   "metadata": {
    "collapsed": true
   },
   "outputs": [],
   "source": [
    "f=open(\"data.csv\")\n",
    "f1=open(\"data1.csv\",\"w\")\n",
    "for i in f:\n",
    "    if not \"anil\" in i:\n",
    "        f1.write(i)\n",
    "f.close()\n",
    "f1.close()"
   ]
  },
  {
   "cell_type": "code",
   "execution_count": 57,
   "metadata": {
    "collapsed": true
   },
   "outputs": [],
   "source": [
    "f=open(\"data.csv\")\n",
    "f1=open(\"data1.csv\",\"w\")\n",
    "for i in f:\n",
    "    if not \"anil\" in i:\n",
    "        f1.write(i)\n",
    "        f.flush()\n",
    "f.close()\n",
    "f1.close()"
   ]
  },
  {
   "cell_type": "code",
   "execution_count": null,
   "metadata": {
    "collapsed": true
   },
   "outputs": [],
   "source": []
  }
 ],
 "metadata": {
  "kernelspec": {
   "display_name": "Python 2",
   "language": "python",
   "name": "python2"
  },
  "language_info": {
   "codemirror_mode": {
    "name": "ipython",
    "version": 2
   },
   "file_extension": ".py",
   "mimetype": "text/x-python",
   "name": "python",
   "nbconvert_exporter": "python",
   "pygments_lexer": "ipython2",
   "version": "2.7.14"
  }
 },
 "nbformat": 4,
 "nbformat_minor": 2
}
