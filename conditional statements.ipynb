{
 "cells": [
  {
   "cell_type": "code",
   "execution_count": null,
   "metadata": {
    "collapsed": true
   },
   "outputs": [],
   "source": [
    "a=raw_input(\"enter a value:\")\n",
    "b=raw_input(\"Enter b value:\")\n"
   ]
  },
  {
   "cell_type": "code",
   "execution_count": 1,
   "metadata": {},
   "outputs": [
    {
     "data": {
      "text/plain": [
       "True"
      ]
     },
     "execution_count": 1,
     "metadata": {},
     "output_type": "execute_result"
    }
   ],
   "source": [
    "12>4"
   ]
  },
  {
   "cell_type": "code",
   "execution_count": 2,
   "metadata": {},
   "outputs": [
    {
     "data": {
      "text/plain": [
       "('bat', 'apple', 'ant', 'cat')"
      ]
     },
     "execution_count": 2,
     "metadata": {},
     "output_type": "execute_result"
    }
   ],
   "source": [
    "\"bat\",\"apple\",\"ant\",\"cat\""
   ]
  },
  {
   "cell_type": "code",
   "execution_count": 3,
   "metadata": {},
   "outputs": [
    {
     "data": {
      "text/plain": [
       "('36', '56', '6', '78', '9')"
      ]
     },
     "execution_count": 3,
     "metadata": {},
     "output_type": "execute_result"
    }
   ],
   "source": [
    "\"34\",\"6\",\"56\",\"78\",\"9\"\n",
    "\"36\",\"56\",\"6\",\"78\",\"9\""
   ]
  },
  {
   "cell_type": "code",
   "execution_count": 4,
   "metadata": {},
   "outputs": [
    {
     "data": {
      "text/plain": [
       "False"
      ]
     },
     "execution_count": 4,
     "metadata": {},
     "output_type": "execute_result"
    }
   ],
   "source": [
    "\"12\">\"4\""
   ]
  },
  {
   "cell_type": "code",
   "execution_count": 5,
   "metadata": {},
   "outputs": [
    {
     "name": "stdout",
     "output_type": "stream",
     "text": [
      "Welcome to the software\n",
      "enter a value:12\n",
      "Enter b value:34\n",
      "a is big\n",
      "b is big\n",
      "thank you!!!.. Use me again..\n"
     ]
    }
   ],
   "source": [
    "print \"Welcome to the software\"\n",
    "a=raw_input(\"enter a value:\")\n",
    "b=raw_input(\"Enter b value:\")\n",
    "print \"a is big\"\n",
    "print \"b is big\"\n",
    "print \"thank you!!!.. Use me again..\"\n"
   ]
  },
  {
   "cell_type": "code",
   "execution_count": 6,
   "metadata": {},
   "outputs": [
    {
     "name": "stdout",
     "output_type": "stream",
     "text": [
      "Welcome to the software\n",
      "enter a value:12\n",
      "Enter b value:34\n",
      "False\n",
      "else started\n",
      "b is big\n",
      "else ended\n",
      "thank you!!!.. Use me again..\n"
     ]
    }
   ],
   "source": [
    "print \"Welcome to the software\"\n",
    "a=raw_input(\"enter a value:\")\n",
    "b=raw_input(\"Enter b value:\")\n",
    "print a>b\n",
    "if a>b:\n",
    "    print \"if started\"\n",
    "    print \"a is big\"\n",
    "    print \"if ended\"\n",
    "else:\n",
    "    print \"else started\"\n",
    "    print \"b is big\"\n",
    "    print \"else ended\"\n",
    "print \"thank you!!!.. Use me again..\"\n"
   ]
  },
  {
   "cell_type": "code",
   "execution_count": 7,
   "metadata": {},
   "outputs": [
    {
     "name": "stdout",
     "output_type": "stream",
     "text": [
      "Welcome to the software\n",
      "enter a value:12\n",
      "Enter b value:6\n",
      "False\n",
      "else started\n",
      "b is big\n",
      "else ended\n",
      "thank you!!!.. Use me again..\n"
     ]
    }
   ],
   "source": [
    "print \"Welcome to the software\"\n",
    "a=raw_input(\"enter a value:\")\n",
    "b=raw_input(\"Enter b value:\")\n",
    "print a>b\n",
    "if a>b:\n",
    "    print \"if started\"\n",
    "    print \"a is big\"\n",
    "    print \"if ended\"\n",
    "else:\n",
    "    print \"else started\"\n",
    "    print \"b is big\"\n",
    "    print \"else ended\"\n",
    "print \"thank you!!!.. Use me again..\"\n"
   ]
  },
  {
   "cell_type": "code",
   "execution_count": 8,
   "metadata": {},
   "outputs": [
    {
     "name": "stdout",
     "output_type": "stream",
     "text": [
      "Welcome to the software\n",
      "enter a value:12\n",
      "Enter b value:6\n",
      "True\n",
      "if started\n",
      "a is big\n",
      "if ended\n",
      "thank you!!!.. Use me again..\n"
     ]
    }
   ],
   "source": [
    "print \"Welcome to the software\"\n",
    "a=raw_input(\"enter a value:\")\n",
    "b=raw_input(\"Enter b value:\")\n",
    "a=float(a)\n",
    "b=float(b)\n",
    "print a>b\n",
    "\n",
    "if a>b:\n",
    "    print \"if started\"\n",
    "    print \"a is big\"\n",
    "    print \"if ended\"\n",
    "else:\n",
    "    print \"else started\"\n",
    "    print \"b is big\"\n",
    "    print \"else ended\"\n",
    "print \"thank you!!!.. Use me again..\"\n"
   ]
  },
  {
   "cell_type": "code",
   "execution_count": 9,
   "metadata": {},
   "outputs": [
    {
     "name": "stdout",
     "output_type": "stream",
     "text": [
      "Welcome to the software\n",
      "enter a value:12\n",
      "Enter b value:6\n",
      "True\n",
      "if started\n",
      "a is big\n",
      "if ended\n",
      "thank you!!!.. Use me again..\n"
     ]
    }
   ],
   "source": [
    "print \"Welcome to the software\"\n",
    "a=raw_input(\"enter a value:\")\n",
    "b=raw_input(\"Enter b value:\")\n",
    "a=float(a)\n",
    "b=float(b)\n",
    "print a>b\n",
    "\n",
    "if a>b:\n",
    "    print \"if started\"\n",
    "    print \"a is big\"\n",
    "    print \"if ended\"\n",
    "print \"thank you!!!.. Use me again..\"\n"
   ]
  },
  {
   "cell_type": "code",
   "execution_count": 10,
   "metadata": {},
   "outputs": [
    {
     "name": "stdout",
     "output_type": "stream",
     "text": [
      "Welcome to the software\n",
      "enter a value:12\n",
      "Enter b value:203\n",
      "False\n",
      "thank you!!!.. Use me again..\n"
     ]
    }
   ],
   "source": [
    "print \"Welcome to the software\"\n",
    "a=raw_input(\"enter a value:\")\n",
    "b=raw_input(\"Enter b value:\")\n",
    "a=float(a)\n",
    "b=float(b)\n",
    "print a>b\n",
    "\n",
    "if a>b:\n",
    "    print \"if started\"\n",
    "    print \"a is big\"\n",
    "    print \"if ended\"\n",
    "print \"thank you!!!.. Use me again..\"\n"
   ]
  },
  {
   "cell_type": "code",
   "execution_count": 11,
   "metadata": {},
   "outputs": [
    {
     "name": "stdout",
     "output_type": "stream",
     "text": [
      "Welcome to the software\n",
      "enter a value:12\n",
      "Enter b value:20\n",
      "False\n"
     ]
    }
   ],
   "source": [
    "print \"Welcome to the software\"\n",
    "a=raw_input(\"enter a value:\")\n",
    "b=raw_input(\"Enter b value:\")\n",
    "a=float(a)\n",
    "b=float(b)\n",
    "print a>b\n",
    "\n",
    "if a>b:\n",
    "    print \"if started\"\n",
    "    print \"a is big\"\n",
    "    print \"if ended\"\n",
    "    print \"thank you!!!.. Use me again..\"\n"
   ]
  },
  {
   "cell_type": "code",
   "execution_count": 12,
   "metadata": {},
   "outputs": [
    {
     "name": "stdout",
     "output_type": "stream",
     "text": [
      "Welcome to the software\n",
      "enter a value:12\n",
      "Enter b value:20\n",
      "False\n",
      "else started\n",
      "b is big\n",
      "else ended\n",
      "thank you!!!.. Use me again..\n"
     ]
    }
   ],
   "source": [
    "print \"Welcome to the software\"\n",
    "a=raw_input(\"enter a value:\")\n",
    "b=raw_input(\"Enter b value:\")\n",
    "a=float(a)\n",
    "b=float(b)\n",
    "print a>b\n",
    "\n",
    "if a>b:\n",
    " print \"if started\"\n",
    " print \"a is big\"\n",
    " print \"if ended\"\n",
    "else:\n",
    "    print \"else started\"\n",
    "    print \"b is big\"\n",
    "    print \"else ended\"\n",
    "print \"thank you!!!.. Use me again..\"\n"
   ]
  },
  {
   "cell_type": "code",
   "execution_count": 13,
   "metadata": {},
   "outputs": [
    {
     "ename": "IndentationError",
     "evalue": "unindent does not match any outer indentation level (<ipython-input-13-cc1ef1a35cf2>, line 15)",
     "output_type": "error",
     "traceback": [
      "\u001b[0;36m  File \u001b[0;32m\"<ipython-input-13-cc1ef1a35cf2>\"\u001b[0;36m, line \u001b[0;32m15\u001b[0m\n\u001b[0;31m    print \"else ended\"\u001b[0m\n\u001b[0m                      ^\u001b[0m\n\u001b[0;31mIndentationError\u001b[0m\u001b[0;31m:\u001b[0m unindent does not match any outer indentation level\n"
     ]
    }
   ],
   "source": [
    "print \"Welcome to the software\"\n",
    "a=raw_input(\"enter a value:\")\n",
    "b=raw_input(\"Enter b value:\")\n",
    "a=float(a)\n",
    "b=float(b)\n",
    "print a>b\n",
    "\n",
    "if a>b:\n",
    " print \"if started\"\n",
    " print \"a is big\"\n",
    " print \"if ended\"\n",
    "else:\n",
    "    print \"else started\"\n",
    "    print \"b is big\"\n",
    " print \"else ended\"\n",
    "print \"thank you!!!.. Use me again..\"\n"
   ]
  },
  {
   "cell_type": "code",
   "execution_count": 14,
   "metadata": {},
   "outputs": [
    {
     "name": "stdout",
     "output_type": "stream",
     "text": [
      "Welcome to the software\n",
      "enter a value:12\n",
      "Enter b value:20\n",
      "False\n",
      "else started\n",
      "b is big\n",
      "else ended\n",
      "thank you!!!.. Use me again..\n"
     ]
    }
   ],
   "source": [
    "print \"Welcome to the software\"\n",
    "a=raw_input(\"enter a value:\")\n",
    "b=raw_input(\"Enter b value:\")\n",
    "a=float(a)\n",
    "b=float(b)\n",
    "print a>b\n",
    "\n",
    "if a>b:\n",
    " print \"if started\"\n",
    " print \"a is big\"\n",
    " print \"if ended\"\n",
    "else:\n",
    "    print \"else started\"\n",
    "    print \"b is big\"\n",
    "print \"else ended\"\n",
    "print \"thank you!!!.. Use me again..\"\n"
   ]
  },
  {
   "cell_type": "code",
   "execution_count": 15,
   "metadata": {},
   "outputs": [
    {
     "name": "stdout",
     "output_type": "stream",
     "text": [
      "Welcome to the software\n",
      "enter a value:23\n",
      "Enter b value:12\n",
      "True\n",
      "if started\n",
      "a is big\n",
      "if ended\n",
      "else ended\n",
      "thank you!!!.. Use me again..\n"
     ]
    }
   ],
   "source": [
    "print \"Welcome to the software\"\n",
    "a=raw_input(\"enter a value:\")\n",
    "b=raw_input(\"Enter b value:\")\n",
    "a=float(a)\n",
    "b=float(b)\n",
    "print a>b\n",
    "\n",
    "if a>b:\n",
    " print \"if started\"\n",
    " print \"a is big\"\n",
    " print \"if ended\"\n",
    "else:\n",
    "    print \"else started\"\n",
    "    print \"b is big\"\n",
    "print \"else ended\"\n",
    "print \"thank you!!!.. Use me again..\"\n"
   ]
  },
  {
   "cell_type": "code",
   "execution_count": 16,
   "metadata": {},
   "outputs": [
    {
     "ename": "SyntaxError",
     "evalue": "invalid syntax (<ipython-input-16-62baebe051d4>, line 11)",
     "output_type": "error",
     "traceback": [
      "\u001b[0;36m  File \u001b[0;32m\"<ipython-input-16-62baebe051d4>\"\u001b[0;36m, line \u001b[0;32m11\u001b[0m\n\u001b[0;31m    else:\u001b[0m\n\u001b[0m       ^\u001b[0m\n\u001b[0;31mSyntaxError\u001b[0m\u001b[0;31m:\u001b[0m invalid syntax\n"
     ]
    }
   ],
   "source": [
    "print \"Welcome to the software\"\n",
    "a=raw_input(\"enter a value:\")\n",
    "b=raw_input(\"Enter b value:\")\n",
    "a=float(a)\n",
    "b=float(b)\n",
    "print a>b\n",
    "if a>b:\n",
    "    print \"if started\"\n",
    "    print \"a is big\"\n",
    "print \"if ended\"\n",
    "else:\n",
    "    print \"else started\"\n",
    "    print \"b is big\"\n",
    "    print \"else ended\"\n",
    "print \"thank you!!!.. Use me again..\"\n"
   ]
  },
  {
   "cell_type": "code",
   "execution_count": 17,
   "metadata": {},
   "outputs": [
    {
     "ename": "IndentationError",
     "evalue": "unexpected indent (<ipython-input-17-9c37e5e5cc6c>, line 7)",
     "output_type": "error",
     "traceback": [
      "\u001b[0;36m  File \u001b[0;32m\"<ipython-input-17-9c37e5e5cc6c>\"\u001b[0;36m, line \u001b[0;32m7\u001b[0m\n\u001b[0;31m    if a>b:\u001b[0m\n\u001b[0m    ^\u001b[0m\n\u001b[0;31mIndentationError\u001b[0m\u001b[0;31m:\u001b[0m unexpected indent\n"
     ]
    }
   ],
   "source": [
    "print \"Welcome to the software\"\n",
    "a=raw_input(\"enter a value:\")\n",
    "b=raw_input(\"Enter b value:\")\n",
    "a=float(a)\n",
    "b=float(b)\n",
    "print a>b\n",
    "    if a>b:\n",
    "        print \"if started\"\n",
    "        print \"a is big\"\n",
    "        print \"if ended\"\n",
    "    else:\n",
    "        print \"else started\"\n",
    "        print \"b is big\"\n",
    "        print \"else ended\"\n",
    "print \"thank you!!!.. Use me again..\"\n"
   ]
  },
  {
   "cell_type": "code",
   "execution_count": 18,
   "metadata": {},
   "outputs": [
    {
     "name": "stdout",
     "output_type": "stream",
     "text": [
      "Welcome to the software\n",
      "enter a value:12\n",
      "Enter b value:34\n",
      "False\n",
      "else started\n",
      "b is big\n",
      "else ended\n",
      "thank you!!!.. Use me again..\n"
     ]
    }
   ],
   "source": [
    "print \"Welcome to the software\"\n",
    "a=raw_input(\"enter a value:\")\n",
    "b=raw_input(\"Enter b value:\")\n",
    "a=float(a)\n",
    "b=float(b)\n",
    "print a>b\n",
    "if a>b:\n",
    "        print \"if started\"\n",
    "        print \"a is big\"\n",
    "        print \"if ended\"\n",
    "else:\n",
    "        print \"else started\"\n",
    "        print \"b is big\"\n",
    "        print \"else ended\"\n",
    "print \"thank you!!!.. Use me again..\"\n"
   ]
  },
  {
   "cell_type": "code",
   "execution_count": 19,
   "metadata": {},
   "outputs": [
    {
     "name": "stdout",
     "output_type": "stream",
     "text": [
      "Welcome to the software\n",
      "enter a value:12\n",
      "Enter b value:34\n",
      "False\n",
      "b is big\n",
      "thank you!!!.. Use me again..\n"
     ]
    }
   ],
   "source": [
    "print \"Welcome to the software\"\n",
    "a=raw_input(\"enter a value:\")\n",
    "b=raw_input(\"Enter b value:\")\n",
    "a=float(a)\n",
    "b=float(b)\n",
    "print a>b\n",
    "if a>b:\n",
    "     print \"a is big\"\n",
    "else:\n",
    "    print \"b is big\"\n",
    "print \"thank you!!!.. Use me again..\"\n"
   ]
  },
  {
   "cell_type": "code",
   "execution_count": 20,
   "metadata": {},
   "outputs": [
    {
     "name": "stdout",
     "output_type": "stream",
     "text": [
      "Welcome to the software\n",
      "enter a value:12\n",
      "Enter b value:34\n",
      "b is big\n",
      "thank you!!!.. Use me again..\n"
     ]
    }
   ],
   "source": [
    "print \"Welcome to the software\"\n",
    "a=raw_input(\"enter a value:\")\n",
    "b=raw_input(\"Enter b value:\")\n",
    "a=float(a)\n",
    "b=float(b)\n",
    "res=\"a is big\" if a>b else \"b is big\"\n",
    "print res\n",
    "print \"thank you!!!.. Use me again..\"\n"
   ]
  },
  {
   "cell_type": "code",
   "execution_count": 21,
   "metadata": {},
   "outputs": [
    {
     "name": "stdout",
     "output_type": "stream",
     "text": [
      "Welcome to the software\n",
      "enter a value:34\n",
      "Enter b value:12\n",
      "a is big\n",
      "thank you!!!.. Use me again..\n"
     ]
    }
   ],
   "source": [
    "print \"Welcome to the software\"\n",
    "a=raw_input(\"enter a value:\")\n",
    "b=raw_input(\"Enter b value:\")\n",
    "a=float(a)\n",
    "b=float(b)\n",
    "res=\"a is big\" if a>b else \"b is big\"\n",
    "print res\n",
    "print \"thank you!!!.. Use me again..\"\n"
   ]
  },
  {
   "cell_type": "code",
   "execution_count": 22,
   "metadata": {},
   "outputs": [
    {
     "name": "stdout",
     "output_type": "stream",
     "text": [
      "Fruits avaliable in my shop\n",
      "\t1. Mango\n",
      "\t2. Apple\n",
      "\t3. Banana\n",
      "\t4. orange\n"
     ]
    }
   ],
   "source": [
    "\"\"\"\n",
    "Fruits avaliable in my shop\n",
    "    1. Mango\n",
    "    2. Apple\n",
    "    3. Banana\n",
    "    4. orange\n",
    "\"\"\"\n",
    "print \"Fruits avaliable in my shop\\n\\t1. Mango\\n\\t2. Apple\\n\\t3. Banana\\n\\t4. orange\"\n"
   ]
  },
  {
   "cell_type": "code",
   "execution_count": 23,
   "metadata": {},
   "outputs": [
    {
     "name": "stdout",
     "output_type": "stream",
     "text": [
      "Fruits avaliable in my shop\n",
      "\t1. Mango\n",
      "\t2. Apple\n",
      "\t3. Banana\n",
      "\t4. orange\n",
      "Enter an option:3\n",
      "thank you for using this software for selection\n"
     ]
    }
   ],
   "source": [
    "\"\"\"\n",
    "Fruits avaliable in my shop\n",
    "    1. Mango\n",
    "    2. Apple\n",
    "    3. Banana\n",
    "    4. orange\n",
    "\"\"\"\n",
    "print \"Fruits avaliable in my shop\\n\\t1. Mango\\n\\t2. Apple\\n\\t3. Banana\\n\\t4. orange\"\n",
    "opt=raw_input(\"Enter an option:\")\n",
    "if opt==1:\n",
    "    print \"MAngos:Good, One kg mango= 60\"\n",
    "if opt==2:\n",
    "    print \"Apple: Average: one quantity:25\"\n",
    "if opt==3:\n",
    "    print \"Banana: Good quality: one dozen=50\"\n",
    "if opt==4:\n",
    "    print \"Orange: Good quality: one quantity=25\"\n",
    "print \"thank you for using this software for selection\""
   ]
  },
  {
   "cell_type": "code",
   "execution_count": 24,
   "metadata": {},
   "outputs": [
    {
     "data": {
      "text/plain": [
       "False"
      ]
     },
     "execution_count": 24,
     "metadata": {},
     "output_type": "execute_result"
    }
   ],
   "source": [
    "\"3\"==3"
   ]
  },
  {
   "cell_type": "code",
   "execution_count": 25,
   "metadata": {},
   "outputs": [
    {
     "name": "stdout",
     "output_type": "stream",
     "text": [
      "Fruits avaliable in my shop\n",
      "\t1. Mango\n",
      "\t2. Apple\n",
      "\t3. Banana\n",
      "\t4. orange\n",
      "Enter an option:1\n",
      "MAngos:Good, One kg mango= 60\n",
      "thank you for using this software for selection\n"
     ]
    }
   ],
   "source": [
    "\"\"\"\n",
    "Fruits avaliable in my shop\n",
    "    1. Mango\n",
    "    2. Apple\n",
    "    3. Banana\n",
    "    4. orange\n",
    "\"\"\"\n",
    "print \"Fruits avaliable in my shop\\n\\t1. Mango\\n\\t2. Apple\\n\\t3. Banana\\n\\t4. orange\"\n",
    "opt=raw_input(\"Enter an option:\")\n",
    "if opt=='1':\n",
    "    print \"MAngos:Good, One kg mango= 60\"\n",
    "if opt=='2':\n",
    "    print \"Apple: Average: one quantity:25\"\n",
    "if opt=='3':\n",
    "    print \"Banana: Good quality: one dozen=50\"\n",
    "if opt=='4':\n",
    "    print \"Orange: Good quality: one quantity=25\"\n",
    "print \"thank you for using this software for selection\""
   ]
  },
  {
   "cell_type": "code",
   "execution_count": 26,
   "metadata": {},
   "outputs": [
    {
     "name": "stdout",
     "output_type": "stream",
     "text": [
      "Fruits avaliable in my shop\n",
      "\t1. Mango\n",
      "\t2. Apple\n",
      "\t3. Banana\n",
      "\t4. orange\n",
      "Enter an option:2\n",
      "Apple: Average: one quantity:25\n",
      "thank you for using this software for selection\n"
     ]
    }
   ],
   "source": [
    "\"\"\"\n",
    "Fruits avaliable in my shop\n",
    "    1. Mango\n",
    "    2. Apple\n",
    "    3. Banana\n",
    "    4. orange\n",
    "\"\"\"\n",
    "print \"Fruits avaliable in my shop\\n\\t1. Mango\\n\\t2. Apple\\n\\t3. Banana\\n\\t4. orange\"\n",
    "opt=raw_input(\"Enter an option:\")\n",
    "if opt=='1':\n",
    "    print \"MAngos:Good, One kg mango= 60\"\n",
    "if opt=='2':\n",
    "    print \"Apple: Average: one quantity:25\"\n",
    "if opt=='3':\n",
    "    print \"Banana: Good quality: one dozen=50\"\n",
    "if opt=='4':\n",
    "    print \"Orange: Good quality: one quantity=25\"\n",
    "print \"thank you for using this software for selection\""
   ]
  },
  {
   "cell_type": "code",
   "execution_count": 27,
   "metadata": {},
   "outputs": [
    {
     "name": "stdout",
     "output_type": "stream",
     "text": [
      "Fruits avaliable in my shop\n",
      "\t1. Mango\n",
      "\t2. Apple\n",
      "\t3. Banana\n",
      "\t4. orange\n",
      "Enter an option:3\n",
      "Banana: Good quality: one dozen=50\n",
      "thank you for using this software for selection\n"
     ]
    }
   ],
   "source": [
    "\"\"\"\n",
    "Fruits avaliable in my shop\n",
    "    1. Mango\n",
    "    2. Apple\n",
    "    3. Banana\n",
    "    4. orange\n",
    "\"\"\"\n",
    "print \"Fruits avaliable in my shop\\n\\t1. Mango\\n\\t2. Apple\\n\\t3. Banana\\n\\t4. orange\"\n",
    "opt=raw_input(\"Enter an option:\")\n",
    "if opt=='1':\n",
    "    print \"MAngos:Good, One kg mango= 60\"\n",
    "if opt=='2':\n",
    "    print \"Apple: Average: one quantity:25\"\n",
    "if opt=='3':\n",
    "    print \"Banana: Good quality: one dozen=50\"\n",
    "if opt=='4':\n",
    "    print \"Orange: Good quality: one quantity=25\"\n",
    "print \"thank you for using this software for selection\""
   ]
  },
  {
   "cell_type": "code",
   "execution_count": 28,
   "metadata": {},
   "outputs": [
    {
     "name": "stdout",
     "output_type": "stream",
     "text": [
      "Fruits avaliable in my shop\n",
      "\t1. Mango\n",
      "\t2. Apple\n",
      "\t3. Banana\n",
      "\t4. orange\n",
      "Enter an option:4\n",
      "Orange: Good quality: one quantity=25\n",
      "thank you for using this software for selection\n"
     ]
    }
   ],
   "source": [
    "\"\"\"\n",
    "Fruits avaliable in my shop\n",
    "    1. Mango\n",
    "    2. Apple\n",
    "    3. Banana\n",
    "    4. orange\n",
    "\"\"\"\n",
    "print \"Fruits avaliable in my shop\\n\\t1. Mango\\n\\t2. Apple\\n\\t3. Banana\\n\\t4. orange\"\n",
    "opt=raw_input(\"Enter an option:\")\n",
    "if opt=='1':\n",
    "    print \"MAngos:Good, One kg mango= 60\"\n",
    "if opt=='2':\n",
    "    print \"Apple: Average: one quantity:25\"\n",
    "if opt=='3':\n",
    "    print \"Banana: Good quality: one dozen=50\"\n",
    "if opt=='4':\n",
    "    print \"Orange: Good quality: one quantity=25\"\n",
    "print \"thank you for using this software for selection\""
   ]
  },
  {
   "cell_type": "code",
   "execution_count": 29,
   "metadata": {},
   "outputs": [
    {
     "name": "stdout",
     "output_type": "stream",
     "text": [
      "Fruits avaliable in my shop\n",
      "\t1. Mango\n",
      "\t2. Apple\n",
      "\t3. Banana\n",
      "\t4. orange\n",
      "Enter an option:5\n",
      "thank you for using this software for selection\n"
     ]
    }
   ],
   "source": [
    "\"\"\"\n",
    "Fruits avaliable in my shop\n",
    "    1. Mango\n",
    "    2. Apple\n",
    "    3. Banana\n",
    "    4. orange\n",
    "\"\"\"\n",
    "print \"Fruits avaliable in my shop\\n\\t1. Mango\\n\\t2. Apple\\n\\t3. Banana\\n\\t4. orange\"\n",
    "opt=raw_input(\"Enter an option:\")\n",
    "if opt=='1':\n",
    "    print \"MAngos:Good, One kg mango= 60\"\n",
    "if opt=='2':\n",
    "    print \"Apple: Average: one quantity:25\"\n",
    "if opt=='3':\n",
    "    print \"Banana: Good quality: one dozen=50\"\n",
    "if opt=='4':\n",
    "    print \"Orange: Good quality: one quantity=25\"\n",
    "print \"thank you for using this software for selection\""
   ]
  },
  {
   "cell_type": "code",
   "execution_count": 31,
   "metadata": {},
   "outputs": [
    {
     "name": "stdout",
     "output_type": "stream",
     "text": [
      "Fruits avaliable in my shop\n",
      "\t1. Mango\n",
      "\t2. Apple\n",
      "\t3. Banana\n",
      "\t4. orange\n",
      "Enter an option:5\n",
      "In this store only 4 kinds of fruits are available. \n",
      " please select 1 or 2 or 3 or 4\n",
      "thank you for using this software for selection\n"
     ]
    }
   ],
   "source": [
    "\"\"\"\n",
    "Fruits avaliable in my shop\n",
    "    1. Mango\n",
    "    2. Apple\n",
    "    3. Banana\n",
    "    4. orange\n",
    "\"\"\"\n",
    "print \"Fruits avaliable in my shop\\n\\t1. Mango\\n\\t2. Apple\\n\\t3. Banana\\n\\t4. orange\"\n",
    "opt=raw_input(\"Enter an option:\")\n",
    "if opt=='1':\n",
    "    print \"MAngos:Good, One kg mango= 60\"\n",
    "if opt=='2':\n",
    "    print \"Apple: Average: one quantity:25\"\n",
    "if opt=='3':\n",
    "    print \"Banana: Good quality: one dozen=50\"\n",
    "if opt=='4':\n",
    "    print \"Orange: Good quality: one quantity=25\"\n",
    "else:\n",
    "    print \"In this store only 4 kinds of fruits are available. \\n please select 1 or 2 or 3 or 4\"\n",
    "print \"thank you for using this software for selection\""
   ]
  },
  {
   "cell_type": "code",
   "execution_count": 32,
   "metadata": {},
   "outputs": [
    {
     "name": "stdout",
     "output_type": "stream",
     "text": [
      "Fruits avaliable in my shop\n",
      "\t1. Mango\n",
      "\t2. Apple\n",
      "\t3. Banana\n",
      "\t4. orange\n",
      "Enter an option:4\n",
      "Orange: Good quality: one quantity=25\n",
      "thank you for using this software for selection\n"
     ]
    }
   ],
   "source": [
    "\"\"\"\n",
    "Fruits avaliable in my shop\n",
    "    1. Mango\n",
    "    2. Apple\n",
    "    3. Banana\n",
    "    4. orange\n",
    "\"\"\"\n",
    "print \"Fruits avaliable in my shop\\n\\t1. Mango\\n\\t2. Apple\\n\\t3. Banana\\n\\t4. orange\"\n",
    "opt=raw_input(\"Enter an option:\")\n",
    "if opt=='1':\n",
    "    print \"MAngos:Good, One kg mango= 60\"\n",
    "if opt=='2':\n",
    "    print \"Apple: Average: one quantity:25\"\n",
    "if opt=='3':\n",
    "    print \"Banana: Good quality: one dozen=50\"\n",
    "if opt=='4':\n",
    "    print \"Orange: Good quality: one quantity=25\"\n",
    "else:\n",
    "    print \"In this store only 4 kinds of fruits are available. \\n please select 1 or 2 or 3 or 4\"\n",
    "print \"thank you for using this software for selection\"\n"
   ]
  },
  {
   "cell_type": "code",
   "execution_count": 33,
   "metadata": {},
   "outputs": [
    {
     "name": "stdout",
     "output_type": "stream",
     "text": [
      "Fruits avaliable in my shop\n",
      "\t1. Mango\n",
      "\t2. Apple\n",
      "\t3. Banana\n",
      "\t4. orange\n",
      "Enter an option:2\n",
      "Apple: Average: one quantity:25\n",
      "In this store only 4 kinds of fruits are available. \n",
      " please select 1 or 2 or 3 or 4\n",
      "thank you for using this software for selection\n"
     ]
    }
   ],
   "source": [
    "\"\"\"\n",
    "Fruits avaliable in my shop\n",
    "    1. Mango\n",
    "    2. Apple\n",
    "    3. Banana\n",
    "    4. orange\n",
    "\"\"\"\n",
    "print \"Fruits avaliable in my shop\\n\\t1. Mango\\n\\t2. Apple\\n\\t3. Banana\\n\\t4. orange\"\n",
    "opt=raw_input(\"Enter an option:\")\n",
    "if opt=='1':\n",
    "    print \"MAngos:Good, One kg mango= 60\"\n",
    "if opt=='2':\n",
    "    print \"Apple: Average: one quantity:25\"\n",
    "if opt=='3':\n",
    "    print \"Banana: Good quality: one dozen=50\"\n",
    "if opt=='4':\n",
    "    print \"Orange: Good quality: one quantity=25\"\n",
    "else:\n",
    "    print \"In this store only 4 kinds of fruits are available. \\n please select 1 or 2 or 3 or 4\"\n",
    "print \"thank you for using this software for selection\"\n"
   ]
  },
  {
   "cell_type": "code",
   "execution_count": 34,
   "metadata": {},
   "outputs": [
    {
     "name": "stdout",
     "output_type": "stream",
     "text": [
      "Fruits avaliable in my shop\n",
      "\t1. Mango\n",
      "\t2. Apple\n",
      "\t3. Banana\n",
      "\t4. orange\n",
      "Enter an option:2\n",
      "Apple: Average: one quantity:25\n",
      "thank you for using this software for selection\n"
     ]
    }
   ],
   "source": [
    "\"\"\"\n",
    "Fruits avaliable in my shop\n",
    "    1. Mango\n",
    "    2. Apple\n",
    "    3. Banana\n",
    "    4. orange\n",
    "\"\"\"\n",
    "print \"Fruits avaliable in my shop\\n\\t1. Mango\\n\\t2. Apple\\n\\t3. Banana\\n\\t4. orange\"\n",
    "opt=raw_input(\"Enter an option:\")\n",
    "if opt=='1':\n",
    "    print \"MAngos:Good, One kg mango= 60\"\n",
    "if opt=='2':\n",
    "    print \"Apple: Average: one quantity:25\"\n",
    "if opt=='3':\n",
    "    print \"Banana: Good quality: one dozen=50\"\n",
    "if opt=='4':\n",
    "    print \"Orange: Good quality: one quantity=25\"\n",
    "if opt>\"4\":\n",
    "    print \"In this store only 4 kinds of fruits are available. \\n please select 1 or 2 or 3 or 4\"\n",
    "print \"thank you for using this software for selection\"\n"
   ]
  },
  {
   "cell_type": "code",
   "execution_count": 35,
   "metadata": {},
   "outputs": [
    {
     "name": "stdout",
     "output_type": "stream",
     "text": [
      "Fruits avaliable in my shop\n",
      "\t1. Mango\n",
      "\t2. Apple\n",
      "\t3. Banana\n",
      "\t4. orange\n",
      "Enter an option:5\n",
      "In this store only 4 kinds of fruits are available. \n",
      " please select 1 or 2 or 3 or 4\n",
      "thank you for using this software for selection\n"
     ]
    }
   ],
   "source": [
    "\"\"\"\n",
    "Fruits avaliable in my shop\n",
    "    1. Mango\n",
    "    2. Apple\n",
    "    3. Banana\n",
    "    4. orange\n",
    "\"\"\"\n",
    "print \"Fruits avaliable in my shop\\n\\t1. Mango\\n\\t2. Apple\\n\\t3. Banana\\n\\t4. orange\"\n",
    "opt=raw_input(\"Enter an option:\")\n",
    "if opt=='1':\n",
    "    print \"MAngos:Good, One kg mango= 60\"\n",
    "if opt=='2':\n",
    "    print \"Apple: Average: one quantity:25\"\n",
    "if opt=='3':\n",
    "    print \"Banana: Good quality: one dozen=50\"\n",
    "if opt=='4':\n",
    "    print \"Orange: Good quality: one quantity=25\"\n",
    "if opt>\"4\":\n",
    "    print \"In this store only 4 kinds of fruits are available. \\n please select 1 or 2 or 3 or 4\"\n",
    "print \"thank you for using this software for selection\"\n"
   ]
  },
  {
   "cell_type": "code",
   "execution_count": 36,
   "metadata": {},
   "outputs": [
    {
     "name": "stdout",
     "output_type": "stream",
     "text": [
      "Fruits avaliable in my shop\n",
      "\t1. Mango\n",
      "\t2. Apple\n",
      "\t3. Banana\n",
      "\t4. orange\n",
      "Enter an option:2\n",
      "Apple: Average: one quantity:25\n",
      "thank you for using this software for selection\n"
     ]
    }
   ],
   "source": [
    "\"\"\"\n",
    "Fruits avaliable in my shop\n",
    "    1. Mango\n",
    "    2. Apple\n",
    "    3. Banana\n",
    "    4. orange\n",
    "\"\"\"\n",
    "print \"Fruits avaliable in my shop\\n\\t1. Mango\\n\\t2. Apple\\n\\t3. Banana\\n\\t4. orange\"\n",
    "opt=raw_input(\"Enter an option:\")\n",
    "if opt=='1':\n",
    "    print \"MAngos:Good, One kg mango= 60\"\n",
    "if opt=='2':\n",
    "    print \"Apple: Average: one quantity:25\"\n",
    "if opt=='3':\n",
    "    print \"Banana: Good quality: one dozen=50\"\n",
    "if opt=='4':\n",
    "    print \"Orange: Good quality: one quantity=25\"\n",
    "if opt>\"4\":\n",
    "    print \"In this store only 4 kinds of fruits are available. \\n please select 1 or 2 or 3 or 4\"\n",
    "print \"thank you for using this software for selection\"\n"
   ]
  },
  {
   "cell_type": "code",
   "execution_count": 38,
   "metadata": {},
   "outputs": [
    {
     "name": "stdout",
     "output_type": "stream",
     "text": [
      "Fruits avaliable in my shop\n",
      "\t1. Mango\n",
      "\t2. Apple\n",
      "\t3. Banana\n",
      "\t4. orange\n",
      "Enter an option:2\n",
      "Apple: Average: one quantity:25\n",
      "thank you for using this software for selection\n"
     ]
    }
   ],
   "source": [
    "\"\"\"\n",
    "Fruits avaliable in my shop\n",
    "    1. Mango\n",
    "    2. Apple\n",
    "    3. Banana\n",
    "    4. orange\n",
    "\"\"\"\n",
    "print \"Fruits avaliable in my shop\\n\\t1. Mango\\n\\t2. Apple\\n\\t3. Banana\\n\\t4. orange\"\n",
    "opt=raw_input(\"Enter an option:\")\n",
    "if opt=='1':\n",
    "    print \"MAngos:Good, One kg mango= 60\"\n",
    "elif opt=='2':\n",
    "    print \"Apple: Average: one quantity:25\"\n",
    "elif opt=='3':\n",
    "    print \"Banana: Good quality: one dozen=50\"\n",
    "elif opt=='4':\n",
    "    print \"Orange: Good quality: one quantity=25\"\n",
    "else:\n",
    "    print \"In this store only 4 kinds of fruits are available. \\n please select 1 or 2 or 3 or 4\"\n",
    "print \"thank you for using this software for selection\"\n"
   ]
  },
  {
   "cell_type": "code",
   "execution_count": 39,
   "metadata": {},
   "outputs": [
    {
     "name": "stdout",
     "output_type": "stream",
     "text": [
      "Welcome to the software\n",
      "enter a value:1\n",
      "Enter b value:2\n",
      "enter c value:3\n",
      "c is big\n",
      "thank you!!!.. Use me again..\n"
     ]
    }
   ],
   "source": [
    "print \"Welcome to the software\"\n",
    "a=raw_input(\"enter a value:\")\n",
    "b=raw_input(\"Enter b value:\")\n",
    "c=raw_input(\"enter c value:\")\n",
    "a=float(a)\n",
    "b=float(b)\n",
    "c=float(c)\n",
    "if a>b and a>c:\n",
    "    print \"a is big\"\n",
    "elif b>a and b>c:\n",
    "    print \"b is big\"\n",
    "elif c>a and c>b:\n",
    "    print \"c is big\"\n",
    "print \"thank you!!!.. Use me again..\"\n"
   ]
  },
  {
   "cell_type": "code",
   "execution_count": 40,
   "metadata": {},
   "outputs": [
    {
     "name": "stdout",
     "output_type": "stream",
     "text": [
      "Welcome to the software\n",
      "enter a value:20\n",
      "Enter b value:2\n",
      "enter c value:1\n",
      "a is big\n",
      "thank you!!!.. Use me again..\n"
     ]
    }
   ],
   "source": [
    "print \"Welcome to the software\"\n",
    "a=raw_input(\"enter a value:\")\n",
    "b=raw_input(\"Enter b value:\")\n",
    "c=raw_input(\"enter c value:\")\n",
    "a=float(a)\n",
    "b=float(b)\n",
    "c=float(c)\n",
    "if a>b and a>c:\n",
    "    print \"a is big\"\n",
    "elif b>a and b>c:\n",
    "    print \"b is big\"\n",
    "elif c>a and c>b:\n",
    "    print \"c is big\"\n",
    "print \"thank you!!!.. Use me again..\"\n"
   ]
  },
  {
   "cell_type": "code",
   "execution_count": 41,
   "metadata": {},
   "outputs": [
    {
     "name": "stdout",
     "output_type": "stream",
     "text": [
      "Welcome to the software\n",
      "enter a value:12\n",
      "Enter b value:34\n",
      "enter c value:23\n",
      "b is big\n",
      "thank you!!!.. Use me again..\n"
     ]
    }
   ],
   "source": [
    "print \"Welcome to the software\"\n",
    "a=raw_input(\"enter a value:\")\n",
    "b=raw_input(\"Enter b value:\")\n",
    "c=raw_input(\"enter c value:\")\n",
    "a=float(a)\n",
    "b=float(b)\n",
    "c=float(c)\n",
    "if a>b and a>c:\n",
    "    print \"a is big\"\n",
    "elif b>a and b>c:\n",
    "    print \"b is big\"\n",
    "elif c>a and c>b:\n",
    "    print \"c is big\"\n",
    "print \"thank you!!!.. Use me again..\"\n"
   ]
  },
  {
   "cell_type": "code",
   "execution_count": 42,
   "metadata": {},
   "outputs": [
    {
     "name": "stdout",
     "output_type": "stream",
     "text": [
      "Welcome to the software\n",
      "enter a value:12\n",
      "Enter b value:34\n",
      "enter c value:25\n",
      "b is big\n",
      "thank you!!!.. Use me again..\n"
     ]
    }
   ],
   "source": [
    "print \"Welcome to the software\"\n",
    "a=raw_input(\"enter a value:\")\n",
    "b=raw_input(\"Enter b value:\")\n",
    "c=raw_input(\"enter c value:\")\n",
    "a=float(a)\n",
    "b=float(b)\n",
    "c=float(c)\n",
    "if a>b:\n",
    "    if a>c:\n",
    "        print \"a is big\"\n",
    "elif b>a:\n",
    "    if b>c:\n",
    "        print \"b is big\"\n",
    "else:\n",
    "    print \"c is big\"\n",
    "print \"thank you!!!.. Use me again..\"\n"
   ]
  },
  {
   "cell_type": "code",
   "execution_count": 45,
   "metadata": {},
   "outputs": [
    {
     "name": "stdout",
     "output_type": "stream",
     "text": [
      "Enter s value:qwerty\n",
      "6\n"
     ]
    }
   ],
   "source": [
    "s=raw_input(\"Enter s value:\")\n",
    "print len(s)"
   ]
  },
  {
   "cell_type": "code",
   "execution_count": 46,
   "metadata": {},
   "outputs": [
    {
     "name": "stdout",
     "output_type": "stream",
     "text": [
      "Enter s value:\n",
      "0\n"
     ]
    }
   ],
   "source": [
    "s=raw_input(\"Enter s value:\")\n",
    "print len(s)"
   ]
  },
  {
   "cell_type": "code",
   "execution_count": 47,
   "metadata": {},
   "outputs": [
    {
     "name": "stdout",
     "output_type": "stream",
     "text": [
      "Welcome to the software\n",
      "enter a value:12\n",
      "Enter b value:12\n",
      "enter c value:3\n",
      "thank you!!!.. Use me again..\n"
     ]
    }
   ],
   "source": [
    "print \"Welcome to the software\"\n",
    "a=raw_input(\"enter a value:\")\n",
    "b=raw_input(\"Enter b value:\")\n",
    "c=raw_input(\"enter c value:\")\n",
    "a=float(a)\n",
    "b=float(b)\n",
    "c=float(c)\n",
    "if a>b and a>c:\n",
    "    print \"a is big\"\n",
    "elif b>a and b>c:\n",
    "    print \"b is big\"\n",
    "elif c>a and c>b:\n",
    "    print \"c is big\"\n",
    "print \"thank you!!!.. Use me again..\"\n"
   ]
  },
  {
   "cell_type": "code",
   "execution_count": 49,
   "metadata": {},
   "outputs": [
    {
     "name": "stdout",
     "output_type": "stream",
     "text": [
      "Welcome to the software\n",
      "enter a value:12\n",
      "Enter b value:12\n",
      "enter c value:3\n",
      "a is big\n",
      "thank you!!!.. Use me again..\n"
     ]
    }
   ],
   "source": [
    "print \"Welcome to the software\"\n",
    "a=raw_input(\"enter a value:\")\n",
    "b=raw_input(\"Enter b value:\")\n",
    "c=raw_input(\"enter c value:\")\n",
    "a=float(a)\n",
    "b=float(b)\n",
    "c=float(c)\n",
    "if a>=b and a>=c:\n",
    "    print \"a is big\"\n",
    "elif b>=a and b>=c:\n",
    "    print \"b is big\"\n",
    "elif c>=a and c>=b:\n",
    "    print \"c is big\"\n",
    "print \"thank you!!!.. Use me again..\"\n"
   ]
  },
  {
   "cell_type": "code",
   "execution_count": 50,
   "metadata": {},
   "outputs": [
    {
     "name": "stdout",
     "output_type": "stream",
     "text": [
      "Welcome to the software\n",
      "enter a value:12\n",
      "Enter b value:12\n",
      "enter c value:12\n",
      "a is big\n",
      "thank you!!!.. Use me again..\n"
     ]
    }
   ],
   "source": [
    "print \"Welcome to the software\"\n",
    "a=raw_input(\"enter a value:\")\n",
    "b=raw_input(\"Enter b value:\")\n",
    "c=raw_input(\"enter c value:\")\n",
    "a=float(a)\n",
    "b=float(b)\n",
    "c=float(c)\n",
    "if a>=b and a>=c:\n",
    "    print \"a is big\"\n",
    "elif b>=a and b>=c:\n",
    "    print \"b is big\"\n",
    "elif c>=a and c>=b:\n",
    "    print \"c is big\"\n",
    "print \"thank you!!!.. Use me again..\"\n"
   ]
  },
  {
   "cell_type": "code",
   "execution_count": 51,
   "metadata": {},
   "outputs": [
    {
     "name": "stdout",
     "output_type": "stream",
     "text": [
      "Welcome to the software\n",
      "enter a value:12\n",
      "Enter b value:34\n",
      "enter c value:25\n",
      "b is big\n",
      "thank you!!!.. Use me again..\n"
     ]
    }
   ],
   "source": [
    "print \"Welcome to the software\"\n",
    "a=raw_input(\"enter a value:\")\n",
    "b=raw_input(\"Enter b value:\")\n",
    "c=raw_input(\"enter c value:\")\n",
    "a=float(a)\n",
    "b=float(b)\n",
    "c=float(c)\n",
    "if a>=b and a>=c:\n",
    "    print \"a is big\"\n",
    "elif b>=a and b>=c:\n",
    "    print \"b is big\"\n",
    "elif c>=a and c>=b:\n",
    "    print \"c is big\"\n",
    "print \"thank you!!!.. Use me again..\"\n"
   ]
  },
  {
   "cell_type": "code",
   "execution_count": 52,
   "metadata": {},
   "outputs": [
    {
     "name": "stdout",
     "output_type": "stream",
     "text": [
      "Welcome to the software\n",
      "enter a value:12\n",
      "Enter b value:34\n",
      "enter c value:12\n",
      "b is big\n",
      "thank you!!!.. Use me again..\n"
     ]
    }
   ],
   "source": [
    "print \"Welcome to the software\"\n",
    "a=raw_input(\"enter a value:\")\n",
    "b=raw_input(\"Enter b value:\")\n",
    "c=raw_input(\"enter c value:\")\n",
    "a=float(a)\n",
    "b=float(b)\n",
    "c=float(c)\n",
    "if a>=b and a>=c:\n",
    "    print \"a is big\"\n",
    "elif b>=a and b>=c:\n",
    "    print \"b is big\"\n",
    "elif c>=a and c>=b:\n",
    "    print \"c is big\"\n",
    "print \"thank you!!!.. Use me again..\"\n"
   ]
  },
  {
   "cell_type": "code",
   "execution_count": 53,
   "metadata": {},
   "outputs": [
    {
     "name": "stdout",
     "output_type": "stream",
     "text": [
      "Welcome to the software\n",
      "enter a value:12\n",
      "Enter b value:12\n",
      "enter c value:12\n",
      "all are equal\n",
      "thank you!!!.. Use me again..\n"
     ]
    }
   ],
   "source": [
    "print \"Welcome to the software\"\n",
    "a=raw_input(\"enter a value:\")\n",
    "b=raw_input(\"Enter b value:\")\n",
    "c=raw_input(\"enter c value:\")\n",
    "a=float(a)\n",
    "b=float(b)\n",
    "c=float(c)\n",
    "if a==b and b==a and a==c:\n",
    "    print \"all are equal\"\n",
    "else:\n",
    "    if a==b:\n",
    "        print \"a and b are equal\"\n",
    "    if a==c:\n",
    "        print \" a and c a re equal\"\n",
    "    if b==c:\n",
    "        print \"b and c are equal\"\n",
    "        \n",
    "    if a>=b and a>=c:\n",
    "        print \"a is big\"\n",
    "    elif b>=a and b>=c:\n",
    "        print \"b is big\"\n",
    "    elif c>=a and c>=b:\n",
    "        print \"c is big\"\n",
    "print \"thank you!!!.. Use me again..\"\n"
   ]
  },
  {
   "cell_type": "code",
   "execution_count": 54,
   "metadata": {},
   "outputs": [
    {
     "name": "stdout",
     "output_type": "stream",
     "text": [
      "Welcome to the software\n",
      "enter a value:12\n",
      "Enter b value:12\n",
      "enter c value:3\n",
      "a and b are equal\n",
      "a is big\n",
      "thank you!!!.. Use me again..\n"
     ]
    }
   ],
   "source": [
    "print \"Welcome to the software\"\n",
    "a=raw_input(\"enter a value:\")\n",
    "b=raw_input(\"Enter b value:\")\n",
    "c=raw_input(\"enter c value:\")\n",
    "a=float(a)\n",
    "b=float(b)\n",
    "c=float(c)\n",
    "if a==b and b==a and a==c:\n",
    "    print \"all are equal\"\n",
    "else:\n",
    "    if a==b:\n",
    "        print \"a and b are equal\"\n",
    "    if a==c:\n",
    "        print \" a and c a re equal\"\n",
    "    if b==c:\n",
    "        print \"b and c are equal\"\n",
    "        \n",
    "    if a>=b and a>=c:\n",
    "        print \"a is big\"\n",
    "    elif b>=a and b>=c:\n",
    "        print \"b is big\"\n",
    "    elif c>=a and c>=b:\n",
    "        print \"c is big\"\n",
    "print \"thank you!!!.. Use me again..\"\n"
   ]
  },
  {
   "cell_type": "code",
   "execution_count": 55,
   "metadata": {},
   "outputs": [
    {
     "name": "stdout",
     "output_type": "stream",
     "text": [
      "Welcome to the software\n",
      "enter a value:12\n",
      "Enter b value:3\n",
      "enter c value:12\n",
      " a and c a re equal\n",
      "a is big\n",
      "thank you!!!.. Use me again..\n"
     ]
    }
   ],
   "source": [
    "print \"Welcome to the software\"\n",
    "a=raw_input(\"enter a value:\")\n",
    "b=raw_input(\"Enter b value:\")\n",
    "c=raw_input(\"enter c value:\")\n",
    "a=float(a)\n",
    "b=float(b)\n",
    "c=float(c)\n",
    "if a==b and b==a and a==c:\n",
    "    print \"all are equal\"\n",
    "else:\n",
    "    if a==b:\n",
    "        print \"a and b are equal\"\n",
    "    if a==c:\n",
    "        print \" a and c a re equal\"\n",
    "    if b==c:\n",
    "        print \"b and c are equal\"\n",
    "        \n",
    "    if a>=b and a>=c:\n",
    "        print \"a is big\"\n",
    "    elif b>=a and b>=c:\n",
    "        print \"b is big\"\n",
    "    elif c>=a and c>=b:\n",
    "        print \"c is big\"\n",
    "print \"thank you!!!.. Use me again..\"\n"
   ]
  },
  {
   "cell_type": "code",
   "execution_count": 56,
   "metadata": {},
   "outputs": [
    {
     "name": "stdout",
     "output_type": "stream",
     "text": [
      "Welcome to the software\n",
      "enter a value:12\n",
      "Enter b value:20\n",
      "enter c value:3\n",
      "b is big\n",
      "thank you!!!.. Use me again..\n"
     ]
    }
   ],
   "source": [
    "print \"Welcome to the software\"\n",
    "a=raw_input(\"enter a value:\")\n",
    "b=raw_input(\"Enter b value:\")\n",
    "c=raw_input(\"enter c value:\")\n",
    "a=float(a)\n",
    "b=float(b)\n",
    "c=float(c)\n",
    "if a==b and b==a and a==c:\n",
    "    print \"all are equal\"\n",
    "else:\n",
    "    if a==b:\n",
    "        print \"a and b are equal\"\n",
    "    if a==c:\n",
    "        print \" a and c a re equal\"\n",
    "    if b==c:\n",
    "        print \"b and c are equal\"\n",
    "        \n",
    "    if a>=b and a>=c:\n",
    "        print \"a is big\"\n",
    "    elif b>=a and b>=c:\n",
    "        print \"b is big\"\n",
    "    elif c>=a and c>=b:\n",
    "        print \"c is big\"\n",
    "print \"thank you!!!.. Use me again..\"\n"
   ]
  },
  {
   "cell_type": "code",
   "execution_count": null,
   "metadata": {
    "collapsed": true
   },
   "outputs": [],
   "source": []
  }
 ],
 "metadata": {
  "kernelspec": {
   "display_name": "Python 2",
   "language": "python",
   "name": "python2"
  },
  "language_info": {
   "codemirror_mode": {
    "name": "ipython",
    "version": 2
   },
   "file_extension": ".py",
   "mimetype": "text/x-python",
   "name": "python",
   "nbconvert_exporter": "python",
   "pygments_lexer": "ipython2",
   "version": "2.7.14"
  }
 },
 "nbformat": 4,
 "nbformat_minor": 2
}
